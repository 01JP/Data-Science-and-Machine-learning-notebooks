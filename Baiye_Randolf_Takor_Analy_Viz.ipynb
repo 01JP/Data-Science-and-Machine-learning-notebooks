{
  "nbformat": 4,
  "nbformat_minor": 0,
  "metadata": {
    "colab": {
      "name": "Baiye_Randolf_Takor_Analy-Viz.ipynb",
      "provenance": [],
      "collapsed_sections": []
    },
    "kernelspec": {
      "name": "python3",
      "display_name": "Python 3"
    }
  },
  "cells": [
    {
      "cell_type": "markdown",
      "metadata": {
        "id": "00IJ1Sz_-o2P"
      },
      "source": [
        "# Overview\n",
        "Throughout this assignment, you will be performing certain well-defined tasks that’ll not only strengthen your concepts of Plotly and Dash, but will also help you learn a number of new concepts that are useful in analyzing, summarizing and visualizing data in the real world. \n",
        "\n",
        "Here is a template notebook with all the tasks mentioned in detail. **Please complete the tasks within the designated section only.**\n"
      ]
    },
    {
      "cell_type": "markdown",
      "metadata": {
        "id": "ZTfhIScP_AHG"
      },
      "source": [
        "## Task 1: Data Loading and Data Aggregation\n",
        "* Load the 3 data files into the variables data_18, data_19, data_20. \n",
        "\n",
        "* Data aggregation is the process of gathering data and presenting it in a summarized format. The data may be gathered from multiple data sources with the intent of combining these data sources into a summary for data analysis.         \n",
        "Similar to how this dataset involves 3 data files, you’ll often be working on combining information from 2 or more files and analysing it. More often than not, GroupBy is a very useful tool for this purpose. \n",
        "\n",
        "  Go through this article to learn more some helpful aggregation tools in Python: https://www.bmc.com/blogs/pandas-group-merge-concatenate-join/ \n",
        "\n",
        "  **You don't need to aggregate/ merge the datasets in this assignment, it is only for reading purposes.**"
      ]
    },
    {
      "cell_type": "code",
      "metadata": {
        "id": "dJJ-zNZl-HzF"
      },
      "source": [
        "import pandas as pd \n",
        "data_18=pd.read_csv('https://raw.githubusercontent.com/dphi-official/Datasets/master/IT_Salary_Survey_EU_18-20/Survey_2018.csv')  \n",
        "data_19=pd.read_csv('https://raw.githubusercontent.com/dphi-official/Datasets/master/IT_Salary_Survey_EU_18-20/Survey_2019.csv')  \n",
        "data_20= pd.read_csv('https://raw.githubusercontent.com/dphi-official/Datasets/master/IT_Salary_Survey_EU_18-20/Survey_2020.csv') "
      ],
      "execution_count": 1,
      "outputs": []
    },
    {
      "cell_type": "markdown",
      "metadata": {
        "id": "Bfin9S4pACEA"
      },
      "source": [
        "## Task 2: Data Analysis\n",
        "* Display the first 5 rows of the 2018 survey data\n",
        "* Display a concise summary of the 2020 data and list out 3 observations/inferences that you observe from the result. For this you will need to use the info() method.\n",
        "* Display the descriptive statistics of the 2018 survey data\n",
        "* Display the number of missing values in each column of the 2018 survey data\n",
        "How many people responded to the survey in each of the 3 years? Has the number increased or decreased over the years?\n",
        "* Display all the unique values and their frequency in the column - “Number of vacation days” of 2020 data. Write down your observations (at least one) for this result. \n"
      ]
    },
    {
      "cell_type": "code",
      "metadata": {
        "id": "I0uRKB6QAW3O",
        "colab": {
          "base_uri": "https://localhost:8080/",
          "height": 380
        },
        "outputId": "e956b2be-e032-403f-c8bc-c1ab42ad6cd6"
      },
      "source": [
        "# first five rows of 2018 survey\n",
        "data_18.head()"
      ],
      "execution_count": 2,
      "outputs": [
        {
          "output_type": "execute_result",
          "data": {
            "text/html": [
              "<div>\n",
              "<style scoped>\n",
              "    .dataframe tbody tr th:only-of-type {\n",
              "        vertical-align: middle;\n",
              "    }\n",
              "\n",
              "    .dataframe tbody tr th {\n",
              "        vertical-align: top;\n",
              "    }\n",
              "\n",
              "    .dataframe thead th {\n",
              "        text-align: right;\n",
              "    }\n",
              "</style>\n",
              "<table border=\"1\" class=\"dataframe\">\n",
              "  <thead>\n",
              "    <tr style=\"text-align: right;\">\n",
              "      <th></th>\n",
              "      <th>Timestamp</th>\n",
              "      <th>Age</th>\n",
              "      <th>Gender</th>\n",
              "      <th>City</th>\n",
              "      <th>Position</th>\n",
              "      <th>Years of experience</th>\n",
              "      <th>Your level</th>\n",
              "      <th>Current Salary</th>\n",
              "      <th>Salary one year ago</th>\n",
              "      <th>Salary two years ago</th>\n",
              "      <th>Are you getting any Stock Options?</th>\n",
              "      <th>Main language at work</th>\n",
              "      <th>Company size</th>\n",
              "      <th>Company type</th>\n",
              "    </tr>\n",
              "  </thead>\n",
              "  <tbody>\n",
              "    <tr>\n",
              "      <th>0</th>\n",
              "      <td>14/12/2018 12:41:33</td>\n",
              "      <td>43.0</td>\n",
              "      <td>M</td>\n",
              "      <td>München</td>\n",
              "      <td>QA Ingenieur</td>\n",
              "      <td>11.0</td>\n",
              "      <td>Senior</td>\n",
              "      <td>77000.0</td>\n",
              "      <td>76200.0</td>\n",
              "      <td>68000.0</td>\n",
              "      <td>No</td>\n",
              "      <td>Deutsch</td>\n",
              "      <td>100-1000</td>\n",
              "      <td>Product</td>\n",
              "    </tr>\n",
              "    <tr>\n",
              "      <th>1</th>\n",
              "      <td>14/12/2018 12:42:09</td>\n",
              "      <td>33.0</td>\n",
              "      <td>F</td>\n",
              "      <td>München</td>\n",
              "      <td>Senior PHP Magento developer</td>\n",
              "      <td>8.0</td>\n",
              "      <td>Senior</td>\n",
              "      <td>65000.0</td>\n",
              "      <td>55000.0</td>\n",
              "      <td>55000.0</td>\n",
              "      <td>No</td>\n",
              "      <td>Deutsch</td>\n",
              "      <td>50-100</td>\n",
              "      <td>Product</td>\n",
              "    </tr>\n",
              "    <tr>\n",
              "      <th>2</th>\n",
              "      <td>14/12/2018 12:47:36</td>\n",
              "      <td>32.0</td>\n",
              "      <td>M</td>\n",
              "      <td>München</td>\n",
              "      <td>Software Engineer</td>\n",
              "      <td>10.0</td>\n",
              "      <td>Senior</td>\n",
              "      <td>88000.0</td>\n",
              "      <td>73000.0</td>\n",
              "      <td>54000.0</td>\n",
              "      <td>No</td>\n",
              "      <td>Deutsch</td>\n",
              "      <td>1000+</td>\n",
              "      <td>Product</td>\n",
              "    </tr>\n",
              "    <tr>\n",
              "      <th>3</th>\n",
              "      <td>14/12/2018 12:50:15</td>\n",
              "      <td>25.0</td>\n",
              "      <td>M</td>\n",
              "      <td>München</td>\n",
              "      <td>Senior Frontend Developer</td>\n",
              "      <td>6.0</td>\n",
              "      <td>Senior</td>\n",
              "      <td>78000.0</td>\n",
              "      <td>55000.0</td>\n",
              "      <td>45000.0</td>\n",
              "      <td>Yes</td>\n",
              "      <td>English</td>\n",
              "      <td>1000+</td>\n",
              "      <td>Product</td>\n",
              "    </tr>\n",
              "    <tr>\n",
              "      <th>4</th>\n",
              "      <td>14/12/2018 12:50:31</td>\n",
              "      <td>39.0</td>\n",
              "      <td>M</td>\n",
              "      <td>München</td>\n",
              "      <td>UX Designer</td>\n",
              "      <td>10.0</td>\n",
              "      <td>Senior</td>\n",
              "      <td>69000.0</td>\n",
              "      <td>60000.0</td>\n",
              "      <td>52000.0</td>\n",
              "      <td>No</td>\n",
              "      <td>English</td>\n",
              "      <td>100-1000</td>\n",
              "      <td>Ecom retailer</td>\n",
              "    </tr>\n",
              "  </tbody>\n",
              "</table>\n",
              "</div>"
            ],
            "text/plain": [
              "             Timestamp   Age  ... Company size   Company type\n",
              "0  14/12/2018 12:41:33  43.0  ...     100-1000        Product\n",
              "1  14/12/2018 12:42:09  33.0  ...       50-100        Product\n",
              "2  14/12/2018 12:47:36  32.0  ...        1000+        Product\n",
              "3  14/12/2018 12:50:15  25.0  ...        1000+        Product\n",
              "4  14/12/2018 12:50:31  39.0  ...     100-1000  Ecom retailer\n",
              "\n",
              "[5 rows x 14 columns]"
            ]
          },
          "metadata": {
            "tags": []
          },
          "execution_count": 2
        }
      ]
    },
    {
      "cell_type": "code",
      "metadata": {
        "colab": {
          "base_uri": "https://localhost:8080/"
        },
        "id": "mfG-YjWX5zJ6",
        "outputId": "01211a82-73ba-4c9a-8660-76009d003d61"
      },
      "source": [
        "# summary of 2020 survey \n",
        "data_20.info()"
      ],
      "execution_count": 3,
      "outputs": [
        {
          "output_type": "stream",
          "text": [
            "<class 'pandas.core.frame.DataFrame'>\n",
            "RangeIndex: 1253 entries, 0 to 1252\n",
            "Data columns (total 23 columns):\n",
            " #   Column                                                                                                                   Non-Null Count  Dtype  \n",
            "---  ------                                                                                                                   --------------  -----  \n",
            " 0   Timestamp                                                                                                                1253 non-null   object \n",
            " 1   Age                                                                                                                      1226 non-null   float64\n",
            " 2   Gender                                                                                                                   1243 non-null   object \n",
            " 3   City                                                                                                                     1253 non-null   object \n",
            " 4   Position                                                                                                                 1247 non-null   object \n",
            " 5   Total years of experience                                                                                                1237 non-null   object \n",
            " 6   Years of experience in Germany                                                                                           1221 non-null   object \n",
            " 7   Seniority level                                                                                                          1241 non-null   object \n",
            " 8   Your main technology / programming language                                                                              1126 non-null   object \n",
            " 9   Other technologies/programming languages you use often                                                                   1096 non-null   object \n",
            " 10  Yearly brutto salary (without bonus and stocks) in EUR                                                                   1253 non-null   float64\n",
            " 11  Yearly bonus + stocks in EUR                                                                                             829 non-null    object \n",
            " 12  Annual brutto salary (without bonus and stocks) one year ago. Only answer if staying in the same country                 885 non-null    float64\n",
            " 13  Annual bonus+stocks one year ago. Only answer if staying in same country                                                 614 non-null    object \n",
            " 14  Number of vacation days                                                                                                  1185 non-null   object \n",
            " 15  Employment status                                                                                                        1236 non-null   object \n",
            " 16  Сontract duration                                                                                                        1224 non-null   object \n",
            " 17  Main language at work                                                                                                    1237 non-null   object \n",
            " 18  Company size                                                                                                             1235 non-null   object \n",
            " 19  Company type                                                                                                             1228 non-null   object \n",
            " 20  Have you lost your job due to the coronavirus outbreak?                                                                  1233 non-null   object \n",
            " 21  Have you been forced to have a shorter working week (Kurzarbeit)? If yes, how many hours per week                        373 non-null    float64\n",
            " 22  Have you received additional monetary support from your employer due to Work From Home? If yes, how much in 2020 in EUR  462 non-null    object \n",
            "dtypes: float64(4), object(19)\n",
            "memory usage: 225.3+ KB\n"
          ],
          "name": "stdout"
        }
      ]
    },
    {
      "cell_type": "markdown",
      "metadata": {
        "id": "Ob1YPu8Y7rO1"
      },
      "source": [
        "\n",
        "\n",
        "*   The data types are either string(object) or float \n",
        "*   All columns except Timestamp,City ,Yearly brutto salary have missing data\n",
        "*   Memory usage is 225.3 KB\n",
        "*   \n",
        "\n",
        "\n",
        "\n"
      ]
    },
    {
      "cell_type": "code",
      "metadata": {
        "colab": {
          "base_uri": "https://localhost:8080/",
          "height": 501
        },
        "id": "YM5a2G-gBOS7",
        "outputId": "cdaba635-9365-49c0-cdf7-77204bee84d3"
      },
      "source": [
        "# statistical description\n",
        "data_18.describe(include='all')"
      ],
      "execution_count": 4,
      "outputs": [
        {
          "output_type": "execute_result",
          "data": {
            "text/html": [
              "<div>\n",
              "<style scoped>\n",
              "    .dataframe tbody tr th:only-of-type {\n",
              "        vertical-align: middle;\n",
              "    }\n",
              "\n",
              "    .dataframe tbody tr th {\n",
              "        vertical-align: top;\n",
              "    }\n",
              "\n",
              "    .dataframe thead th {\n",
              "        text-align: right;\n",
              "    }\n",
              "</style>\n",
              "<table border=\"1\" class=\"dataframe\">\n",
              "  <thead>\n",
              "    <tr style=\"text-align: right;\">\n",
              "      <th></th>\n",
              "      <th>Timestamp</th>\n",
              "      <th>Age</th>\n",
              "      <th>Gender</th>\n",
              "      <th>City</th>\n",
              "      <th>Position</th>\n",
              "      <th>Years of experience</th>\n",
              "      <th>Your level</th>\n",
              "      <th>Current Salary</th>\n",
              "      <th>Salary one year ago</th>\n",
              "      <th>Salary two years ago</th>\n",
              "      <th>Are you getting any Stock Options?</th>\n",
              "      <th>Main language at work</th>\n",
              "      <th>Company size</th>\n",
              "      <th>Company type</th>\n",
              "    </tr>\n",
              "  </thead>\n",
              "  <tbody>\n",
              "    <tr>\n",
              "      <th>count</th>\n",
              "      <td>765</td>\n",
              "      <td>672.000000</td>\n",
              "      <td>751</td>\n",
              "      <td>736</td>\n",
              "      <td>737</td>\n",
              "      <td>732.000000</td>\n",
              "      <td>743</td>\n",
              "      <td>750.000000</td>\n",
              "      <td>596.000000</td>\n",
              "      <td>463.000000</td>\n",
              "      <td>742</td>\n",
              "      <td>750</td>\n",
              "      <td>750</td>\n",
              "      <td>730</td>\n",
              "    </tr>\n",
              "    <tr>\n",
              "      <th>unique</th>\n",
              "      <td>761</td>\n",
              "      <td>NaN</td>\n",
              "      <td>2</td>\n",
              "      <td>74</td>\n",
              "      <td>397</td>\n",
              "      <td>NaN</td>\n",
              "      <td>3</td>\n",
              "      <td>NaN</td>\n",
              "      <td>NaN</td>\n",
              "      <td>NaN</td>\n",
              "      <td>2</td>\n",
              "      <td>7</td>\n",
              "      <td>5</td>\n",
              "      <td>49</td>\n",
              "    </tr>\n",
              "    <tr>\n",
              "      <th>top</th>\n",
              "      <td>14/12/2018 12:53:47</td>\n",
              "      <td>NaN</td>\n",
              "      <td>M</td>\n",
              "      <td>Berlin</td>\n",
              "      <td>Java Developer</td>\n",
              "      <td>NaN</td>\n",
              "      <td>Senior</td>\n",
              "      <td>NaN</td>\n",
              "      <td>NaN</td>\n",
              "      <td>NaN</td>\n",
              "      <td>No</td>\n",
              "      <td>English</td>\n",
              "      <td>100-1000</td>\n",
              "      <td>Product</td>\n",
              "    </tr>\n",
              "    <tr>\n",
              "      <th>freq</th>\n",
              "      <td>2</td>\n",
              "      <td>NaN</td>\n",
              "      <td>646</td>\n",
              "      <td>291</td>\n",
              "      <td>34</td>\n",
              "      <td>NaN</td>\n",
              "      <td>497</td>\n",
              "      <td>NaN</td>\n",
              "      <td>NaN</td>\n",
              "      <td>NaN</td>\n",
              "      <td>587</td>\n",
              "      <td>581</td>\n",
              "      <td>260</td>\n",
              "      <td>451</td>\n",
              "    </tr>\n",
              "    <tr>\n",
              "      <th>mean</th>\n",
              "      <td>NaN</td>\n",
              "      <td>32.183036</td>\n",
              "      <td>NaN</td>\n",
              "      <td>NaN</td>\n",
              "      <td>NaN</td>\n",
              "      <td>8.548497</td>\n",
              "      <td>NaN</td>\n",
              "      <td>68381.765333</td>\n",
              "      <td>62187.278523</td>\n",
              "      <td>58013.475162</td>\n",
              "      <td>NaN</td>\n",
              "      <td>NaN</td>\n",
              "      <td>NaN</td>\n",
              "      <td>NaN</td>\n",
              "    </tr>\n",
              "    <tr>\n",
              "      <th>std</th>\n",
              "      <td>NaN</td>\n",
              "      <td>5.107268</td>\n",
              "      <td>NaN</td>\n",
              "      <td>NaN</td>\n",
              "      <td>NaN</td>\n",
              "      <td>4.729557</td>\n",
              "      <td>NaN</td>\n",
              "      <td>21196.306557</td>\n",
              "      <td>20163.008663</td>\n",
              "      <td>20413.048908</td>\n",
              "      <td>NaN</td>\n",
              "      <td>NaN</td>\n",
              "      <td>NaN</td>\n",
              "      <td>NaN</td>\n",
              "    </tr>\n",
              "    <tr>\n",
              "      <th>min</th>\n",
              "      <td>NaN</td>\n",
              "      <td>21.000000</td>\n",
              "      <td>NaN</td>\n",
              "      <td>NaN</td>\n",
              "      <td>NaN</td>\n",
              "      <td>0.000000</td>\n",
              "      <td>NaN</td>\n",
              "      <td>10300.000000</td>\n",
              "      <td>10001.000000</td>\n",
              "      <td>10001.000000</td>\n",
              "      <td>NaN</td>\n",
              "      <td>NaN</td>\n",
              "      <td>NaN</td>\n",
              "      <td>NaN</td>\n",
              "    </tr>\n",
              "    <tr>\n",
              "      <th>25%</th>\n",
              "      <td>NaN</td>\n",
              "      <td>29.000000</td>\n",
              "      <td>NaN</td>\n",
              "      <td>NaN</td>\n",
              "      <td>NaN</td>\n",
              "      <td>5.000000</td>\n",
              "      <td>NaN</td>\n",
              "      <td>57000.000000</td>\n",
              "      <td>52000.000000</td>\n",
              "      <td>48000.000000</td>\n",
              "      <td>NaN</td>\n",
              "      <td>NaN</td>\n",
              "      <td>NaN</td>\n",
              "      <td>NaN</td>\n",
              "    </tr>\n",
              "    <tr>\n",
              "      <th>50%</th>\n",
              "      <td>NaN</td>\n",
              "      <td>32.000000</td>\n",
              "      <td>NaN</td>\n",
              "      <td>NaN</td>\n",
              "      <td>NaN</td>\n",
              "      <td>8.000000</td>\n",
              "      <td>NaN</td>\n",
              "      <td>65000.000000</td>\n",
              "      <td>60000.000000</td>\n",
              "      <td>56000.000000</td>\n",
              "      <td>NaN</td>\n",
              "      <td>NaN</td>\n",
              "      <td>NaN</td>\n",
              "      <td>NaN</td>\n",
              "    </tr>\n",
              "    <tr>\n",
              "      <th>75%</th>\n",
              "      <td>NaN</td>\n",
              "      <td>35.000000</td>\n",
              "      <td>NaN</td>\n",
              "      <td>NaN</td>\n",
              "      <td>NaN</td>\n",
              "      <td>11.000000</td>\n",
              "      <td>NaN</td>\n",
              "      <td>75000.000000</td>\n",
              "      <td>70000.000000</td>\n",
              "      <td>67000.000000</td>\n",
              "      <td>NaN</td>\n",
              "      <td>NaN</td>\n",
              "      <td>NaN</td>\n",
              "      <td>NaN</td>\n",
              "    </tr>\n",
              "    <tr>\n",
              "      <th>max</th>\n",
              "      <td>NaN</td>\n",
              "      <td>60.000000</td>\n",
              "      <td>NaN</td>\n",
              "      <td>NaN</td>\n",
              "      <td>NaN</td>\n",
              "      <td>38.000000</td>\n",
              "      <td>NaN</td>\n",
              "      <td>200000.000000</td>\n",
              "      <td>200000.000000</td>\n",
              "      <td>150000.000000</td>\n",
              "      <td>NaN</td>\n",
              "      <td>NaN</td>\n",
              "      <td>NaN</td>\n",
              "      <td>NaN</td>\n",
              "    </tr>\n",
              "  </tbody>\n",
              "</table>\n",
              "</div>"
            ],
            "text/plain": [
              "                  Timestamp         Age  ... Company size Company type\n",
              "count                   765  672.000000  ...          750          730\n",
              "unique                  761         NaN  ...            5           49\n",
              "top     14/12/2018 12:53:47         NaN  ...     100-1000      Product\n",
              "freq                      2         NaN  ...          260          451\n",
              "mean                    NaN   32.183036  ...          NaN          NaN\n",
              "std                     NaN    5.107268  ...          NaN          NaN\n",
              "min                     NaN   21.000000  ...          NaN          NaN\n",
              "25%                     NaN   29.000000  ...          NaN          NaN\n",
              "50%                     NaN   32.000000  ...          NaN          NaN\n",
              "75%                     NaN   35.000000  ...          NaN          NaN\n",
              "max                     NaN   60.000000  ...          NaN          NaN\n",
              "\n",
              "[11 rows x 14 columns]"
            ]
          },
          "metadata": {
            "tags": []
          },
          "execution_count": 4
        }
      ]
    },
    {
      "cell_type": "code",
      "metadata": {
        "colab": {
          "base_uri": "https://localhost:8080/"
        },
        "id": "9pUSjtalDkhe",
        "outputId": "9f01603e-e18c-4a0d-9e65-49888a0259ba"
      },
      "source": [
        "# checking missing values for each column in the 2018 data\n",
        "data_18.isnull().sum()"
      ],
      "execution_count": 5,
      "outputs": [
        {
          "output_type": "execute_result",
          "data": {
            "text/plain": [
              "Timestamp                               0\n",
              "Age                                    93\n",
              "Gender                                 14\n",
              "City                                   29\n",
              "Position                               28\n",
              "Years of experience                    33\n",
              "Your level                             22\n",
              "Current Salary                         15\n",
              "Salary one year ago                   169\n",
              "Salary two years ago                  302\n",
              "Are you getting any Stock Options?     23\n",
              "Main language at work                  15\n",
              "Company size                           15\n",
              "Company type                           35\n",
              "dtype: int64"
            ]
          },
          "metadata": {
            "tags": []
          },
          "execution_count": 5
        }
      ]
    },
    {
      "cell_type": "code",
      "metadata": {
        "colab": {
          "base_uri": "https://localhost:8080/"
        },
        "id": "A79WOvPyEOEI",
        "outputId": "548d04e3-89a0-4392-b7d4-fc128a4e50fa"
      },
      "source": [
        "# investigating the numner of entries ( rows) in each year \n",
        "print(data_18.shape)\n",
        "print(data_19.shape)\n",
        "print(data_20.shape)"
      ],
      "execution_count": 6,
      "outputs": [
        {
          "output_type": "stream",
          "text": [
            "(765, 14)\n",
            "(991, 23)\n",
            "(1253, 23)\n"
          ],
          "name": "stdout"
        }
      ]
    },
    {
      "cell_type": "markdown",
      "metadata": {
        "id": "VwjX4_GBEtex"
      },
      "source": [
        "The number of respondents increased yearly from 765 in 2018 through 991 in 2019 to 1253 in 2020"
      ]
    },
    {
      "cell_type": "code",
      "metadata": {
        "colab": {
          "base_uri": "https://localhost:8080/"
        },
        "id": "JLOvcpVmE9bo",
        "outputId": "c9c621f1-f12d-49c5-c7a4-98379c3afc0f"
      },
      "source": [
        "# unique values and frequencies \n",
        "data_20['Number of vacation days'].value_counts()"
      ],
      "execution_count": 7,
      "outputs": [
        {
          "output_type": "execute_result",
          "data": {
            "text/plain": [
              "30                                              488\n",
              "28                                              233\n",
              "27                                              102\n",
              "25                                               91\n",
              "26                                               71\n",
              "24                                               67\n",
              "29                                               24\n",
              "20                                               13\n",
              "21                                               10\n",
              "32                                                8\n",
              "22                                                8\n",
              "31                                                8\n",
              "36                                                5\n",
              "35                                                5\n",
              "40                                                4\n",
              "23                                                4\n",
              "0                                                 4\n",
              "33                                                3\n",
              "45                                                3\n",
              "14                                                3\n",
              "unlimited                                         3\n",
              "15                                                2\n",
              "unlimited                                         2\n",
              "12                                                2\n",
              "Unlimited                                         2\n",
              "30 in contract (but theoretically unlimited)      1\n",
              "24 labour days                                    1\n",
              "38                                                1\n",
              "365                                               1\n",
              "37                                                1\n",
              "23+                                               1\n",
              "37.5                                              1\n",
              "10                                                1\n",
              "(no idea)                                         1\n",
              "5                                                 1\n",
              "39                                                1\n",
              "16                                                1\n",
              "3                                                 1\n",
              "1                                                 1\n",
              "Unlimited                                         1\n",
              "99                                                1\n",
              "50                                                1\n",
              "~25                                               1\n",
              "34                                                1\n",
              "60                                                1\n",
              "Name: Number of vacation days, dtype: int64"
            ]
          },
          "metadata": {
            "tags": []
          },
          "execution_count": 7
        }
      ]
    },
    {
      "cell_type": "markdown",
      "metadata": {
        "id": "pLO0AJjUznFJ"
      },
      "source": [
        "233 people took 28 days vacation while 1 person took 34 days vacation"
      ]
    },
    {
      "cell_type": "markdown",
      "metadata": {
        "id": "wptPzyquAXbR"
      },
      "source": [
        "## Task 3: Data Cleaning\n",
        "* Rename the column ‘Position ‘ in the 2020 data to ‘Position’. (without the blank space)\n",
        "* Check for missing values in 2020 data for all the columns. If there are no missing values, proceed to the next step. If there are missing values in the dataset,\n",
        "  * For categorical variables, fill the missing values with the mode of the data. Remember if the data type of any variable is ‘object’, it is categorical variable. \n",
        "  * For numerical variables, fill the missing values with the mean of the data.\n",
        "\n",
        "Here's a good blog that displays multiple methods of filling (imputing) missing values: https://jamesrledoux.com/code/imputation \n",
        "* Drop the timestamp column for all the three years data since the date and time at which a person filled the survey is irrelevant to us. The year matters and we already know that from the dataset’s name.\n",
        "* Perform any other data cleaning steps you believe are necessary. (removing outliers, handling missing values in a way to beautify visualizations, making the categories uniform i.e python and Python should mean the same thing etc.) Note that the same steps will have to be performed for all 3 data files."
      ]
    },
    {
      "cell_type": "code",
      "metadata": {
        "id": "ET27TN4ZBMlU"
      },
      "source": [
        "#renaming the column 'Position '\n",
        "data_20=data_20.rename(columns={'Position ':'Position'})"
      ],
      "execution_count": 8,
      "outputs": []
    },
    {
      "cell_type": "code",
      "metadata": {
        "colab": {
          "base_uri": "https://localhost:8080/"
        },
        "id": "fSER4zCr4GSa",
        "outputId": "633cf681-3d29-480e-9972-29a774391938"
      },
      "source": [
        "#checking for missing values in 2020 data\n",
        "data_20.isnull().sum()"
      ],
      "execution_count": 9,
      "outputs": [
        {
          "output_type": "execute_result",
          "data": {
            "text/plain": [
              "Timestamp                                                                                                                    0\n",
              "Age                                                                                                                         27\n",
              "Gender                                                                                                                      10\n",
              "City                                                                                                                         0\n",
              "Position                                                                                                                     6\n",
              "Total years of experience                                                                                                   16\n",
              "Years of experience in Germany                                                                                              32\n",
              "Seniority level                                                                                                             12\n",
              "Your main technology / programming language                                                                                127\n",
              "Other technologies/programming languages you use often                                                                     157\n",
              "Yearly brutto salary (without bonus and stocks) in EUR                                                                       0\n",
              "Yearly bonus + stocks in EUR                                                                                               424\n",
              "Annual brutto salary (without bonus and stocks) one year ago. Only answer if staying in the same country                   368\n",
              "Annual bonus+stocks one year ago. Only answer if staying in same country                                                   639\n",
              "Number of vacation days                                                                                                     68\n",
              "Employment status                                                                                                           17\n",
              "Сontract duration                                                                                                           29\n",
              "Main language at work                                                                                                       16\n",
              "Company size                                                                                                                18\n",
              "Company type                                                                                                                25\n",
              "Have you lost your job due to the coronavirus outbreak?                                                                     20\n",
              "Have you been forced to have a shorter working week (Kurzarbeit)? If yes, how many hours per week                          880\n",
              "Have you received additional monetary support from your employer due to Work From Home? If yes, how much in 2020 in EUR    791\n",
              "dtype: int64"
            ]
          },
          "metadata": {
            "tags": []
          },
          "execution_count": 9
        }
      ]
    },
    {
      "cell_type": "code",
      "metadata": {
        "id": "GKy3bxWH4u-s"
      },
      "source": [
        "#filling missing values for numerical and categorical columns(cell below)\n",
        "import numpy as np\n",
        "\n",
        "num_cols = data_20.select_dtypes(include=np.number).columns      # getting all the numerical columns\n",
        "\n",
        "data_20[num_cols] = data_20[num_cols].fillna(data_20[num_cols].mean())"
      ],
      "execution_count": 10,
      "outputs": []
    },
    {
      "cell_type": "code",
      "metadata": {
        "id": "rwr-IYsD6hFM"
      },
      "source": [
        "cat_cols = data_20.select_dtypes(include = 'object').columns    # getting all the categorical columns\n",
        "\n",
        "data_20[cat_cols] = data_20[cat_cols].fillna(data_20[cat_cols].mode().iloc[0])"
      ],
      "execution_count": 11,
      "outputs": []
    },
    {
      "cell_type": "code",
      "metadata": {
        "id": "tIQlZ3233T_y"
      },
      "source": [
        "# upon investigation data_19 does not have the time stamp column .So we shall only drop from the other two survey datas\n",
        "data_18=data_18.drop(['Timestamp'],axis=1)\n"
      ],
      "execution_count": 12,
      "outputs": []
    },
    {
      "cell_type": "code",
      "metadata": {
        "id": "LODdycx44wM6"
      },
      "source": [
        "data_20=data_20.drop(['Timestamp'],axis=1)"
      ],
      "execution_count": 13,
      "outputs": []
    },
    {
      "cell_type": "code",
      "metadata": {
        "colab": {
          "base_uri": "https://localhost:8080/"
        },
        "id": "1xVXYXSSINvS",
        "outputId": "700b9947-fead-4d55-d6e9-622999f1cf6f"
      },
      "source": [
        "# checking effectively that we have dropped the timestamp column\n",
        "data_18.info()\n",
        "data_19.info()\n",
        "data_20.info()"
      ],
      "execution_count": 14,
      "outputs": [
        {
          "output_type": "stream",
          "text": [
            "<class 'pandas.core.frame.DataFrame'>\n",
            "RangeIndex: 765 entries, 0 to 764\n",
            "Data columns (total 13 columns):\n",
            " #   Column                              Non-Null Count  Dtype  \n",
            "---  ------                              --------------  -----  \n",
            " 0   Age                                 672 non-null    float64\n",
            " 1   Gender                              751 non-null    object \n",
            " 2   City                                736 non-null    object \n",
            " 3   Position                            737 non-null    object \n",
            " 4   Years of experience                 732 non-null    float64\n",
            " 5   Your level                          743 non-null    object \n",
            " 6   Current Salary                      750 non-null    float64\n",
            " 7   Salary one year ago                 596 non-null    float64\n",
            " 8   Salary two years ago                463 non-null    float64\n",
            " 9   Are you getting any Stock Options?  742 non-null    object \n",
            " 10  Main language at work               750 non-null    object \n",
            " 11  Company size                        750 non-null    object \n",
            " 12  Company type                        730 non-null    object \n",
            "dtypes: float64(5), object(8)\n",
            "memory usage: 77.8+ KB\n",
            "<class 'pandas.core.frame.DataFrame'>\n",
            "RangeIndex: 991 entries, 0 to 990\n",
            "Data columns (total 23 columns):\n",
            " #   Column                                                                                                Non-Null Count  Dtype  \n",
            "---  ------                                                                                                --------------  -----  \n",
            " 0   Zeitstempel                                                                                           991 non-null    object \n",
            " 1   Age                                                                                                   882 non-null    float64\n",
            " 2   Gender                                                                                                991 non-null    object \n",
            " 3   City                                                                                                  991 non-null    object \n",
            " 4   Seniority level                                                                                       976 non-null    object \n",
            " 5   Position (without seniority)                                                                          990 non-null    object \n",
            " 6   Years of experience                                                                                   991 non-null    int64  \n",
            " 7   Your main technology / programming language                                                           977 non-null    object \n",
            " 8   Yearly brutto salary (without bonus and stocks)                                                       990 non-null    float64\n",
            " 9   Yearly bonus                                                                                          530 non-null    float64\n",
            " 10  Yearly stocks                                                                                         203 non-null    float64\n",
            " 11  Yearly brutto salary (without bonus and stocks) one year ago. Only answer if staying in same country  603 non-null    float64\n",
            " 12  Yearly bonus one year ago. Only answer if staying in same country                                     257 non-null    float64\n",
            " 13  Yearly stocks one year ago. Only answer if staying in same country                                    139 non-null    float64\n",
            " 14  Number of vacation days                                                                               931 non-null    float64\n",
            " 15  Number of home office days per month                                                                  639 non-null    float64\n",
            " 16  Main language at work                                                                                 986 non-null    object \n",
            " 17  Company name                                                                                          257 non-null    object \n",
            " 18  Company size                                                                                          977 non-null    object \n",
            " 19  Company type                                                                                          960 non-null    object \n",
            " 20  Сontract duration                                                                                     962 non-null    object \n",
            " 21  Company business sector                                                                               846 non-null    object \n",
            " 22  0                                                                                                     0 non-null      float64\n",
            "dtypes: float64(10), int64(1), object(12)\n",
            "memory usage: 178.2+ KB\n",
            "<class 'pandas.core.frame.DataFrame'>\n",
            "RangeIndex: 1253 entries, 0 to 1252\n",
            "Data columns (total 22 columns):\n",
            " #   Column                                                                                                                   Non-Null Count  Dtype  \n",
            "---  ------                                                                                                                   --------------  -----  \n",
            " 0   Age                                                                                                                      1253 non-null   float64\n",
            " 1   Gender                                                                                                                   1253 non-null   object \n",
            " 2   City                                                                                                                     1253 non-null   object \n",
            " 3   Position                                                                                                                 1253 non-null   object \n",
            " 4   Total years of experience                                                                                                1253 non-null   object \n",
            " 5   Years of experience in Germany                                                                                           1253 non-null   object \n",
            " 6   Seniority level                                                                                                          1253 non-null   object \n",
            " 7   Your main technology / programming language                                                                              1253 non-null   object \n",
            " 8   Other technologies/programming languages you use often                                                                   1253 non-null   object \n",
            " 9   Yearly brutto salary (without bonus and stocks) in EUR                                                                   1253 non-null   float64\n",
            " 10  Yearly bonus + stocks in EUR                                                                                             1253 non-null   object \n",
            " 11  Annual brutto salary (without bonus and stocks) one year ago. Only answer if staying in the same country                 1253 non-null   float64\n",
            " 12  Annual bonus+stocks one year ago. Only answer if staying in same country                                                 1253 non-null   object \n",
            " 13  Number of vacation days                                                                                                  1253 non-null   object \n",
            " 14  Employment status                                                                                                        1253 non-null   object \n",
            " 15  Сontract duration                                                                                                        1253 non-null   object \n",
            " 16  Main language at work                                                                                                    1253 non-null   object \n",
            " 17  Company size                                                                                                             1253 non-null   object \n",
            " 18  Company type                                                                                                             1253 non-null   object \n",
            " 19  Have you lost your job due to the coronavirus outbreak?                                                                  1253 non-null   object \n",
            " 20  Have you been forced to have a shorter working week (Kurzarbeit)? If yes, how many hours per week                        1253 non-null   float64\n",
            " 21  Have you received additional monetary support from your employer due to Work From Home? If yes, how much in 2020 in EUR  1253 non-null   object \n",
            "dtypes: float64(4), object(18)\n",
            "memory usage: 215.5+ KB\n"
          ],
          "name": "stdout"
        }
      ]
    },
    {
      "cell_type": "code",
      "metadata": {
        "id": "5MlyeYUaO0ea"
      },
      "source": [
        "#performing data cleaning operations for 2019 and 2018\n",
        "num_cols = data_18.select_dtypes(include=np.number).columns      # getting all the numerical columns\n",
        "\n",
        "data_18[num_cols] = data_18[num_cols].fillna(data_18[num_cols].mean())\n",
        "num_cols = data_19.select_dtypes(include=np.number).columns      # getting all the numerical columns\n",
        "\n",
        "data_19[num_cols] = data_19[num_cols].fillna(data_19[num_cols].mean())"
      ],
      "execution_count": 15,
      "outputs": []
    },
    {
      "cell_type": "code",
      "metadata": {
        "id": "K0G2pUnjPEFM"
      },
      "source": [
        "cat_cols = data_18.select_dtypes(include = 'object').columns    # getting all the categorical columns\n",
        "\n",
        "data_18[cat_cols] = data_18[cat_cols].fillna(data_18[cat_cols].mode().iloc[0])\n",
        "cat_cols = data_19.select_dtypes(include = 'object').columns    # getting all the categorical columns\n",
        "\n",
        "data_19[cat_cols] = data_19[cat_cols].fillna(data_19[cat_cols].mode().iloc[0])"
      ],
      "execution_count": 17,
      "outputs": []
    },
    {
      "cell_type": "markdown",
      "metadata": {
        "id": "N36_fTSI7nIi"
      },
      "source": [
        ""
      ]
    },
    {
      "cell_type": "code",
      "metadata": {
        "id": "Eqjj9eYhCP3T",
        "colab": {
          "base_uri": "https://localhost:8080/"
        },
        "outputId": "330d5d95-03da-4d81-d1d3-c03188c2d70e"
      },
      "source": [
        "# This is done in anticipation of the visualization section\n",
        "data_19['Company type'].value_counts()"
      ],
      "execution_count": 18,
      "outputs": [
        {
          "output_type": "execute_result",
          "data": {
            "text/plain": [
              "Product                 650\n",
              "Startup                 181\n",
              "Consulting / Agency     117\n",
              "Bodyshop / Outsource     30\n",
              "University                6\n",
              "Bank                      6\n",
              "Outsource                 1\n",
              "Name: Company type, dtype: int64"
            ]
          },
          "metadata": {
            "tags": []
          },
          "execution_count": 18
        }
      ]
    },
    {
      "cell_type": "markdown",
      "metadata": {
        "id": "s8RT70fOCb_T"
      },
      "source": [
        "## Task 4: Data Visualization using Plotly\n",
        "**Note:** All the tasks below need to be completed using only Plotly and no other Data Visualization library.\n",
        "\n",
        "* Create a pie chart to analyze the Company types in the year 2019. Are Consulting / Agency companies more popular than Startups? \n",
        "* Create a line plot of the Total years of experience vs the current salary(taking the median salary for each of the different experience years) of the year 2018.\n",
        "* Now, create the above plot again and add 2 more line plots to the same graph, that display the Total years of experience vs the median Yearly brutto salary (without bonus and stocks) of the year 2019 and 2020.\n",
        "* Create a bar chart to analyse the popularity of the main technology/ programming languages amongst the respondents in the year 2020. Which technology is the most popular? Which technology is the least popular (with less than 4 responses)?\n",
        "* Create a pie plot indicating the gender ratio of the respondents in the year 2020.\n"
      ]
    },
    {
      "cell_type": "code",
      "metadata": {
        "id": "ROEb1ukbCoTi",
        "colab": {
          "base_uri": "https://localhost:8080/",
          "height": 542
        },
        "outputId": "2c1e8eac-682a-48e3-d47e-5879d0545ce6"
      },
      "source": [
        "import plotly.express as px\n",
        "df = data_19['Company type']\n",
        "di=[650,181,117,30,6,6,1]\n",
        "fig = px.pie(df,values=di, names=['Product','Startup','Consulting / Agency','Bodyshop / Outsource','University','Bank','Outsource'], title='Company types in the year 2019')\n",
        "fig.show()"
      ],
      "execution_count": 19,
      "outputs": [
        {
          "output_type": "display_data",
          "data": {
            "text/html": [
              "<html>\n",
              "<head><meta charset=\"utf-8\" /></head>\n",
              "<body>\n",
              "    <div>\n",
              "            <script src=\"https://cdnjs.cloudflare.com/ajax/libs/mathjax/2.7.5/MathJax.js?config=TeX-AMS-MML_SVG\"></script><script type=\"text/javascript\">if (window.MathJax) {MathJax.Hub.Config({SVG: {font: \"STIX-Web\"}});}</script>\n",
              "                <script type=\"text/javascript\">window.PlotlyConfig = {MathJaxConfig: 'local'};</script>\n",
              "        <script src=\"https://cdn.plot.ly/plotly-latest.min.js\"></script>    \n",
              "            <div id=\"3f314a73-3ae6-476d-ae01-90d71078bcac\" class=\"plotly-graph-div\" style=\"height:525px; width:100%;\"></div>\n",
              "            <script type=\"text/javascript\">\n",
              "                \n",
              "                    window.PLOTLYENV=window.PLOTLYENV || {};\n",
              "                    \n",
              "                if (document.getElementById(\"3f314a73-3ae6-476d-ae01-90d71078bcac\")) {\n",
              "                    Plotly.newPlot(\n",
              "                        '3f314a73-3ae6-476d-ae01-90d71078bcac',\n",
              "                        [{\"domain\": {\"x\": [0.0, 1.0], \"y\": [0.0, 1.0]}, \"hoverlabel\": {\"namelength\": 0}, \"hovertemplate\": \"label=%{label}<br>value=%{value}\", \"labels\": [\"Product\", \"Startup\", \"Consulting / Agency\", \"Bodyshop / Outsource\", \"University\", \"Bank\", \"Outsource\"], \"legendgroup\": \"\", \"name\": \"\", \"showlegend\": true, \"type\": \"pie\", \"values\": [650, 181, 117, 30, 6, 6, 1]}],\n",
              "                        {\"legend\": {\"tracegroupgap\": 0}, \"template\": {\"data\": {\"bar\": [{\"error_x\": {\"color\": \"#2a3f5f\"}, \"error_y\": {\"color\": \"#2a3f5f\"}, \"marker\": {\"line\": {\"color\": \"#E5ECF6\", \"width\": 0.5}}, \"type\": \"bar\"}], \"barpolar\": [{\"marker\": {\"line\": {\"color\": \"#E5ECF6\", \"width\": 0.5}}, \"type\": \"barpolar\"}], \"carpet\": [{\"aaxis\": {\"endlinecolor\": \"#2a3f5f\", \"gridcolor\": \"white\", \"linecolor\": \"white\", \"minorgridcolor\": \"white\", \"startlinecolor\": \"#2a3f5f\"}, \"baxis\": {\"endlinecolor\": \"#2a3f5f\", \"gridcolor\": \"white\", \"linecolor\": \"white\", \"minorgridcolor\": \"white\", \"startlinecolor\": \"#2a3f5f\"}, \"type\": \"carpet\"}], \"choropleth\": [{\"colorbar\": {\"outlinewidth\": 0, \"ticks\": \"\"}, \"type\": \"choropleth\"}], \"contour\": [{\"colorbar\": {\"outlinewidth\": 0, \"ticks\": \"\"}, \"colorscale\": [[0.0, \"#0d0887\"], [0.1111111111111111, \"#46039f\"], [0.2222222222222222, \"#7201a8\"], [0.3333333333333333, \"#9c179e\"], [0.4444444444444444, \"#bd3786\"], [0.5555555555555556, \"#d8576b\"], [0.6666666666666666, \"#ed7953\"], [0.7777777777777778, \"#fb9f3a\"], [0.8888888888888888, \"#fdca26\"], [1.0, \"#f0f921\"]], \"type\": \"contour\"}], \"contourcarpet\": [{\"colorbar\": {\"outlinewidth\": 0, \"ticks\": \"\"}, \"type\": \"contourcarpet\"}], \"heatmap\": [{\"colorbar\": {\"outlinewidth\": 0, \"ticks\": \"\"}, \"colorscale\": [[0.0, \"#0d0887\"], [0.1111111111111111, \"#46039f\"], [0.2222222222222222, \"#7201a8\"], [0.3333333333333333, \"#9c179e\"], [0.4444444444444444, \"#bd3786\"], [0.5555555555555556, \"#d8576b\"], [0.6666666666666666, \"#ed7953\"], [0.7777777777777778, \"#fb9f3a\"], [0.8888888888888888, \"#fdca26\"], [1.0, \"#f0f921\"]], \"type\": \"heatmap\"}], \"heatmapgl\": [{\"colorbar\": {\"outlinewidth\": 0, \"ticks\": \"\"}, \"colorscale\": [[0.0, \"#0d0887\"], [0.1111111111111111, \"#46039f\"], [0.2222222222222222, \"#7201a8\"], [0.3333333333333333, \"#9c179e\"], [0.4444444444444444, \"#bd3786\"], [0.5555555555555556, \"#d8576b\"], [0.6666666666666666, \"#ed7953\"], [0.7777777777777778, \"#fb9f3a\"], [0.8888888888888888, \"#fdca26\"], [1.0, \"#f0f921\"]], \"type\": \"heatmapgl\"}], \"histogram\": [{\"marker\": {\"colorbar\": {\"outlinewidth\": 0, \"ticks\": \"\"}}, \"type\": \"histogram\"}], \"histogram2d\": [{\"colorbar\": {\"outlinewidth\": 0, \"ticks\": \"\"}, \"colorscale\": [[0.0, \"#0d0887\"], [0.1111111111111111, \"#46039f\"], [0.2222222222222222, \"#7201a8\"], [0.3333333333333333, \"#9c179e\"], [0.4444444444444444, \"#bd3786\"], [0.5555555555555556, \"#d8576b\"], [0.6666666666666666, \"#ed7953\"], [0.7777777777777778, \"#fb9f3a\"], [0.8888888888888888, \"#fdca26\"], [1.0, \"#f0f921\"]], \"type\": \"histogram2d\"}], \"histogram2dcontour\": [{\"colorbar\": {\"outlinewidth\": 0, \"ticks\": \"\"}, \"colorscale\": [[0.0, \"#0d0887\"], [0.1111111111111111, \"#46039f\"], [0.2222222222222222, \"#7201a8\"], [0.3333333333333333, \"#9c179e\"], [0.4444444444444444, \"#bd3786\"], [0.5555555555555556, \"#d8576b\"], [0.6666666666666666, \"#ed7953\"], [0.7777777777777778, \"#fb9f3a\"], [0.8888888888888888, \"#fdca26\"], [1.0, \"#f0f921\"]], \"type\": \"histogram2dcontour\"}], \"mesh3d\": [{\"colorbar\": {\"outlinewidth\": 0, \"ticks\": \"\"}, \"type\": \"mesh3d\"}], \"parcoords\": [{\"line\": {\"colorbar\": {\"outlinewidth\": 0, \"ticks\": \"\"}}, \"type\": \"parcoords\"}], \"pie\": [{\"automargin\": true, \"type\": \"pie\"}], \"scatter\": [{\"marker\": {\"colorbar\": {\"outlinewidth\": 0, \"ticks\": \"\"}}, \"type\": \"scatter\"}], \"scatter3d\": [{\"line\": {\"colorbar\": {\"outlinewidth\": 0, \"ticks\": \"\"}}, \"marker\": {\"colorbar\": {\"outlinewidth\": 0, \"ticks\": \"\"}}, \"type\": \"scatter3d\"}], \"scattercarpet\": [{\"marker\": {\"colorbar\": {\"outlinewidth\": 0, \"ticks\": \"\"}}, \"type\": \"scattercarpet\"}], \"scattergeo\": [{\"marker\": {\"colorbar\": {\"outlinewidth\": 0, \"ticks\": \"\"}}, \"type\": \"scattergeo\"}], \"scattergl\": [{\"marker\": {\"colorbar\": {\"outlinewidth\": 0, \"ticks\": \"\"}}, \"type\": \"scattergl\"}], \"scattermapbox\": [{\"marker\": {\"colorbar\": {\"outlinewidth\": 0, \"ticks\": \"\"}}, \"type\": \"scattermapbox\"}], \"scatterpolar\": [{\"marker\": {\"colorbar\": {\"outlinewidth\": 0, \"ticks\": \"\"}}, \"type\": \"scatterpolar\"}], \"scatterpolargl\": [{\"marker\": {\"colorbar\": {\"outlinewidth\": 0, \"ticks\": \"\"}}, \"type\": \"scatterpolargl\"}], \"scatterternary\": [{\"marker\": {\"colorbar\": {\"outlinewidth\": 0, \"ticks\": \"\"}}, \"type\": \"scatterternary\"}], \"surface\": [{\"colorbar\": {\"outlinewidth\": 0, \"ticks\": \"\"}, \"colorscale\": [[0.0, \"#0d0887\"], [0.1111111111111111, \"#46039f\"], [0.2222222222222222, \"#7201a8\"], [0.3333333333333333, \"#9c179e\"], [0.4444444444444444, \"#bd3786\"], [0.5555555555555556, \"#d8576b\"], [0.6666666666666666, \"#ed7953\"], [0.7777777777777778, \"#fb9f3a\"], [0.8888888888888888, \"#fdca26\"], [1.0, \"#f0f921\"]], \"type\": \"surface\"}], \"table\": [{\"cells\": {\"fill\": {\"color\": \"#EBF0F8\"}, \"line\": {\"color\": \"white\"}}, \"header\": {\"fill\": {\"color\": \"#C8D4E3\"}, \"line\": {\"color\": \"white\"}}, \"type\": \"table\"}]}, \"layout\": {\"annotationdefaults\": {\"arrowcolor\": \"#2a3f5f\", \"arrowhead\": 0, \"arrowwidth\": 1}, \"coloraxis\": {\"colorbar\": {\"outlinewidth\": 0, \"ticks\": \"\"}}, \"colorscale\": {\"diverging\": [[0, \"#8e0152\"], [0.1, \"#c51b7d\"], [0.2, \"#de77ae\"], [0.3, \"#f1b6da\"], [0.4, \"#fde0ef\"], [0.5, \"#f7f7f7\"], [0.6, \"#e6f5d0\"], [0.7, \"#b8e186\"], [0.8, \"#7fbc41\"], [0.9, \"#4d9221\"], [1, \"#276419\"]], \"sequential\": [[0.0, \"#0d0887\"], [0.1111111111111111, \"#46039f\"], [0.2222222222222222, \"#7201a8\"], [0.3333333333333333, \"#9c179e\"], [0.4444444444444444, \"#bd3786\"], [0.5555555555555556, \"#d8576b\"], [0.6666666666666666, \"#ed7953\"], [0.7777777777777778, \"#fb9f3a\"], [0.8888888888888888, \"#fdca26\"], [1.0, \"#f0f921\"]], \"sequentialminus\": [[0.0, \"#0d0887\"], [0.1111111111111111, \"#46039f\"], [0.2222222222222222, \"#7201a8\"], [0.3333333333333333, \"#9c179e\"], [0.4444444444444444, \"#bd3786\"], [0.5555555555555556, \"#d8576b\"], [0.6666666666666666, \"#ed7953\"], [0.7777777777777778, \"#fb9f3a\"], [0.8888888888888888, \"#fdca26\"], [1.0, \"#f0f921\"]]}, \"colorway\": [\"#636efa\", \"#EF553B\", \"#00cc96\", \"#ab63fa\", \"#FFA15A\", \"#19d3f3\", \"#FF6692\", \"#B6E880\", \"#FF97FF\", \"#FECB52\"], \"font\": {\"color\": \"#2a3f5f\"}, \"geo\": {\"bgcolor\": \"white\", \"lakecolor\": \"white\", \"landcolor\": \"#E5ECF6\", \"showlakes\": true, \"showland\": true, \"subunitcolor\": \"white\"}, \"hoverlabel\": {\"align\": \"left\"}, \"hovermode\": \"closest\", \"mapbox\": {\"style\": \"light\"}, \"paper_bgcolor\": \"white\", \"plot_bgcolor\": \"#E5ECF6\", \"polar\": {\"angularaxis\": {\"gridcolor\": \"white\", \"linecolor\": \"white\", \"ticks\": \"\"}, \"bgcolor\": \"#E5ECF6\", \"radialaxis\": {\"gridcolor\": \"white\", \"linecolor\": \"white\", \"ticks\": \"\"}}, \"scene\": {\"xaxis\": {\"backgroundcolor\": \"#E5ECF6\", \"gridcolor\": \"white\", \"gridwidth\": 2, \"linecolor\": \"white\", \"showbackground\": true, \"ticks\": \"\", \"zerolinecolor\": \"white\"}, \"yaxis\": {\"backgroundcolor\": \"#E5ECF6\", \"gridcolor\": \"white\", \"gridwidth\": 2, \"linecolor\": \"white\", \"showbackground\": true, \"ticks\": \"\", \"zerolinecolor\": \"white\"}, \"zaxis\": {\"backgroundcolor\": \"#E5ECF6\", \"gridcolor\": \"white\", \"gridwidth\": 2, \"linecolor\": \"white\", \"showbackground\": true, \"ticks\": \"\", \"zerolinecolor\": \"white\"}}, \"shapedefaults\": {\"line\": {\"color\": \"#2a3f5f\"}}, \"ternary\": {\"aaxis\": {\"gridcolor\": \"white\", \"linecolor\": \"white\", \"ticks\": \"\"}, \"baxis\": {\"gridcolor\": \"white\", \"linecolor\": \"white\", \"ticks\": \"\"}, \"bgcolor\": \"#E5ECF6\", \"caxis\": {\"gridcolor\": \"white\", \"linecolor\": \"white\", \"ticks\": \"\"}}, \"title\": {\"x\": 0.05}, \"xaxis\": {\"automargin\": true, \"gridcolor\": \"white\", \"linecolor\": \"white\", \"ticks\": \"\", \"title\": {\"standoff\": 15}, \"zerolinecolor\": \"white\", \"zerolinewidth\": 2}, \"yaxis\": {\"automargin\": true, \"gridcolor\": \"white\", \"linecolor\": \"white\", \"ticks\": \"\", \"title\": {\"standoff\": 15}, \"zerolinecolor\": \"white\", \"zerolinewidth\": 2}}}, \"title\": {\"text\": \"Company types in the year 2019\"}},\n",
              "                        {\"responsive\": true}\n",
              "                    ).then(function(){\n",
              "                            \n",
              "var gd = document.getElementById('3f314a73-3ae6-476d-ae01-90d71078bcac');\n",
              "var x = new MutationObserver(function (mutations, observer) {{\n",
              "        var display = window.getComputedStyle(gd).display;\n",
              "        if (!display || display === 'none') {{\n",
              "            console.log([gd, 'removed!']);\n",
              "            Plotly.purge(gd);\n",
              "            observer.disconnect();\n",
              "        }}\n",
              "}});\n",
              "\n",
              "// Listen for the removal of the full notebook cells\n",
              "var notebookContainer = gd.closest('#notebook-container');\n",
              "if (notebookContainer) {{\n",
              "    x.observe(notebookContainer, {childList: true});\n",
              "}}\n",
              "\n",
              "// Listen for the clearing of the current output cell\n",
              "var outputEl = gd.closest('.output');\n",
              "if (outputEl) {{\n",
              "    x.observe(outputEl, {childList: true});\n",
              "}}\n",
              "\n",
              "                        })\n",
              "                };\n",
              "                \n",
              "            </script>\n",
              "        </div>\n",
              "</body>\n",
              "</html>"
            ]
          },
          "metadata": {
            "tags": []
          }
        }
      ]
    },
    {
      "cell_type": "markdown",
      "metadata": {
        "id": "yzewIZBBzQsH"
      },
      "source": [
        "Consulting/agency are less popular than start ups "
      ]
    },
    {
      "cell_type": "code",
      "metadata": {
        "id": "C72Ng-7TXNVV",
        "colab": {
          "base_uri": "https://localhost:8080/",
          "height": 362
        },
        "outputId": "d4a908ac-e942-4e75-cd2a-b1f1de422a8b"
      },
      "source": [
        "data_18.head()"
      ],
      "execution_count": 20,
      "outputs": [
        {
          "output_type": "execute_result",
          "data": {
            "text/html": [
              "<div>\n",
              "<style scoped>\n",
              "    .dataframe tbody tr th:only-of-type {\n",
              "        vertical-align: middle;\n",
              "    }\n",
              "\n",
              "    .dataframe tbody tr th {\n",
              "        vertical-align: top;\n",
              "    }\n",
              "\n",
              "    .dataframe thead th {\n",
              "        text-align: right;\n",
              "    }\n",
              "</style>\n",
              "<table border=\"1\" class=\"dataframe\">\n",
              "  <thead>\n",
              "    <tr style=\"text-align: right;\">\n",
              "      <th></th>\n",
              "      <th>Age</th>\n",
              "      <th>Gender</th>\n",
              "      <th>City</th>\n",
              "      <th>Position</th>\n",
              "      <th>Years of experience</th>\n",
              "      <th>Your level</th>\n",
              "      <th>Current Salary</th>\n",
              "      <th>Salary one year ago</th>\n",
              "      <th>Salary two years ago</th>\n",
              "      <th>Are you getting any Stock Options?</th>\n",
              "      <th>Main language at work</th>\n",
              "      <th>Company size</th>\n",
              "      <th>Company type</th>\n",
              "    </tr>\n",
              "  </thead>\n",
              "  <tbody>\n",
              "    <tr>\n",
              "      <th>0</th>\n",
              "      <td>43.0</td>\n",
              "      <td>M</td>\n",
              "      <td>München</td>\n",
              "      <td>QA Ingenieur</td>\n",
              "      <td>11.0</td>\n",
              "      <td>Senior</td>\n",
              "      <td>77000.0</td>\n",
              "      <td>76200.0</td>\n",
              "      <td>68000.0</td>\n",
              "      <td>No</td>\n",
              "      <td>Deutsch</td>\n",
              "      <td>100-1000</td>\n",
              "      <td>Product</td>\n",
              "    </tr>\n",
              "    <tr>\n",
              "      <th>1</th>\n",
              "      <td>33.0</td>\n",
              "      <td>F</td>\n",
              "      <td>München</td>\n",
              "      <td>Senior PHP Magento developer</td>\n",
              "      <td>8.0</td>\n",
              "      <td>Senior</td>\n",
              "      <td>65000.0</td>\n",
              "      <td>55000.0</td>\n",
              "      <td>55000.0</td>\n",
              "      <td>No</td>\n",
              "      <td>Deutsch</td>\n",
              "      <td>50-100</td>\n",
              "      <td>Product</td>\n",
              "    </tr>\n",
              "    <tr>\n",
              "      <th>2</th>\n",
              "      <td>32.0</td>\n",
              "      <td>M</td>\n",
              "      <td>München</td>\n",
              "      <td>Software Engineer</td>\n",
              "      <td>10.0</td>\n",
              "      <td>Senior</td>\n",
              "      <td>88000.0</td>\n",
              "      <td>73000.0</td>\n",
              "      <td>54000.0</td>\n",
              "      <td>No</td>\n",
              "      <td>Deutsch</td>\n",
              "      <td>1000+</td>\n",
              "      <td>Product</td>\n",
              "    </tr>\n",
              "    <tr>\n",
              "      <th>3</th>\n",
              "      <td>25.0</td>\n",
              "      <td>M</td>\n",
              "      <td>München</td>\n",
              "      <td>Senior Frontend Developer</td>\n",
              "      <td>6.0</td>\n",
              "      <td>Senior</td>\n",
              "      <td>78000.0</td>\n",
              "      <td>55000.0</td>\n",
              "      <td>45000.0</td>\n",
              "      <td>Yes</td>\n",
              "      <td>English</td>\n",
              "      <td>1000+</td>\n",
              "      <td>Product</td>\n",
              "    </tr>\n",
              "    <tr>\n",
              "      <th>4</th>\n",
              "      <td>39.0</td>\n",
              "      <td>M</td>\n",
              "      <td>München</td>\n",
              "      <td>UX Designer</td>\n",
              "      <td>10.0</td>\n",
              "      <td>Senior</td>\n",
              "      <td>69000.0</td>\n",
              "      <td>60000.0</td>\n",
              "      <td>52000.0</td>\n",
              "      <td>No</td>\n",
              "      <td>English</td>\n",
              "      <td>100-1000</td>\n",
              "      <td>Ecom retailer</td>\n",
              "    </tr>\n",
              "  </tbody>\n",
              "</table>\n",
              "</div>"
            ],
            "text/plain": [
              "    Age Gender     City  ... Main language at work  Company size   Company type\n",
              "0  43.0      M  München  ...               Deutsch      100-1000        Product\n",
              "1  33.0      F  München  ...               Deutsch        50-100        Product\n",
              "2  32.0      M  München  ...               Deutsch         1000+        Product\n",
              "3  25.0      M  München  ...               English         1000+        Product\n",
              "4  39.0      M  München  ...               English      100-1000  Ecom retailer\n",
              "\n",
              "[5 rows x 13 columns]"
            ]
          },
          "metadata": {
            "tags": []
          },
          "execution_count": 20
        }
      ]
    },
    {
      "cell_type": "code",
      "metadata": {
        "id": "q0G7M8eMXN6_",
        "colab": {
          "base_uri": "https://localhost:8080/"
        },
        "outputId": "6fa3ee53-c9db-4632-96d3-ed954b8a8192"
      },
      "source": [
        "#getting the median salary for each year of experience\n",
        "data_18.groupby('Years of experience').median()['Current Salary']"
      ],
      "execution_count": 21,
      "outputs": [
        {
          "output_type": "execute_result",
          "data": {
            "text/plain": [
              "Years of experience\n",
              "0.000000      50000.000000\n",
              "0.500000      46000.000000\n",
              "1.000000      46000.000000\n",
              "1.500000      58000.000000\n",
              "2.000000      50000.000000\n",
              "2.500000      50000.000000\n",
              "3.000000      55555.000000\n",
              "4.000000      60000.000000\n",
              "4.500000      39150.000000\n",
              "5.000000      60000.000000\n",
              "6.000000      64000.000000\n",
              "7.000000      68000.000000\n",
              "7.500000      65000.000000\n",
              "8.000000      70000.000000\n",
              "8.548497      68381.765333\n",
              "9.000000      70000.000000\n",
              "10.000000     70000.000000\n",
              "11.000000     71000.000000\n",
              "12.000000     71000.000000\n",
              "13.000000     73500.000000\n",
              "14.000000     71500.000000\n",
              "15.000000     68000.000000\n",
              "16.000000     90500.000000\n",
              "17.000000     80000.000000\n",
              "18.000000     72500.000000\n",
              "19.000000     84000.000000\n",
              "20.000000     80000.000000\n",
              "21.000000     90000.000000\n",
              "25.000000    109000.000000\n",
              "30.000000     64000.000000\n",
              "38.000000     58000.000000\n",
              "Name: Current Salary, dtype: float64"
            ]
          },
          "metadata": {
            "tags": []
          },
          "execution_count": 21
        }
      ]
    },
    {
      "cell_type": "code",
      "metadata": {
        "id": "jFPJZGyHLwmR"
      },
      "source": [
        "ji=data_18['Years of experience'].unique()\n",
        "p=np.sort(ji)"
      ],
      "execution_count": 22,
      "outputs": []
    },
    {
      "cell_type": "code",
      "metadata": {
        "colab": {
          "base_uri": "https://localhost:8080/"
        },
        "id": "gcmCOObjyo2E",
        "outputId": "3c81c8d3-b3ca-4f3e-9365-13fe1d3ab26d"
      },
      "source": [
        "p"
      ],
      "execution_count": 23,
      "outputs": [
        {
          "output_type": "execute_result",
          "data": {
            "text/plain": [
              "array([ 0.        ,  0.5       ,  1.        ,  1.5       ,  2.        ,\n",
              "        2.5       ,  3.        ,  4.        ,  4.5       ,  5.        ,\n",
              "        6.        ,  7.        ,  7.5       ,  8.        ,  8.54849727,\n",
              "        9.        , 10.        , 11.        , 12.        , 13.        ,\n",
              "       14.        , 15.        , 16.        , 17.        , 18.        ,\n",
              "       19.        , 20.        , 21.        , 25.        , 30.        ,\n",
              "       38.        ])"
            ]
          },
          "metadata": {
            "tags": []
          },
          "execution_count": 23
        }
      ]
    },
    {
      "cell_type": "code",
      "metadata": {
        "id": "Hyu1Q5WUXOn7",
        "colab": {
          "base_uri": "https://localhost:8080/",
          "height": 542
        },
        "outputId": "8fb942ec-20a3-41ae-9818-772801de5bde"
      },
      "source": [
        "#line plot with plotly express\n",
        "medians=[50000.0,46000.0,46000.0,58000.0,50000.0,50000.0,55555.0,60000.0,39150.0,60000.0,64000.0,68000.0,65000.0,70000.0,68381.765333,70000.0,70000.0,71000.0,71000.0,73500.0,71500.0,68000.0,90500.0,80000.0,72500.0,84000.0,80000.0, 90000.0,109000.0,64000.0,58000.0]\n",
        "import plotly.express as px\n",
        "df = data_18\n",
        "fig = px.line(df, x=p, y=medians,labels={'x':'Total years of experience','y':'the current salary'}, title='Total years of experience vs the current salary')\n",
        "fig.show()"
      ],
      "execution_count": 27,
      "outputs": [
        {
          "output_type": "display_data",
          "data": {
            "text/html": [
              "<html>\n",
              "<head><meta charset=\"utf-8\" /></head>\n",
              "<body>\n",
              "    <div>\n",
              "            <script src=\"https://cdnjs.cloudflare.com/ajax/libs/mathjax/2.7.5/MathJax.js?config=TeX-AMS-MML_SVG\"></script><script type=\"text/javascript\">if (window.MathJax) {MathJax.Hub.Config({SVG: {font: \"STIX-Web\"}});}</script>\n",
              "                <script type=\"text/javascript\">window.PlotlyConfig = {MathJaxConfig: 'local'};</script>\n",
              "        <script src=\"https://cdn.plot.ly/plotly-latest.min.js\"></script>    \n",
              "            <div id=\"4a6229f4-7993-47da-b745-8af8e9efe18c\" class=\"plotly-graph-div\" style=\"height:525px; width:100%;\"></div>\n",
              "            <script type=\"text/javascript\">\n",
              "                \n",
              "                    window.PLOTLYENV=window.PLOTLYENV || {};\n",
              "                    \n",
              "                if (document.getElementById(\"4a6229f4-7993-47da-b745-8af8e9efe18c\")) {\n",
              "                    Plotly.newPlot(\n",
              "                        '4a6229f4-7993-47da-b745-8af8e9efe18c',\n",
              "                        [{\"hoverlabel\": {\"namelength\": 0}, \"hovertemplate\": \"Total years of experience=%{x}<br>the current salary=%{y}\", \"legendgroup\": \"\", \"line\": {\"color\": \"#636efa\", \"dash\": \"solid\"}, \"mode\": \"lines\", \"name\": \"\", \"showlegend\": false, \"type\": \"scatter\", \"x\": [0.0, 0.5, 1.0, 1.5, 2.0, 2.5, 3.0, 4.0, 4.5, 5.0, 6.0, 7.0, 7.5, 8.0, 8.548497267759563, 9.0, 10.0, 11.0, 12.0, 13.0, 14.0, 15.0, 16.0, 17.0, 18.0, 19.0, 20.0, 21.0, 25.0, 30.0, 38.0], \"xaxis\": \"x\", \"y\": [50000.0, 46000.0, 46000.0, 58000.0, 50000.0, 50000.0, 55555.0, 60000.0, 39150.0, 60000.0, 64000.0, 68000.0, 65000.0, 70000.0, 68381.765333, 70000.0, 70000.0, 71000.0, 71000.0, 73500.0, 71500.0, 68000.0, 90500.0, 80000.0, 72500.0, 84000.0, 80000.0, 90000.0, 109000.0, 64000.0, 58000.0], \"yaxis\": \"y\"}],\n",
              "                        {\"legend\": {\"tracegroupgap\": 0}, \"template\": {\"data\": {\"bar\": [{\"error_x\": {\"color\": \"#2a3f5f\"}, \"error_y\": {\"color\": \"#2a3f5f\"}, \"marker\": {\"line\": {\"color\": \"#E5ECF6\", \"width\": 0.5}}, \"type\": \"bar\"}], \"barpolar\": [{\"marker\": {\"line\": {\"color\": \"#E5ECF6\", \"width\": 0.5}}, \"type\": \"barpolar\"}], \"carpet\": [{\"aaxis\": {\"endlinecolor\": \"#2a3f5f\", \"gridcolor\": \"white\", \"linecolor\": \"white\", \"minorgridcolor\": \"white\", \"startlinecolor\": \"#2a3f5f\"}, \"baxis\": {\"endlinecolor\": \"#2a3f5f\", \"gridcolor\": \"white\", \"linecolor\": \"white\", \"minorgridcolor\": \"white\", \"startlinecolor\": \"#2a3f5f\"}, \"type\": \"carpet\"}], \"choropleth\": [{\"colorbar\": {\"outlinewidth\": 0, \"ticks\": \"\"}, \"type\": \"choropleth\"}], \"contour\": [{\"colorbar\": {\"outlinewidth\": 0, \"ticks\": \"\"}, \"colorscale\": [[0.0, \"#0d0887\"], [0.1111111111111111, \"#46039f\"], [0.2222222222222222, \"#7201a8\"], [0.3333333333333333, \"#9c179e\"], [0.4444444444444444, \"#bd3786\"], [0.5555555555555556, \"#d8576b\"], [0.6666666666666666, \"#ed7953\"], [0.7777777777777778, \"#fb9f3a\"], [0.8888888888888888, \"#fdca26\"], [1.0, \"#f0f921\"]], \"type\": \"contour\"}], \"contourcarpet\": [{\"colorbar\": {\"outlinewidth\": 0, \"ticks\": \"\"}, \"type\": \"contourcarpet\"}], \"heatmap\": [{\"colorbar\": {\"outlinewidth\": 0, \"ticks\": \"\"}, \"colorscale\": [[0.0, \"#0d0887\"], [0.1111111111111111, \"#46039f\"], [0.2222222222222222, \"#7201a8\"], [0.3333333333333333, \"#9c179e\"], [0.4444444444444444, \"#bd3786\"], [0.5555555555555556, \"#d8576b\"], [0.6666666666666666, \"#ed7953\"], [0.7777777777777778, \"#fb9f3a\"], [0.8888888888888888, \"#fdca26\"], [1.0, \"#f0f921\"]], \"type\": \"heatmap\"}], \"heatmapgl\": [{\"colorbar\": {\"outlinewidth\": 0, \"ticks\": \"\"}, \"colorscale\": [[0.0, \"#0d0887\"], [0.1111111111111111, \"#46039f\"], [0.2222222222222222, \"#7201a8\"], [0.3333333333333333, \"#9c179e\"], [0.4444444444444444, \"#bd3786\"], [0.5555555555555556, \"#d8576b\"], [0.6666666666666666, \"#ed7953\"], [0.7777777777777778, \"#fb9f3a\"], [0.8888888888888888, \"#fdca26\"], [1.0, \"#f0f921\"]], \"type\": \"heatmapgl\"}], \"histogram\": [{\"marker\": {\"colorbar\": {\"outlinewidth\": 0, \"ticks\": \"\"}}, \"type\": \"histogram\"}], \"histogram2d\": [{\"colorbar\": {\"outlinewidth\": 0, \"ticks\": \"\"}, \"colorscale\": [[0.0, \"#0d0887\"], [0.1111111111111111, \"#46039f\"], [0.2222222222222222, \"#7201a8\"], [0.3333333333333333, \"#9c179e\"], [0.4444444444444444, \"#bd3786\"], [0.5555555555555556, \"#d8576b\"], [0.6666666666666666, \"#ed7953\"], [0.7777777777777778, \"#fb9f3a\"], [0.8888888888888888, \"#fdca26\"], [1.0, \"#f0f921\"]], \"type\": \"histogram2d\"}], \"histogram2dcontour\": [{\"colorbar\": {\"outlinewidth\": 0, \"ticks\": \"\"}, \"colorscale\": [[0.0, \"#0d0887\"], [0.1111111111111111, \"#46039f\"], [0.2222222222222222, \"#7201a8\"], [0.3333333333333333, \"#9c179e\"], [0.4444444444444444, \"#bd3786\"], [0.5555555555555556, \"#d8576b\"], [0.6666666666666666, \"#ed7953\"], [0.7777777777777778, \"#fb9f3a\"], [0.8888888888888888, \"#fdca26\"], [1.0, \"#f0f921\"]], \"type\": \"histogram2dcontour\"}], \"mesh3d\": [{\"colorbar\": {\"outlinewidth\": 0, \"ticks\": \"\"}, \"type\": \"mesh3d\"}], \"parcoords\": [{\"line\": {\"colorbar\": {\"outlinewidth\": 0, \"ticks\": \"\"}}, \"type\": \"parcoords\"}], \"pie\": [{\"automargin\": true, \"type\": \"pie\"}], \"scatter\": [{\"marker\": {\"colorbar\": {\"outlinewidth\": 0, \"ticks\": \"\"}}, \"type\": \"scatter\"}], \"scatter3d\": [{\"line\": {\"colorbar\": {\"outlinewidth\": 0, \"ticks\": \"\"}}, \"marker\": {\"colorbar\": {\"outlinewidth\": 0, \"ticks\": \"\"}}, \"type\": \"scatter3d\"}], \"scattercarpet\": [{\"marker\": {\"colorbar\": {\"outlinewidth\": 0, \"ticks\": \"\"}}, \"type\": \"scattercarpet\"}], \"scattergeo\": [{\"marker\": {\"colorbar\": {\"outlinewidth\": 0, \"ticks\": \"\"}}, \"type\": \"scattergeo\"}], \"scattergl\": [{\"marker\": {\"colorbar\": {\"outlinewidth\": 0, \"ticks\": \"\"}}, \"type\": \"scattergl\"}], \"scattermapbox\": [{\"marker\": {\"colorbar\": {\"outlinewidth\": 0, \"ticks\": \"\"}}, \"type\": \"scattermapbox\"}], \"scatterpolar\": [{\"marker\": {\"colorbar\": {\"outlinewidth\": 0, \"ticks\": \"\"}}, \"type\": \"scatterpolar\"}], \"scatterpolargl\": [{\"marker\": {\"colorbar\": {\"outlinewidth\": 0, \"ticks\": \"\"}}, \"type\": \"scatterpolargl\"}], \"scatterternary\": [{\"marker\": {\"colorbar\": {\"outlinewidth\": 0, \"ticks\": \"\"}}, \"type\": \"scatterternary\"}], \"surface\": [{\"colorbar\": {\"outlinewidth\": 0, \"ticks\": \"\"}, \"colorscale\": [[0.0, \"#0d0887\"], [0.1111111111111111, \"#46039f\"], [0.2222222222222222, \"#7201a8\"], [0.3333333333333333, \"#9c179e\"], [0.4444444444444444, \"#bd3786\"], [0.5555555555555556, \"#d8576b\"], [0.6666666666666666, \"#ed7953\"], [0.7777777777777778, \"#fb9f3a\"], [0.8888888888888888, \"#fdca26\"], [1.0, \"#f0f921\"]], \"type\": \"surface\"}], \"table\": [{\"cells\": {\"fill\": {\"color\": \"#EBF0F8\"}, \"line\": {\"color\": \"white\"}}, \"header\": {\"fill\": {\"color\": \"#C8D4E3\"}, \"line\": {\"color\": \"white\"}}, \"type\": \"table\"}]}, \"layout\": {\"annotationdefaults\": {\"arrowcolor\": \"#2a3f5f\", \"arrowhead\": 0, \"arrowwidth\": 1}, \"coloraxis\": {\"colorbar\": {\"outlinewidth\": 0, \"ticks\": \"\"}}, \"colorscale\": {\"diverging\": [[0, \"#8e0152\"], [0.1, \"#c51b7d\"], [0.2, \"#de77ae\"], [0.3, \"#f1b6da\"], [0.4, \"#fde0ef\"], [0.5, \"#f7f7f7\"], [0.6, \"#e6f5d0\"], [0.7, \"#b8e186\"], [0.8, \"#7fbc41\"], [0.9, \"#4d9221\"], [1, \"#276419\"]], \"sequential\": [[0.0, \"#0d0887\"], [0.1111111111111111, \"#46039f\"], [0.2222222222222222, \"#7201a8\"], [0.3333333333333333, \"#9c179e\"], [0.4444444444444444, \"#bd3786\"], [0.5555555555555556, \"#d8576b\"], [0.6666666666666666, \"#ed7953\"], [0.7777777777777778, \"#fb9f3a\"], [0.8888888888888888, \"#fdca26\"], [1.0, \"#f0f921\"]], \"sequentialminus\": [[0.0, \"#0d0887\"], [0.1111111111111111, \"#46039f\"], [0.2222222222222222, \"#7201a8\"], [0.3333333333333333, \"#9c179e\"], [0.4444444444444444, \"#bd3786\"], [0.5555555555555556, \"#d8576b\"], [0.6666666666666666, \"#ed7953\"], [0.7777777777777778, \"#fb9f3a\"], [0.8888888888888888, \"#fdca26\"], [1.0, \"#f0f921\"]]}, \"colorway\": [\"#636efa\", \"#EF553B\", \"#00cc96\", \"#ab63fa\", \"#FFA15A\", \"#19d3f3\", \"#FF6692\", \"#B6E880\", \"#FF97FF\", \"#FECB52\"], \"font\": {\"color\": \"#2a3f5f\"}, \"geo\": {\"bgcolor\": \"white\", \"lakecolor\": \"white\", \"landcolor\": \"#E5ECF6\", \"showlakes\": true, \"showland\": true, \"subunitcolor\": \"white\"}, \"hoverlabel\": {\"align\": \"left\"}, \"hovermode\": \"closest\", \"mapbox\": {\"style\": \"light\"}, \"paper_bgcolor\": \"white\", \"plot_bgcolor\": \"#E5ECF6\", \"polar\": {\"angularaxis\": {\"gridcolor\": \"white\", \"linecolor\": \"white\", \"ticks\": \"\"}, \"bgcolor\": \"#E5ECF6\", \"radialaxis\": {\"gridcolor\": \"white\", \"linecolor\": \"white\", \"ticks\": \"\"}}, \"scene\": {\"xaxis\": {\"backgroundcolor\": \"#E5ECF6\", \"gridcolor\": \"white\", \"gridwidth\": 2, \"linecolor\": \"white\", \"showbackground\": true, \"ticks\": \"\", \"zerolinecolor\": \"white\"}, \"yaxis\": {\"backgroundcolor\": \"#E5ECF6\", \"gridcolor\": \"white\", \"gridwidth\": 2, \"linecolor\": \"white\", \"showbackground\": true, \"ticks\": \"\", \"zerolinecolor\": \"white\"}, \"zaxis\": {\"backgroundcolor\": \"#E5ECF6\", \"gridcolor\": \"white\", \"gridwidth\": 2, \"linecolor\": \"white\", \"showbackground\": true, \"ticks\": \"\", \"zerolinecolor\": \"white\"}}, \"shapedefaults\": {\"line\": {\"color\": \"#2a3f5f\"}}, \"ternary\": {\"aaxis\": {\"gridcolor\": \"white\", \"linecolor\": \"white\", \"ticks\": \"\"}, \"baxis\": {\"gridcolor\": \"white\", \"linecolor\": \"white\", \"ticks\": \"\"}, \"bgcolor\": \"#E5ECF6\", \"caxis\": {\"gridcolor\": \"white\", \"linecolor\": \"white\", \"ticks\": \"\"}}, \"title\": {\"x\": 0.05}, \"xaxis\": {\"automargin\": true, \"gridcolor\": \"white\", \"linecolor\": \"white\", \"ticks\": \"\", \"title\": {\"standoff\": 15}, \"zerolinecolor\": \"white\", \"zerolinewidth\": 2}, \"yaxis\": {\"automargin\": true, \"gridcolor\": \"white\", \"linecolor\": \"white\", \"ticks\": \"\", \"title\": {\"standoff\": 15}, \"zerolinecolor\": \"white\", \"zerolinewidth\": 2}}}, \"title\": {\"text\": \"Total years of experience vs the current salary\"}, \"xaxis\": {\"anchor\": \"y\", \"domain\": [0.0, 1.0], \"title\": {\"text\": \"Total years of experience\"}}, \"yaxis\": {\"anchor\": \"x\", \"domain\": [0.0, 1.0], \"title\": {\"text\": \"the current salary\"}}},\n",
              "                        {\"responsive\": true}\n",
              "                    ).then(function(){\n",
              "                            \n",
              "var gd = document.getElementById('4a6229f4-7993-47da-b745-8af8e9efe18c');\n",
              "var x = new MutationObserver(function (mutations, observer) {{\n",
              "        var display = window.getComputedStyle(gd).display;\n",
              "        if (!display || display === 'none') {{\n",
              "            console.log([gd, 'removed!']);\n",
              "            Plotly.purge(gd);\n",
              "            observer.disconnect();\n",
              "        }}\n",
              "}});\n",
              "\n",
              "// Listen for the removal of the full notebook cells\n",
              "var notebookContainer = gd.closest('#notebook-container');\n",
              "if (notebookContainer) {{\n",
              "    x.observe(notebookContainer, {childList: true});\n",
              "}}\n",
              "\n",
              "// Listen for the clearing of the current output cell\n",
              "var outputEl = gd.closest('.output');\n",
              "if (outputEl) {{\n",
              "    x.observe(outputEl, {childList: true});\n",
              "}}\n",
              "\n",
              "                        })\n",
              "                };\n",
              "                \n",
              "            </script>\n",
              "        </div>\n",
              "</body>\n",
              "</html>"
            ]
          },
          "metadata": {
            "tags": []
          }
        }
      ]
    },
    {
      "cell_type": "code",
      "metadata": {
        "id": "r6Gu8YF9GqS2",
        "colab": {
          "base_uri": "https://localhost:8080/"
        },
        "outputId": "3c03cb0f-c7b0-491b-9905-4c1fdb80f3a2"
      },
      "source": [
        "data_19.groupby('Years of experience').median()['Yearly brutto salary (without bonus and stocks)'] \n"
      ],
      "execution_count": 32,
      "outputs": [
        {
          "output_type": "execute_result",
          "data": {
            "text/plain": [
              "Years of experience\n",
              "0      55000.0\n",
              "1      46800.0\n",
              "2      52500.0\n",
              "3      55000.0\n",
              "4      62000.0\n",
              "5      65000.0\n",
              "6      68000.0\n",
              "7      67000.0\n",
              "8      74500.0\n",
              "9      74500.0\n",
              "10     76500.0\n",
              "11     76500.0\n",
              "12     77700.0\n",
              "13     70000.0\n",
              "14     80000.0\n",
              "15     75000.0\n",
              "16     72000.0\n",
              "17     75000.0\n",
              "18     82500.0\n",
              "19     73000.0\n",
              "20     78000.0\n",
              "22    100500.0\n",
              "24    115000.0\n",
              "25     79800.0\n",
              "28    110000.0\n",
              "30     60000.0\n",
              "Name: Yearly brutto salary (without bonus and stocks), dtype: float64"
            ]
          },
          "metadata": {
            "tags": []
          },
          "execution_count": 32
        }
      ]
    },
    {
      "cell_type": "code",
      "metadata": {
        "id": "4HJ3fogi2LQU"
      },
      "source": [
        "k=data_19['Years of experience'].unique()\n",
        "q=np.sort(k)\n",
        "medians19=[ 55000.0,46800.0,52500.0,55000.0,62000.0,65000.0,68000.0,67000.0,74500.0,74500.0,76500.0,76500.0,77700.0,70000.0,80000.0,75000.0,72000.0,75000.0,82500.0,73000.0,78000.0,100500.0,115000.0,79800.0,110000.0,60000.0]"
      ],
      "execution_count": 40,
      "outputs": []
    },
    {
      "cell_type": "code",
      "metadata": {
        "colab": {
          "base_uri": "https://localhost:8080/"
        },
        "id": "AbwSUeKnGPmK",
        "outputId": "ff09a088-840f-4bcf-9fa6-8032db7ffb55"
      },
      "source": [
        "# The years of experience above are not completely numerical ,this will be edited manually ,where we have lesss than year, I will replace with 0\n",
        "# There are many more adjustments to be made ,so the editing will be done even to the data_20 frame and the medians will be recalculated\n",
        "data_20['Total years of experience'].unique()\n"
      ],
      "execution_count": 63,
      "outputs": [
        {
          "output_type": "execute_result",
          "data": {
            "text/plain": [
              "array([  5. ,   7. ,  12. ,   4. ,  17. ,   6. ,   8. ,  15. ,   2. ,\n",
              "        25. ,  10. ,  14. ,  11. ,  18. ,  13. ,  30. ,   3. ,  40. ,\n",
              "        26. ,  23. ,   9. ,  19. ,  20. ,   5.5,  22. ,  16. ,   0.8,\n",
              "         1. ,   1.5,   6.5,  21. ,   7.5,   2.5,  28. ,  29. ,  24. ,\n",
              "         0. ,   4.5,  27. ,  31. , 383. ,   3.5])"
            ]
          },
          "metadata": {
            "tags": []
          },
          "execution_count": 63
        }
      ]
    },
    {
      "cell_type": "code",
      "metadata": {
        "colab": {
          "base_uri": "https://localhost:8080/"
        },
        "id": "1Kqa41q9KVgg",
        "outputId": "0152ceac-53f9-4cde-85aa-663507782aab"
      },
      "source": [
        "data_20['Total years of experience'].replace({'1 (as QA Engineer) / 11 in total': 1, '15, thereof 8 as CTO': 15,'6 (not as a data scientist, but as a lab scientist)':6,'less than year':0,'1,5':1.5,'2,5':2.5,}, inplace=True)\n",
        "data_20['Total years of experience']"
      ],
      "execution_count": 48,
      "outputs": [
        {
          "output_type": "execute_result",
          "data": {
            "text/plain": [
              "0        5\n",
              "1        7\n",
              "2       12\n",
              "3        4\n",
              "4       17\n",
              "        ..\n",
              "1248     9\n",
              "1249    10\n",
              "1250    15\n",
              "1251     7\n",
              "1252     2\n",
              "Name: Total years of experience, Length: 1253, dtype: object"
            ]
          },
          "metadata": {
            "tags": []
          },
          "execution_count": 48
        }
      ]
    },
    {
      "cell_type": "code",
      "metadata": {
        "id": "hMc0W1RxN6sB"
      },
      "source": [
        "# converting to float since only numerical values can be plotted on the line graph\n",
        "data_20['Total years of experience']=data_20['Total years of experience'].astype(float)"
      ],
      "execution_count": 54,
      "outputs": []
    },
    {
      "cell_type": "code",
      "metadata": {
        "colab": {
          "base_uri": "https://localhost:8080/"
        },
        "id": "xkjMaslDOqSS",
        "outputId": "a21f52a9-077e-4e0c-ecf1-985be2e41a38"
      },
      "source": [
        "# computing the median for each total year of experience \n",
        "data_20.groupby('Total years of experience').median()['Yearly brutto salary (without bonus and stocks) in EUR'] "
      ],
      "execution_count": 55,
      "outputs": [
        {
          "output_type": "execute_result",
          "data": {
            "text/plain": [
              "Total years of experience\n",
              "0.0       40000.0\n",
              "0.8       29750.0\n",
              "1.0       48500.0\n",
              "1.5       49925.0\n",
              "2.0       50000.0\n",
              "2.5       60000.0\n",
              "3.0       56000.0\n",
              "3.5       62500.0\n",
              "4.0       60000.0\n",
              "4.5       67500.0\n",
              "5.0       65000.0\n",
              "5.5       48000.0\n",
              "6.0       67750.0\n",
              "6.5       58000.0\n",
              "7.0       70000.0\n",
              "7.5       68000.0\n",
              "8.0       68000.0\n",
              "9.0       74000.0\n",
              "10.0      75000.0\n",
              "11.0      75000.0\n",
              "12.0      75000.0\n",
              "13.0      83000.0\n",
              "14.0      80000.0\n",
              "15.0      78000.0\n",
              "16.0      83000.0\n",
              "17.0      76000.0\n",
              "18.0      85500.0\n",
              "19.0      87000.0\n",
              "20.0      80000.0\n",
              "21.0      80000.0\n",
              "22.0      70000.0\n",
              "23.0     100000.0\n",
              "24.0     130000.0\n",
              "25.0      75000.0\n",
              "26.0      93000.0\n",
              "27.0      73500.0\n",
              "28.0      78500.0\n",
              "29.0      28800.0\n",
              "30.0      64500.0\n",
              "31.0     110000.0\n",
              "40.0      70000.0\n",
              "383.0     70000.0\n",
              "Name: Yearly brutto salary (without bonus and stocks) in EUR, dtype: float64"
            ]
          },
          "metadata": {
            "tags": []
          },
          "execution_count": 55
        }
      ]
    },
    {
      "cell_type": "code",
      "metadata": {
        "colab": {
          "base_uri": "https://localhost:8080/"
        },
        "id": "q8075x0LDWQf",
        "outputId": "c1b5714d-4d24-48aa-df24-7ef26a7b9082"
      },
      "source": [
        "gi=data_20['Total years of experience'].unique()\n",
        "ss=np.sort(gi)\n",
        "ss"
      ],
      "execution_count": 60,
      "outputs": [
        {
          "output_type": "execute_result",
          "data": {
            "text/plain": [
              "array([  0. ,   0.8,   1. ,   1.5,   2. ,   2.5,   3. ,   3.5,   4. ,\n",
              "         4.5,   5. ,   5.5,   6. ,   6.5,   7. ,   7.5,   8. ,   9. ,\n",
              "        10. ,  11. ,  12. ,  13. ,  14. ,  15. ,  16. ,  17. ,  18. ,\n",
              "        19. ,  20. ,  21. ,  22. ,  23. ,  24. ,  25. ,  26. ,  27. ,\n",
              "        28. ,  29. ,  30. ,  31. ,  40. , 383. ])"
            ]
          },
          "metadata": {
            "tags": []
          },
          "execution_count": 60
        }
      ]
    },
    {
      "cell_type": "code",
      "metadata": {
        "colab": {
          "base_uri": "https://localhost:8080/"
        },
        "id": "3yMbd3SUYkd0",
        "outputId": "7216b842-89f5-4f95-a9f4-f366d8950cb7"
      },
      "source": [
        "# the number of years 383.0 will be replaced by 38.3\n",
        "lik=np.where(ss==383.0,38.3,ss)\n",
        "fin=np.sort(lik)\n",
        "fin"
      ],
      "execution_count": 67,
      "outputs": [
        {
          "output_type": "execute_result",
          "data": {
            "text/plain": [
              "array([ 0. ,  0.8,  1. ,  1.5,  2. ,  2.5,  3. ,  3.5,  4. ,  4.5,  5. ,\n",
              "        5.5,  6. ,  6.5,  7. ,  7.5,  8. ,  9. , 10. , 11. , 12. , 13. ,\n",
              "       14. , 15. , 16. , 17. , 18. , 19. , 20. , 21. , 22. , 23. , 24. ,\n",
              "       25. , 26. , 27. , 28. , 29. , 30. , 31. , 38.3, 40. ])"
            ]
          },
          "metadata": {
            "tags": []
          },
          "execution_count": 67
        }
      ]
    },
    {
      "cell_type": "code",
      "metadata": {
        "id": "UYrdcjAQJHhY"
      },
      "source": [
        "medians20=[40000.0,29750.0,48500.0,49925.0,50000.0,60000.0,56000.0,62500.0,60000.0,67500.0,65000.0,48000.0,67750.0,58000.0,70000.0,68000.0,68000.0,74000.0,75000.0,75000.0,75000.0,83000.0,80000.0,78000.0,83000.0,76000.0,85500.0,87000.0,80000.0,80000.0,70000.0,100000.0,130000.0,75000.0,93000.0,73500.0,78500.0,28800.0,64500.0,110000.0,70000.0,70000.0]"
      ],
      "execution_count": 61,
      "outputs": []
    },
    {
      "cell_type": "code",
      "metadata": {
        "colab": {
          "base_uri": "https://localhost:8080/",
          "height": 542
        },
        "id": "1ts0Z9eI2Ohs",
        "outputId": "ec9091de-220a-4d7b-f201-9c3b23f5c8fb"
      },
      "source": [
        "#multiple lin eplots with plotly graph objects\n",
        "import plotly.graph_objects as go\n",
        "from plotly.subplots import make_subplots\n",
        "\n",
        "# Create figure with secondary y-axis\n",
        "fig = make_subplots(specs=[[{\"secondary_y\": True}]])\n",
        "\n",
        "# Add traces\n",
        "fig.add_trace(\n",
        "    go.Scatter(x=p, y=medians, name=\"2018 data\"),\n",
        "    secondary_y=False,\n",
        ")\n",
        "\n",
        "fig.add_trace(\n",
        "    go.Scatter(x=q, y=medians19, name=\"2019 data\"),\n",
        "    secondary_y=True,\n",
        ")\n",
        "fig.add_trace(\n",
        "    go.Scatter(x=fin, y=medians20, name=\"2020 data\"),\n",
        "    secondary_y=True,\n",
        ")\n",
        "\n",
        "# Add figure title\n",
        "fig.update_layout(\n",
        "    title_text=\"Total years of experience versus current salary\"\n",
        ")\n",
        "\n",
        "# Set x-axis title\n",
        "fig.update_xaxes(title_text=\"Total years of experience\")\n",
        "\n",
        "# Set y-axes titles\n",
        "fig.update_yaxes(title_text=\"<b>primary</b> current salary\", secondary_y=False)\n",
        "fig.update_yaxes(title_text=\"<b>secondary</b> current salary\", secondary_y=True)\n",
        "fig.update_yaxes(title_text=\"<b>secondary</b> current salary\", secondary_y=True)\n",
        "\n",
        "fig.show()"
      ],
      "execution_count": 69,
      "outputs": [
        {
          "output_type": "display_data",
          "data": {
            "text/html": [
              "<html>\n",
              "<head><meta charset=\"utf-8\" /></head>\n",
              "<body>\n",
              "    <div>\n",
              "            <script src=\"https://cdnjs.cloudflare.com/ajax/libs/mathjax/2.7.5/MathJax.js?config=TeX-AMS-MML_SVG\"></script><script type=\"text/javascript\">if (window.MathJax) {MathJax.Hub.Config({SVG: {font: \"STIX-Web\"}});}</script>\n",
              "                <script type=\"text/javascript\">window.PlotlyConfig = {MathJaxConfig: 'local'};</script>\n",
              "        <script src=\"https://cdn.plot.ly/plotly-latest.min.js\"></script>    \n",
              "            <div id=\"4e9467b9-c347-4874-ac9c-efd2b8b00d1d\" class=\"plotly-graph-div\" style=\"height:525px; width:100%;\"></div>\n",
              "            <script type=\"text/javascript\">\n",
              "                \n",
              "                    window.PLOTLYENV=window.PLOTLYENV || {};\n",
              "                    \n",
              "                if (document.getElementById(\"4e9467b9-c347-4874-ac9c-efd2b8b00d1d\")) {\n",
              "                    Plotly.newPlot(\n",
              "                        '4e9467b9-c347-4874-ac9c-efd2b8b00d1d',\n",
              "                        [{\"name\": \"2018 data\", \"type\": \"scatter\", \"x\": [0.0, 0.5, 1.0, 1.5, 2.0, 2.5, 3.0, 4.0, 4.5, 5.0, 6.0, 7.0, 7.5, 8.0, 8.548497267759563, 9.0, 10.0, 11.0, 12.0, 13.0, 14.0, 15.0, 16.0, 17.0, 18.0, 19.0, 20.0, 21.0, 25.0, 30.0, 38.0], \"xaxis\": \"x\", \"y\": [50000.0, 46000.0, 46000.0, 58000.0, 50000.0, 50000.0, 55555.0, 60000.0, 39150.0, 60000.0, 64000.0, 68000.0, 65000.0, 70000.0, 68381.765333, 70000.0, 70000.0, 71000.0, 71000.0, 73500.0, 71500.0, 68000.0, 90500.0, 80000.0, 72500.0, 84000.0, 80000.0, 90000.0, 109000.0, 64000.0, 58000.0], \"yaxis\": \"y\"}, {\"name\": \"2019 data\", \"type\": \"scatter\", \"x\": [0, 1, 2, 3, 4, 5, 6, 7, 8, 9, 10, 11, 12, 13, 14, 15, 16, 17, 18, 19, 20, 22, 24, 25, 28, 30], \"xaxis\": \"x\", \"y\": [55000.0, 46800.0, 52500.0, 55000.0, 62000.0, 65000.0, 68000.0, 67000.0, 74500.0, 74500.0, 76500.0, 76500.0, 77700.0, 70000.0, 80000.0, 75000.0, 72000.0, 75000.0, 82500.0, 73000.0, 78000.0, 100500.0, 115000.0, 79800.0, 110000.0, 60000.0], \"yaxis\": \"y2\"}, {\"name\": \"2020 data\", \"type\": \"scatter\", \"x\": [0.0, 0.8, 1.0, 1.5, 2.0, 2.5, 3.0, 3.5, 4.0, 4.5, 5.0, 5.5, 6.0, 6.5, 7.0, 7.5, 8.0, 9.0, 10.0, 11.0, 12.0, 13.0, 14.0, 15.0, 16.0, 17.0, 18.0, 19.0, 20.0, 21.0, 22.0, 23.0, 24.0, 25.0, 26.0, 27.0, 28.0, 29.0, 30.0, 31.0, 38.3, 40.0], \"xaxis\": \"x\", \"y\": [40000.0, 29750.0, 48500.0, 49925.0, 50000.0, 60000.0, 56000.0, 62500.0, 60000.0, 67500.0, 65000.0, 48000.0, 67750.0, 58000.0, 70000.0, 68000.0, 68000.0, 74000.0, 75000.0, 75000.0, 75000.0, 83000.0, 80000.0, 78000.0, 83000.0, 76000.0, 85500.0, 87000.0, 80000.0, 80000.0, 70000.0, 100000.0, 130000.0, 75000.0, 93000.0, 73500.0, 78500.0, 28800.0, 64500.0, 110000.0, 70000.0, 70000.0], \"yaxis\": \"y2\"}],\n",
              "                        {\"template\": {\"data\": {\"bar\": [{\"error_x\": {\"color\": \"#2a3f5f\"}, \"error_y\": {\"color\": \"#2a3f5f\"}, \"marker\": {\"line\": {\"color\": \"#E5ECF6\", \"width\": 0.5}}, \"type\": \"bar\"}], \"barpolar\": [{\"marker\": {\"line\": {\"color\": \"#E5ECF6\", \"width\": 0.5}}, \"type\": \"barpolar\"}], \"carpet\": [{\"aaxis\": {\"endlinecolor\": \"#2a3f5f\", \"gridcolor\": \"white\", \"linecolor\": \"white\", \"minorgridcolor\": \"white\", \"startlinecolor\": \"#2a3f5f\"}, \"baxis\": {\"endlinecolor\": \"#2a3f5f\", \"gridcolor\": \"white\", \"linecolor\": \"white\", \"minorgridcolor\": \"white\", \"startlinecolor\": \"#2a3f5f\"}, \"type\": \"carpet\"}], \"choropleth\": [{\"colorbar\": {\"outlinewidth\": 0, \"ticks\": \"\"}, \"type\": \"choropleth\"}], \"contour\": [{\"colorbar\": {\"outlinewidth\": 0, \"ticks\": \"\"}, \"colorscale\": [[0.0, \"#0d0887\"], [0.1111111111111111, \"#46039f\"], [0.2222222222222222, \"#7201a8\"], [0.3333333333333333, \"#9c179e\"], [0.4444444444444444, \"#bd3786\"], [0.5555555555555556, \"#d8576b\"], [0.6666666666666666, \"#ed7953\"], [0.7777777777777778, \"#fb9f3a\"], [0.8888888888888888, \"#fdca26\"], [1.0, \"#f0f921\"]], \"type\": \"contour\"}], \"contourcarpet\": [{\"colorbar\": {\"outlinewidth\": 0, \"ticks\": \"\"}, \"type\": \"contourcarpet\"}], \"heatmap\": [{\"colorbar\": {\"outlinewidth\": 0, \"ticks\": \"\"}, \"colorscale\": [[0.0, \"#0d0887\"], [0.1111111111111111, \"#46039f\"], [0.2222222222222222, \"#7201a8\"], [0.3333333333333333, \"#9c179e\"], [0.4444444444444444, \"#bd3786\"], [0.5555555555555556, \"#d8576b\"], [0.6666666666666666, \"#ed7953\"], [0.7777777777777778, \"#fb9f3a\"], [0.8888888888888888, \"#fdca26\"], [1.0, \"#f0f921\"]], \"type\": \"heatmap\"}], \"heatmapgl\": [{\"colorbar\": {\"outlinewidth\": 0, \"ticks\": \"\"}, \"colorscale\": [[0.0, \"#0d0887\"], [0.1111111111111111, \"#46039f\"], [0.2222222222222222, \"#7201a8\"], [0.3333333333333333, \"#9c179e\"], [0.4444444444444444, \"#bd3786\"], [0.5555555555555556, \"#d8576b\"], [0.6666666666666666, \"#ed7953\"], [0.7777777777777778, \"#fb9f3a\"], [0.8888888888888888, \"#fdca26\"], [1.0, \"#f0f921\"]], \"type\": \"heatmapgl\"}], \"histogram\": [{\"marker\": {\"colorbar\": {\"outlinewidth\": 0, \"ticks\": \"\"}}, \"type\": \"histogram\"}], \"histogram2d\": [{\"colorbar\": {\"outlinewidth\": 0, \"ticks\": \"\"}, \"colorscale\": [[0.0, \"#0d0887\"], [0.1111111111111111, \"#46039f\"], [0.2222222222222222, \"#7201a8\"], [0.3333333333333333, \"#9c179e\"], [0.4444444444444444, \"#bd3786\"], [0.5555555555555556, \"#d8576b\"], [0.6666666666666666, \"#ed7953\"], [0.7777777777777778, \"#fb9f3a\"], [0.8888888888888888, \"#fdca26\"], [1.0, \"#f0f921\"]], \"type\": \"histogram2d\"}], \"histogram2dcontour\": [{\"colorbar\": {\"outlinewidth\": 0, \"ticks\": \"\"}, \"colorscale\": [[0.0, \"#0d0887\"], [0.1111111111111111, \"#46039f\"], [0.2222222222222222, \"#7201a8\"], [0.3333333333333333, \"#9c179e\"], [0.4444444444444444, \"#bd3786\"], [0.5555555555555556, \"#d8576b\"], [0.6666666666666666, \"#ed7953\"], [0.7777777777777778, \"#fb9f3a\"], [0.8888888888888888, \"#fdca26\"], [1.0, \"#f0f921\"]], \"type\": \"histogram2dcontour\"}], \"mesh3d\": [{\"colorbar\": {\"outlinewidth\": 0, \"ticks\": \"\"}, \"type\": \"mesh3d\"}], \"parcoords\": [{\"line\": {\"colorbar\": {\"outlinewidth\": 0, \"ticks\": \"\"}}, \"type\": \"parcoords\"}], \"pie\": [{\"automargin\": true, \"type\": \"pie\"}], \"scatter\": [{\"marker\": {\"colorbar\": {\"outlinewidth\": 0, \"ticks\": \"\"}}, \"type\": \"scatter\"}], \"scatter3d\": [{\"line\": {\"colorbar\": {\"outlinewidth\": 0, \"ticks\": \"\"}}, \"marker\": {\"colorbar\": {\"outlinewidth\": 0, \"ticks\": \"\"}}, \"type\": \"scatter3d\"}], \"scattercarpet\": [{\"marker\": {\"colorbar\": {\"outlinewidth\": 0, \"ticks\": \"\"}}, \"type\": \"scattercarpet\"}], \"scattergeo\": [{\"marker\": {\"colorbar\": {\"outlinewidth\": 0, \"ticks\": \"\"}}, \"type\": \"scattergeo\"}], \"scattergl\": [{\"marker\": {\"colorbar\": {\"outlinewidth\": 0, \"ticks\": \"\"}}, \"type\": \"scattergl\"}], \"scattermapbox\": [{\"marker\": {\"colorbar\": {\"outlinewidth\": 0, \"ticks\": \"\"}}, \"type\": \"scattermapbox\"}], \"scatterpolar\": [{\"marker\": {\"colorbar\": {\"outlinewidth\": 0, \"ticks\": \"\"}}, \"type\": \"scatterpolar\"}], \"scatterpolargl\": [{\"marker\": {\"colorbar\": {\"outlinewidth\": 0, \"ticks\": \"\"}}, \"type\": \"scatterpolargl\"}], \"scatterternary\": [{\"marker\": {\"colorbar\": {\"outlinewidth\": 0, \"ticks\": \"\"}}, \"type\": \"scatterternary\"}], \"surface\": [{\"colorbar\": {\"outlinewidth\": 0, \"ticks\": \"\"}, \"colorscale\": [[0.0, \"#0d0887\"], [0.1111111111111111, \"#46039f\"], [0.2222222222222222, \"#7201a8\"], [0.3333333333333333, \"#9c179e\"], [0.4444444444444444, \"#bd3786\"], [0.5555555555555556, \"#d8576b\"], [0.6666666666666666, \"#ed7953\"], [0.7777777777777778, \"#fb9f3a\"], [0.8888888888888888, \"#fdca26\"], [1.0, \"#f0f921\"]], \"type\": \"surface\"}], \"table\": [{\"cells\": {\"fill\": {\"color\": \"#EBF0F8\"}, \"line\": {\"color\": \"white\"}}, \"header\": {\"fill\": {\"color\": \"#C8D4E3\"}, \"line\": {\"color\": \"white\"}}, \"type\": \"table\"}]}, \"layout\": {\"annotationdefaults\": {\"arrowcolor\": \"#2a3f5f\", \"arrowhead\": 0, \"arrowwidth\": 1}, \"coloraxis\": {\"colorbar\": {\"outlinewidth\": 0, \"ticks\": \"\"}}, \"colorscale\": {\"diverging\": [[0, \"#8e0152\"], [0.1, \"#c51b7d\"], [0.2, \"#de77ae\"], [0.3, \"#f1b6da\"], [0.4, \"#fde0ef\"], [0.5, \"#f7f7f7\"], [0.6, \"#e6f5d0\"], [0.7, \"#b8e186\"], [0.8, \"#7fbc41\"], [0.9, \"#4d9221\"], [1, \"#276419\"]], \"sequential\": [[0.0, \"#0d0887\"], [0.1111111111111111, \"#46039f\"], [0.2222222222222222, \"#7201a8\"], [0.3333333333333333, \"#9c179e\"], [0.4444444444444444, \"#bd3786\"], [0.5555555555555556, \"#d8576b\"], [0.6666666666666666, \"#ed7953\"], [0.7777777777777778, \"#fb9f3a\"], [0.8888888888888888, \"#fdca26\"], [1.0, \"#f0f921\"]], \"sequentialminus\": [[0.0, \"#0d0887\"], [0.1111111111111111, \"#46039f\"], [0.2222222222222222, \"#7201a8\"], [0.3333333333333333, \"#9c179e\"], [0.4444444444444444, \"#bd3786\"], [0.5555555555555556, \"#d8576b\"], [0.6666666666666666, \"#ed7953\"], [0.7777777777777778, \"#fb9f3a\"], [0.8888888888888888, \"#fdca26\"], [1.0, \"#f0f921\"]]}, \"colorway\": [\"#636efa\", \"#EF553B\", \"#00cc96\", \"#ab63fa\", \"#FFA15A\", \"#19d3f3\", \"#FF6692\", \"#B6E880\", \"#FF97FF\", \"#FECB52\"], \"font\": {\"color\": \"#2a3f5f\"}, \"geo\": {\"bgcolor\": \"white\", \"lakecolor\": \"white\", \"landcolor\": \"#E5ECF6\", \"showlakes\": true, \"showland\": true, \"subunitcolor\": \"white\"}, \"hoverlabel\": {\"align\": \"left\"}, \"hovermode\": \"closest\", \"mapbox\": {\"style\": \"light\"}, \"paper_bgcolor\": \"white\", \"plot_bgcolor\": \"#E5ECF6\", \"polar\": {\"angularaxis\": {\"gridcolor\": \"white\", \"linecolor\": \"white\", \"ticks\": \"\"}, \"bgcolor\": \"#E5ECF6\", \"radialaxis\": {\"gridcolor\": \"white\", \"linecolor\": \"white\", \"ticks\": \"\"}}, \"scene\": {\"xaxis\": {\"backgroundcolor\": \"#E5ECF6\", \"gridcolor\": \"white\", \"gridwidth\": 2, \"linecolor\": \"white\", \"showbackground\": true, \"ticks\": \"\", \"zerolinecolor\": \"white\"}, \"yaxis\": {\"backgroundcolor\": \"#E5ECF6\", \"gridcolor\": \"white\", \"gridwidth\": 2, \"linecolor\": \"white\", \"showbackground\": true, \"ticks\": \"\", \"zerolinecolor\": \"white\"}, \"zaxis\": {\"backgroundcolor\": \"#E5ECF6\", \"gridcolor\": \"white\", \"gridwidth\": 2, \"linecolor\": \"white\", \"showbackground\": true, \"ticks\": \"\", \"zerolinecolor\": \"white\"}}, \"shapedefaults\": {\"line\": {\"color\": \"#2a3f5f\"}}, \"ternary\": {\"aaxis\": {\"gridcolor\": \"white\", \"linecolor\": \"white\", \"ticks\": \"\"}, \"baxis\": {\"gridcolor\": \"white\", \"linecolor\": \"white\", \"ticks\": \"\"}, \"bgcolor\": \"#E5ECF6\", \"caxis\": {\"gridcolor\": \"white\", \"linecolor\": \"white\", \"ticks\": \"\"}}, \"title\": {\"x\": 0.05}, \"xaxis\": {\"automargin\": true, \"gridcolor\": \"white\", \"linecolor\": \"white\", \"ticks\": \"\", \"title\": {\"standoff\": 15}, \"zerolinecolor\": \"white\", \"zerolinewidth\": 2}, \"yaxis\": {\"automargin\": true, \"gridcolor\": \"white\", \"linecolor\": \"white\", \"ticks\": \"\", \"title\": {\"standoff\": 15}, \"zerolinecolor\": \"white\", \"zerolinewidth\": 2}}}, \"title\": {\"text\": \"Total years of experience versus current salary\"}, \"xaxis\": {\"anchor\": \"y\", \"domain\": [0.0, 0.94], \"title\": {\"text\": \"Total years of experience\"}}, \"yaxis\": {\"anchor\": \"x\", \"domain\": [0.0, 1.0], \"title\": {\"text\": \"<b>primary</b> current salary\"}}, \"yaxis2\": {\"anchor\": \"x\", \"overlaying\": \"y\", \"side\": \"right\", \"title\": {\"text\": \"<b>secondary</b> current salary\"}}},\n",
              "                        {\"responsive\": true}\n",
              "                    ).then(function(){\n",
              "                            \n",
              "var gd = document.getElementById('4e9467b9-c347-4874-ac9c-efd2b8b00d1d');\n",
              "var x = new MutationObserver(function (mutations, observer) {{\n",
              "        var display = window.getComputedStyle(gd).display;\n",
              "        if (!display || display === 'none') {{\n",
              "            console.log([gd, 'removed!']);\n",
              "            Plotly.purge(gd);\n",
              "            observer.disconnect();\n",
              "        }}\n",
              "}});\n",
              "\n",
              "// Listen for the removal of the full notebook cells\n",
              "var notebookContainer = gd.closest('#notebook-container');\n",
              "if (notebookContainer) {{\n",
              "    x.observe(notebookContainer, {childList: true});\n",
              "}}\n",
              "\n",
              "// Listen for the clearing of the current output cell\n",
              "var outputEl = gd.closest('.output');\n",
              "if (outputEl) {{\n",
              "    x.observe(outputEl, {childList: true});\n",
              "}}\n",
              "\n",
              "                        })\n",
              "                };\n",
              "                \n",
              "            </script>\n",
              "        </div>\n",
              "</body>\n",
              "</html>"
            ]
          },
          "metadata": {
            "tags": []
          }
        }
      ]
    },
    {
      "cell_type": "code",
      "metadata": {
        "colab": {
          "base_uri": "https://localhost:8080/"
        },
        "id": "xT8P-2h02PNj",
        "outputId": "2ba6acd6-3dd4-4d56-f8b8-47056b133c82"
      },
      "source": [
        "data_20['Your main technology / programming language'].value_counts()"
      ],
      "execution_count": 70,
      "outputs": [
        {
          "output_type": "execute_result",
          "data": {
            "text/plain": [
              "Java                          311\n",
              "Python                        164\n",
              "PHP                            56\n",
              "C++                            38\n",
              "JavaScript                     34\n",
              "                             ... \n",
              "Web                             1\n",
              "--                              1\n",
              ".net, c++, spss, embeddded      1\n",
              "TypeScript, Kotlin              1\n",
              "Sketch, Figma                   1\n",
              "Name: Your main technology / programming language, Length: 256, dtype: int64"
            ]
          },
          "metadata": {
            "tags": []
          },
          "execution_count": 70
        }
      ]
    },
    {
      "cell_type": "code",
      "metadata": {
        "colab": {
          "base_uri": "https://localhost:8080/"
        },
        "id": "ZthrIl4r2Pze",
        "outputId": "8448eb08-1863-4442-e447-d080aafa4df3"
      },
      "source": [
        "#creating a data frame from the valuecounts\n",
        "# the next two cells below are for my personal learning since I had some doubts .I just realised that in the previous line plots I could create dataframes to extract\n",
        "#the medians instead of manually writing them into a list  \n",
        "df=pd.DataFrame(data_20['Your main technology / programming language'].value_counts())\n",
        "df.head()\n",
        "df.shape"
      ],
      "execution_count": 75,
      "outputs": [
        {
          "output_type": "execute_result",
          "data": {
            "text/plain": [
              "(256, 1)"
            ]
          },
          "metadata": {
            "tags": []
          },
          "execution_count": 75
        }
      ]
    },
    {
      "cell_type": "code",
      "metadata": {
        "id": "cLHypYM1GrFv",
        "colab": {
          "base_uri": "https://localhost:8080/"
        },
        "outputId": "d21c2e39-92c2-40d8-d35f-4ba0fafb5529"
      },
      "source": [
        "df['Your main technology / programming language']\n",
        "df.columns"
      ],
      "execution_count": 77,
      "outputs": [
        {
          "output_type": "execute_result",
          "data": {
            "text/plain": [
              "Index(['Your main technology / programming language'], dtype='object')"
            ]
          },
          "metadata": {
            "tags": []
          },
          "execution_count": 77
        }
      ]
    },
    {
      "cell_type": "code",
      "metadata": {
        "id": "dixZ2lS-GtZC",
        "colab": {
          "base_uri": "https://localhost:8080/"
        },
        "outputId": "0bf411f6-884f-4ed9-9f32-96e31dc006e8"
      },
      "source": [
        "df.index"
      ],
      "execution_count": 78,
      "outputs": [
        {
          "output_type": "execute_result",
          "data": {
            "text/plain": [
              "Index(['Java', 'Python', 'PHP', 'C++', 'JavaScript', 'Javascript', 'C#',\n",
              "       'python', 'Scala', 'Swift',\n",
              "       ...\n",
              "       'nothing', 'JavaScript/TypeScript', 'Network', 'Nodejs', 'julia', 'Web',\n",
              "       '--', '.net, c++, spss, embeddded', 'TypeScript, Kotlin',\n",
              "       'Sketch, Figma'],\n",
              "      dtype='object', length=256)"
            ]
          },
          "metadata": {
            "tags": []
          },
          "execution_count": 78
        }
      ]
    },
    {
      "cell_type": "code",
      "metadata": {
        "id": "IvP1yPa3Go_3",
        "colab": {
          "base_uri": "https://localhost:8080/",
          "height": 542
        },
        "outputId": "dc4db693-d923-430b-8765-2d7fd7ddd83f"
      },
      "source": [
        "#plotting bar chart of main technologies\n",
        "import plotly.express as px\n",
        "fig = px.bar(df, x=df.index, y=df['Your main technology / programming language'])\n",
        "fig.show()"
      ],
      "execution_count": 82,
      "outputs": [
        {
          "output_type": "display_data",
          "data": {
            "text/html": [
              "<html>\n",
              "<head><meta charset=\"utf-8\" /></head>\n",
              "<body>\n",
              "    <div>\n",
              "            <script src=\"https://cdnjs.cloudflare.com/ajax/libs/mathjax/2.7.5/MathJax.js?config=TeX-AMS-MML_SVG\"></script><script type=\"text/javascript\">if (window.MathJax) {MathJax.Hub.Config({SVG: {font: \"STIX-Web\"}});}</script>\n",
              "                <script type=\"text/javascript\">window.PlotlyConfig = {MathJaxConfig: 'local'};</script>\n",
              "        <script src=\"https://cdn.plot.ly/plotly-latest.min.js\"></script>    \n",
              "            <div id=\"b5645ec3-3c92-443f-a285-066fd1d3266f\" class=\"plotly-graph-div\" style=\"height:525px; width:100%;\"></div>\n",
              "            <script type=\"text/javascript\">\n",
              "                \n",
              "                    window.PLOTLYENV=window.PLOTLYENV || {};\n",
              "                    \n",
              "                if (document.getElementById(\"b5645ec3-3c92-443f-a285-066fd1d3266f\")) {\n",
              "                    Plotly.newPlot(\n",
              "                        'b5645ec3-3c92-443f-a285-066fd1d3266f',\n",
              "                        [{\"alignmentgroup\": \"True\", \"hoverlabel\": {\"namelength\": 0}, \"hovertemplate\": \"x=%{x}<br>Your main technology / programming language=%{y}\", \"legendgroup\": \"\", \"marker\": {\"color\": \"#636efa\"}, \"name\": \"\", \"offsetgroup\": \"\", \"orientation\": \"v\", \"showlegend\": false, \"textposition\": \"auto\", \"type\": \"bar\", \"x\": [\"Java\", \"Python\", \"PHP\", \"C++\", \"JavaScript\", \"Javascript\", \"C#\", \"python\", \"Scala\", \"Swift\", \"Go\", \"Kotlin\", \"Python \", \"Ruby\", \"TypeScript\", \"SQL\", \".NET\", \"JS\", \"iOS\", \"C\", \"R\", \"java\", \"Typescript\", \"php\", \"Android\", \"javascript\", \".net\", \"Kubernetes\", \"Javascript / Typescript\", \"JavaScript \", \"Elixir\", \"Php\", \"ABAP\", \"AWS\", \"QA\", \"Cloud\", \"Node.js\", \"Embedded\", \"React\", \"c++\", \"Golang\", \".Net\", \"Ruby on Rails\", \"yaml\", \"PHP \", \"Frontend\", \"NodeJS\", \"Java \", \"Java/Kotlin\", \"Bash\", \"go\", \"Sql \", \"Python, SQL\", \"SAP\", \"C/C++\", \"JavaScript / TypeScript\", \"js\", \"JavaScript/Typescript\", \"Angular\", \"Figma\", \"Spark\", \"C#, .net core\", \"kotlin\", \"C, C++\", \"Kotlin, Java\", \"SAP ABAP\", \"Haskell\", \"Blockchain\", \"React / JavaScript\", \"AI\", \"spark\", \"JS, Java\", \"scala\", \"SAP BW / ABAP\", \"Angular, Typescript\", \"Java, Kotlin\", \"Python, Whole Apache Data Science Stack, AWS\", \"ruby on rails\", \"FBD\", \"Autonomous Driving\", \"NodsJs\", \"JavaScript, TypeScript\", \"python \", \"T-SQL\", \"Java/C++\", \"Grails, Groovy\", \"java/scala/go/clouds/devops\", \"Qlik BI Tool, SQL\", \"Azure, SAP\", \"Scala, Apache Spark\", \"Frontend: react, node.js\", \"Google Cloud Platform\", \"Atlassian JIRA\", \"JAVA\", \"Angular, TypeScript\", \"Django, Flask, Plotly Dash\", \"PL/SQL\", \"Javascript/Typescript\", \"Python, cloud computing \", \"Python/SQL\", \"Java / Scala\", \"Scala, React.js\", \"Objective-C\", \"PS, Sketch, React, CSS3\", \"Apache Spark\", \"Salesforce \", \"swift\", \"Typescript / Angular\", \"Scala / Python\", \"ML\", \"Business Development Manager Operation \", \"React \", \"Java/Groovy\", \"C++/C#\", \"GCP\", \"SAS,SQL,Python\", \"Linux/UNIX, GIT, Virtualisation Platforms, *shell(s) scripts\", \"Js\", \"Kubernetes, Terraform, GCP\", \"Angular, React\", \"Pyrhon\", \"Web developer\", \"consumer analysis\", \"Test Management \", \"PM tools\", \"Java/Scala\", \"Go/Python\", \"SRE\", \"React/Typescript\", \"Js, TypeScript, Angular\", \"Ml/Python\", \"\\u041e\\u0444\\u043c\\u0444\", \"Clojure\", \"React JS\", \"Java, terraform\", \"embedded\", \"Java Backend\", \"JavaScript / typescript\", \"Java, JavaScript\", \"Agile\", \"Computer Networking,  Network Security \", \"Kuberenetes, Openstack\", \"Terraform\", \"BI, DWH, ETL/ELT\", \"Python / JavaScript (React)\", \"Swift, Objective-C, iOS\", \"Spring\", \"Cobol\", \"php, js, python, docker\", \"k8s\", \"Java, .Net\", \"Javascript, Angular\", \"Pegasystems platform \", \"Python (Django)\", \"Node\", \"Kubrrnetes\", \"SWIFT\", \"Android/Kotlin\", \"none\", \"NodeJS, Typescript, AWS\", \"Qlik\", \"Apotheker\", \"Kotlin/PHP\", \"golang\", \"Swift, Objective-C\", \"Perl\", \"sql\", \"VHDL\", \"Tricentis Tosca\", \"TypeScript/Angular\", \"JavScript\", \"Terraform \", \"Swift, objective-c\", \"Java & PHP\", \"Oracle\", \"Terraform, Kubernetes, AWS, GCP, Ansible, Puppet\", \"C++, Java, Embedded C\", \"Java, JS\", \"Typescript \", \"C, Matlab\", \"JS, WDIO\", \"Power BI\", \"Embedded C++\", \"VB, RPA, Python\", \"SAP / ABAP\", \"C#/.NET\", \"\\u0421#\", \"c/c++\", \"jenkins bash\", \"Azure\", \"TypeScript, React\", \"Python, statistics, SQL\", \"Spark, Pytorch\", \"Qml\", \"Typescript, Web apps\", \"DWH\", \"Java, angular, Aws\", \"Sql, BQ, tableau, gtm, ga\", \"Javascript \", \"DC Management\", \"Python + SQL\", \"C++, C#\", \"Js, reactJS \", \"React.js / TypeScript\", \"Management\", \"DevOps\", \"C++/c\", \".Net, Angular\", \"NLP, Python\", \"Swift/Kotlin\", \"Python, Pytorch\", \"UML\", \"PowerShell\", \"C# .NET\", \"Hardware\", \"Linux Kernel\", \"Charles\", \"Kotlin \", \"Python/NLP\", \"NodeJS/TS\", \"TypeScript, JavaScript\", \"Java & Distributed Systems Stuff\", \"TS\", \"android\", \"python, scala\", \"Sql\", \"AWS, GCP, Python,K8s\", \"several\", \"Linux\", \"PHP/MySQL\", \"Aws Hadoop Postgre Typescript\", \"networking, linux, automation, cloud\", \"Network Automation\", \"typescript\", \"Python, database technologies\", \"Magento\", \"Pascal, VB.NET, C#\", \"c#\", \"Jira\", \"Golang \", \"Erlang\", \"pythin\", \"Go, PHP, SQL\", \"JavaScript/ES6\", \"Java, Javascript\", \"-\", \"nothing\", \"JavaScript/TypeScript\", \"Network\", \"Nodejs\", \"julia\", \"Web\", \"--\", \".net, c++, spss, embeddded\", \"TypeScript, Kotlin\", \"Sketch, Figma\"], \"xaxis\": \"x\", \"y\": [311, 164, 56, 38, 34, 31, 30, 26, 24, 24, 23, 22, 21, 19, 14, 14, 13, 12, 10, 10, 9, 9, 8, 8, 8, 8, 7, 7, 6, 6, 5, 5, 5, 4, 4, 3, 3, 3, 3, 3, 3, 3, 3, 2, 2, 2, 2, 2, 2, 2, 2, 2, 2, 2, 2, 2, 2, 2, 2, 2, 2, 2, 2, 2, 1, 1, 1, 1, 1, 1, 1, 1, 1, 1, 1, 1, 1, 1, 1, 1, 1, 1, 1, 1, 1, 1, 1, 1, 1, 1, 1, 1, 1, 1, 1, 1, 1, 1, 1, 1, 1, 1, 1, 1, 1, 1, 1, 1, 1, 1, 1, 1, 1, 1, 1, 1, 1, 1, 1, 1, 1, 1, 1, 1, 1, 1, 1, 1, 1, 1, 1, 1, 1, 1, 1, 1, 1, 1, 1, 1, 1, 1, 1, 1, 1, 1, 1, 1, 1, 1, 1, 1, 1, 1, 1, 1, 1, 1, 1, 1, 1, 1, 1, 1, 1, 1, 1, 1, 1, 1, 1, 1, 1, 1, 1, 1, 1, 1, 1, 1, 1, 1, 1, 1, 1, 1, 1, 1, 1, 1, 1, 1, 1, 1, 1, 1, 1, 1, 1, 1, 1, 1, 1, 1, 1, 1, 1, 1, 1, 1, 1, 1, 1, 1, 1, 1, 1, 1, 1, 1, 1, 1, 1, 1, 1, 1, 1, 1, 1, 1, 1, 1, 1, 1, 1, 1, 1, 1, 1, 1, 1, 1, 1, 1, 1, 1, 1, 1, 1, 1, 1, 1, 1, 1, 1, 1], \"yaxis\": \"y\"}],\n",
              "                        {\"barmode\": \"relative\", \"legend\": {\"tracegroupgap\": 0}, \"margin\": {\"t\": 60}, \"template\": {\"data\": {\"bar\": [{\"error_x\": {\"color\": \"#2a3f5f\"}, \"error_y\": {\"color\": \"#2a3f5f\"}, \"marker\": {\"line\": {\"color\": \"#E5ECF6\", \"width\": 0.5}}, \"type\": \"bar\"}], \"barpolar\": [{\"marker\": {\"line\": {\"color\": \"#E5ECF6\", \"width\": 0.5}}, \"type\": \"barpolar\"}], \"carpet\": [{\"aaxis\": {\"endlinecolor\": \"#2a3f5f\", \"gridcolor\": \"white\", \"linecolor\": \"white\", \"minorgridcolor\": \"white\", \"startlinecolor\": \"#2a3f5f\"}, \"baxis\": {\"endlinecolor\": \"#2a3f5f\", \"gridcolor\": \"white\", \"linecolor\": \"white\", \"minorgridcolor\": \"white\", \"startlinecolor\": \"#2a3f5f\"}, \"type\": \"carpet\"}], \"choropleth\": [{\"colorbar\": {\"outlinewidth\": 0, \"ticks\": \"\"}, \"type\": \"choropleth\"}], \"contour\": [{\"colorbar\": {\"outlinewidth\": 0, \"ticks\": \"\"}, \"colorscale\": [[0.0, \"#0d0887\"], [0.1111111111111111, \"#46039f\"], [0.2222222222222222, \"#7201a8\"], [0.3333333333333333, \"#9c179e\"], [0.4444444444444444, \"#bd3786\"], [0.5555555555555556, \"#d8576b\"], [0.6666666666666666, \"#ed7953\"], [0.7777777777777778, \"#fb9f3a\"], [0.8888888888888888, \"#fdca26\"], [1.0, \"#f0f921\"]], \"type\": \"contour\"}], \"contourcarpet\": [{\"colorbar\": {\"outlinewidth\": 0, \"ticks\": \"\"}, \"type\": \"contourcarpet\"}], \"heatmap\": [{\"colorbar\": {\"outlinewidth\": 0, \"ticks\": \"\"}, \"colorscale\": [[0.0, \"#0d0887\"], [0.1111111111111111, \"#46039f\"], [0.2222222222222222, \"#7201a8\"], [0.3333333333333333, \"#9c179e\"], [0.4444444444444444, \"#bd3786\"], [0.5555555555555556, \"#d8576b\"], [0.6666666666666666, \"#ed7953\"], [0.7777777777777778, \"#fb9f3a\"], [0.8888888888888888, \"#fdca26\"], [1.0, \"#f0f921\"]], \"type\": \"heatmap\"}], \"heatmapgl\": [{\"colorbar\": {\"outlinewidth\": 0, \"ticks\": \"\"}, \"colorscale\": [[0.0, \"#0d0887\"], [0.1111111111111111, \"#46039f\"], [0.2222222222222222, \"#7201a8\"], [0.3333333333333333, \"#9c179e\"], [0.4444444444444444, \"#bd3786\"], [0.5555555555555556, \"#d8576b\"], [0.6666666666666666, \"#ed7953\"], [0.7777777777777778, \"#fb9f3a\"], [0.8888888888888888, \"#fdca26\"], [1.0, \"#f0f921\"]], \"type\": \"heatmapgl\"}], \"histogram\": [{\"marker\": {\"colorbar\": {\"outlinewidth\": 0, \"ticks\": \"\"}}, \"type\": \"histogram\"}], \"histogram2d\": [{\"colorbar\": {\"outlinewidth\": 0, \"ticks\": \"\"}, \"colorscale\": [[0.0, \"#0d0887\"], [0.1111111111111111, \"#46039f\"], [0.2222222222222222, \"#7201a8\"], [0.3333333333333333, \"#9c179e\"], [0.4444444444444444, \"#bd3786\"], [0.5555555555555556, \"#d8576b\"], [0.6666666666666666, \"#ed7953\"], [0.7777777777777778, \"#fb9f3a\"], [0.8888888888888888, \"#fdca26\"], [1.0, \"#f0f921\"]], \"type\": \"histogram2d\"}], \"histogram2dcontour\": [{\"colorbar\": {\"outlinewidth\": 0, \"ticks\": \"\"}, \"colorscale\": [[0.0, \"#0d0887\"], [0.1111111111111111, \"#46039f\"], [0.2222222222222222, \"#7201a8\"], [0.3333333333333333, \"#9c179e\"], [0.4444444444444444, \"#bd3786\"], [0.5555555555555556, \"#d8576b\"], [0.6666666666666666, \"#ed7953\"], [0.7777777777777778, \"#fb9f3a\"], [0.8888888888888888, \"#fdca26\"], [1.0, \"#f0f921\"]], \"type\": \"histogram2dcontour\"}], \"mesh3d\": [{\"colorbar\": {\"outlinewidth\": 0, \"ticks\": \"\"}, \"type\": \"mesh3d\"}], \"parcoords\": [{\"line\": {\"colorbar\": {\"outlinewidth\": 0, \"ticks\": \"\"}}, \"type\": \"parcoords\"}], \"pie\": [{\"automargin\": true, \"type\": \"pie\"}], \"scatter\": [{\"marker\": {\"colorbar\": {\"outlinewidth\": 0, \"ticks\": \"\"}}, \"type\": \"scatter\"}], \"scatter3d\": [{\"line\": {\"colorbar\": {\"outlinewidth\": 0, \"ticks\": \"\"}}, \"marker\": {\"colorbar\": {\"outlinewidth\": 0, \"ticks\": \"\"}}, \"type\": \"scatter3d\"}], \"scattercarpet\": [{\"marker\": {\"colorbar\": {\"outlinewidth\": 0, \"ticks\": \"\"}}, \"type\": \"scattercarpet\"}], \"scattergeo\": [{\"marker\": {\"colorbar\": {\"outlinewidth\": 0, \"ticks\": \"\"}}, \"type\": \"scattergeo\"}], \"scattergl\": [{\"marker\": {\"colorbar\": {\"outlinewidth\": 0, \"ticks\": \"\"}}, \"type\": \"scattergl\"}], \"scattermapbox\": [{\"marker\": {\"colorbar\": {\"outlinewidth\": 0, \"ticks\": \"\"}}, \"type\": \"scattermapbox\"}], \"scatterpolar\": [{\"marker\": {\"colorbar\": {\"outlinewidth\": 0, \"ticks\": \"\"}}, \"type\": \"scatterpolar\"}], \"scatterpolargl\": [{\"marker\": {\"colorbar\": {\"outlinewidth\": 0, \"ticks\": \"\"}}, \"type\": \"scatterpolargl\"}], \"scatterternary\": [{\"marker\": {\"colorbar\": {\"outlinewidth\": 0, \"ticks\": \"\"}}, \"type\": \"scatterternary\"}], \"surface\": [{\"colorbar\": {\"outlinewidth\": 0, \"ticks\": \"\"}, \"colorscale\": [[0.0, \"#0d0887\"], [0.1111111111111111, \"#46039f\"], [0.2222222222222222, \"#7201a8\"], [0.3333333333333333, \"#9c179e\"], [0.4444444444444444, \"#bd3786\"], [0.5555555555555556, \"#d8576b\"], [0.6666666666666666, \"#ed7953\"], [0.7777777777777778, \"#fb9f3a\"], [0.8888888888888888, \"#fdca26\"], [1.0, \"#f0f921\"]], \"type\": \"surface\"}], \"table\": [{\"cells\": {\"fill\": {\"color\": \"#EBF0F8\"}, \"line\": {\"color\": \"white\"}}, \"header\": {\"fill\": {\"color\": \"#C8D4E3\"}, \"line\": {\"color\": \"white\"}}, \"type\": \"table\"}]}, \"layout\": {\"annotationdefaults\": {\"arrowcolor\": \"#2a3f5f\", \"arrowhead\": 0, \"arrowwidth\": 1}, \"coloraxis\": {\"colorbar\": {\"outlinewidth\": 0, \"ticks\": \"\"}}, \"colorscale\": {\"diverging\": [[0, \"#8e0152\"], [0.1, \"#c51b7d\"], [0.2, \"#de77ae\"], [0.3, \"#f1b6da\"], [0.4, \"#fde0ef\"], [0.5, \"#f7f7f7\"], [0.6, \"#e6f5d0\"], [0.7, \"#b8e186\"], [0.8, \"#7fbc41\"], [0.9, \"#4d9221\"], [1, \"#276419\"]], \"sequential\": [[0.0, \"#0d0887\"], [0.1111111111111111, \"#46039f\"], [0.2222222222222222, \"#7201a8\"], [0.3333333333333333, \"#9c179e\"], [0.4444444444444444, \"#bd3786\"], [0.5555555555555556, \"#d8576b\"], [0.6666666666666666, \"#ed7953\"], [0.7777777777777778, \"#fb9f3a\"], [0.8888888888888888, \"#fdca26\"], [1.0, \"#f0f921\"]], \"sequentialminus\": [[0.0, \"#0d0887\"], [0.1111111111111111, \"#46039f\"], [0.2222222222222222, \"#7201a8\"], [0.3333333333333333, \"#9c179e\"], [0.4444444444444444, \"#bd3786\"], [0.5555555555555556, \"#d8576b\"], [0.6666666666666666, \"#ed7953\"], [0.7777777777777778, \"#fb9f3a\"], [0.8888888888888888, \"#fdca26\"], [1.0, \"#f0f921\"]]}, \"colorway\": [\"#636efa\", \"#EF553B\", \"#00cc96\", \"#ab63fa\", \"#FFA15A\", \"#19d3f3\", \"#FF6692\", \"#B6E880\", \"#FF97FF\", \"#FECB52\"], \"font\": {\"color\": \"#2a3f5f\"}, \"geo\": {\"bgcolor\": \"white\", \"lakecolor\": \"white\", \"landcolor\": \"#E5ECF6\", \"showlakes\": true, \"showland\": true, \"subunitcolor\": \"white\"}, \"hoverlabel\": {\"align\": \"left\"}, \"hovermode\": \"closest\", \"mapbox\": {\"style\": \"light\"}, \"paper_bgcolor\": \"white\", \"plot_bgcolor\": \"#E5ECF6\", \"polar\": {\"angularaxis\": {\"gridcolor\": \"white\", \"linecolor\": \"white\", \"ticks\": \"\"}, \"bgcolor\": \"#E5ECF6\", \"radialaxis\": {\"gridcolor\": \"white\", \"linecolor\": \"white\", \"ticks\": \"\"}}, \"scene\": {\"xaxis\": {\"backgroundcolor\": \"#E5ECF6\", \"gridcolor\": \"white\", \"gridwidth\": 2, \"linecolor\": \"white\", \"showbackground\": true, \"ticks\": \"\", \"zerolinecolor\": \"white\"}, \"yaxis\": {\"backgroundcolor\": \"#E5ECF6\", \"gridcolor\": \"white\", \"gridwidth\": 2, \"linecolor\": \"white\", \"showbackground\": true, \"ticks\": \"\", \"zerolinecolor\": \"white\"}, \"zaxis\": {\"backgroundcolor\": \"#E5ECF6\", \"gridcolor\": \"white\", \"gridwidth\": 2, \"linecolor\": \"white\", \"showbackground\": true, \"ticks\": \"\", \"zerolinecolor\": \"white\"}}, \"shapedefaults\": {\"line\": {\"color\": \"#2a3f5f\"}}, \"ternary\": {\"aaxis\": {\"gridcolor\": \"white\", \"linecolor\": \"white\", \"ticks\": \"\"}, \"baxis\": {\"gridcolor\": \"white\", \"linecolor\": \"white\", \"ticks\": \"\"}, \"bgcolor\": \"#E5ECF6\", \"caxis\": {\"gridcolor\": \"white\", \"linecolor\": \"white\", \"ticks\": \"\"}}, \"title\": {\"x\": 0.05}, \"xaxis\": {\"automargin\": true, \"gridcolor\": \"white\", \"linecolor\": \"white\", \"ticks\": \"\", \"title\": {\"standoff\": 15}, \"zerolinecolor\": \"white\", \"zerolinewidth\": 2}, \"yaxis\": {\"automargin\": true, \"gridcolor\": \"white\", \"linecolor\": \"white\", \"ticks\": \"\", \"title\": {\"standoff\": 15}, \"zerolinecolor\": \"white\", \"zerolinewidth\": 2}}}, \"xaxis\": {\"anchor\": \"y\", \"domain\": [0.0, 1.0], \"title\": {\"text\": \"x\"}}, \"yaxis\": {\"anchor\": \"x\", \"domain\": [0.0, 1.0], \"title\": {\"text\": \"Your main technology / programming language\"}}},\n",
              "                        {\"responsive\": true}\n",
              "                    ).then(function(){\n",
              "                            \n",
              "var gd = document.getElementById('b5645ec3-3c92-443f-a285-066fd1d3266f');\n",
              "var x = new MutationObserver(function (mutations, observer) {{\n",
              "        var display = window.getComputedStyle(gd).display;\n",
              "        if (!display || display === 'none') {{\n",
              "            console.log([gd, 'removed!']);\n",
              "            Plotly.purge(gd);\n",
              "            observer.disconnect();\n",
              "        }}\n",
              "}});\n",
              "\n",
              "// Listen for the removal of the full notebook cells\n",
              "var notebookContainer = gd.closest('#notebook-container');\n",
              "if (notebookContainer) {{\n",
              "    x.observe(notebookContainer, {childList: true});\n",
              "}}\n",
              "\n",
              "// Listen for the clearing of the current output cell\n",
              "var outputEl = gd.closest('.output');\n",
              "if (outputEl) {{\n",
              "    x.observe(outputEl, {childList: true});\n",
              "}}\n",
              "\n",
              "                        })\n",
              "                };\n",
              "                \n",
              "            </script>\n",
              "        </div>\n",
              "</body>\n",
              "</html>"
            ]
          },
          "metadata": {
            "tags": []
          }
        }
      ]
    },
    {
      "cell_type": "code",
      "metadata": {
        "colab": {
          "base_uri": "https://localhost:8080/",
          "height": 424
        },
        "id": "p9k4DCAIg5QH",
        "outputId": "e0008946-1868-4d34-a3c4-2abf309ddeec"
      },
      "source": [
        "#checking technologies with less than 4 responses\n",
        "df[df['Your main technology / programming language']<4]"
      ],
      "execution_count": 83,
      "outputs": [
        {
          "output_type": "execute_result",
          "data": {
            "text/html": [
              "<div>\n",
              "<style scoped>\n",
              "    .dataframe tbody tr th:only-of-type {\n",
              "        vertical-align: middle;\n",
              "    }\n",
              "\n",
              "    .dataframe tbody tr th {\n",
              "        vertical-align: top;\n",
              "    }\n",
              "\n",
              "    .dataframe thead th {\n",
              "        text-align: right;\n",
              "    }\n",
              "</style>\n",
              "<table border=\"1\" class=\"dataframe\">\n",
              "  <thead>\n",
              "    <tr style=\"text-align: right;\">\n",
              "      <th></th>\n",
              "      <th>Your main technology / programming language</th>\n",
              "    </tr>\n",
              "  </thead>\n",
              "  <tbody>\n",
              "    <tr>\n",
              "      <th>Cloud</th>\n",
              "      <td>3</td>\n",
              "    </tr>\n",
              "    <tr>\n",
              "      <th>Node.js</th>\n",
              "      <td>3</td>\n",
              "    </tr>\n",
              "    <tr>\n",
              "      <th>Embedded</th>\n",
              "      <td>3</td>\n",
              "    </tr>\n",
              "    <tr>\n",
              "      <th>React</th>\n",
              "      <td>3</td>\n",
              "    </tr>\n",
              "    <tr>\n",
              "      <th>c++</th>\n",
              "      <td>3</td>\n",
              "    </tr>\n",
              "    <tr>\n",
              "      <th>...</th>\n",
              "      <td>...</td>\n",
              "    </tr>\n",
              "    <tr>\n",
              "      <th>Web</th>\n",
              "      <td>1</td>\n",
              "    </tr>\n",
              "    <tr>\n",
              "      <th>--</th>\n",
              "      <td>1</td>\n",
              "    </tr>\n",
              "    <tr>\n",
              "      <th>.net, c++, spss, embeddded</th>\n",
              "      <td>1</td>\n",
              "    </tr>\n",
              "    <tr>\n",
              "      <th>TypeScript, Kotlin</th>\n",
              "      <td>1</td>\n",
              "    </tr>\n",
              "    <tr>\n",
              "      <th>Sketch, Figma</th>\n",
              "      <td>1</td>\n",
              "    </tr>\n",
              "  </tbody>\n",
              "</table>\n",
              "<p>221 rows × 1 columns</p>\n",
              "</div>"
            ],
            "text/plain": [
              "                            Your main technology / programming language\n",
              "Cloud                                                                 3\n",
              "Node.js                                                               3\n",
              "Embedded                                                              3\n",
              "React                                                                 3\n",
              "c++                                                                   3\n",
              "...                                                                 ...\n",
              "Web                                                                   1\n",
              "--                                                                    1\n",
              ".net, c++, spss, embeddded                                            1\n",
              "TypeScript, Kotlin                                                    1\n",
              "Sketch, Figma                                                         1\n",
              "\n",
              "[221 rows x 1 columns]"
            ]
          },
          "metadata": {
            "tags": []
          },
          "execution_count": 83
        }
      ]
    },
    {
      "cell_type": "markdown",
      "metadata": {
        "id": "DtkLS78Phw59"
      },
      "source": [
        "Java is the most popular technology with 311 responses while we have 221 texhnologies with less than 4 responses as shown in the above cell .Examples of such technologies are c++,React and Cloud"
      ]
    },
    {
      "cell_type": "code",
      "metadata": {
        "colab": {
          "base_uri": "https://localhost:8080/"
        },
        "id": "IbiNheBLg6vM",
        "outputId": "ea10c4ad-d994-41ac-d4e5-c0330967d69e"
      },
      "source": [
        "data_20['Gender'].value_counts()"
      ],
      "execution_count": 85,
      "outputs": [
        {
          "output_type": "execute_result",
          "data": {
            "text/plain": [
              "Male       1059\n",
              "Female      192\n",
              "Diverse       2\n",
              "Name: Gender, dtype: int64"
            ]
          },
          "metadata": {
            "tags": []
          },
          "execution_count": 85
        }
      ]
    },
    {
      "cell_type": "code",
      "metadata": {
        "colab": {
          "base_uri": "https://localhost:8080/",
          "height": 542
        },
        "id": "1Mkuq5aAg6N_",
        "outputId": "074e887b-b75a-4a56-ccdd-b92540474446"
      },
      "source": [
        "#pie chart of Gender ratio in 2020\n",
        "import plotly.express as px\n",
        "dp = data_20['Gender']\n",
        "fig = px.pie(dp,names=['Male','Female','Diverse'],values=[1059,192,2], title='Gender ratio in 2020')\n",
        "fig.show()"
      ],
      "execution_count": 88,
      "outputs": [
        {
          "output_type": "display_data",
          "data": {
            "text/html": [
              "<html>\n",
              "<head><meta charset=\"utf-8\" /></head>\n",
              "<body>\n",
              "    <div>\n",
              "            <script src=\"https://cdnjs.cloudflare.com/ajax/libs/mathjax/2.7.5/MathJax.js?config=TeX-AMS-MML_SVG\"></script><script type=\"text/javascript\">if (window.MathJax) {MathJax.Hub.Config({SVG: {font: \"STIX-Web\"}});}</script>\n",
              "                <script type=\"text/javascript\">window.PlotlyConfig = {MathJaxConfig: 'local'};</script>\n",
              "        <script src=\"https://cdn.plot.ly/plotly-latest.min.js\"></script>    \n",
              "            <div id=\"fe76c1c1-5f36-40d1-926e-b283a82ce0b6\" class=\"plotly-graph-div\" style=\"height:525px; width:100%;\"></div>\n",
              "            <script type=\"text/javascript\">\n",
              "                \n",
              "                    window.PLOTLYENV=window.PLOTLYENV || {};\n",
              "                    \n",
              "                if (document.getElementById(\"fe76c1c1-5f36-40d1-926e-b283a82ce0b6\")) {\n",
              "                    Plotly.newPlot(\n",
              "                        'fe76c1c1-5f36-40d1-926e-b283a82ce0b6',\n",
              "                        [{\"domain\": {\"x\": [0.0, 1.0], \"y\": [0.0, 1.0]}, \"hoverlabel\": {\"namelength\": 0}, \"hovertemplate\": \"label=%{label}<br>value=%{value}\", \"labels\": [\"Male\", \"Female\", \"Diverse\"], \"legendgroup\": \"\", \"name\": \"\", \"showlegend\": true, \"type\": \"pie\", \"values\": [1059, 192, 2]}],\n",
              "                        {\"legend\": {\"tracegroupgap\": 0}, \"template\": {\"data\": {\"bar\": [{\"error_x\": {\"color\": \"#2a3f5f\"}, \"error_y\": {\"color\": \"#2a3f5f\"}, \"marker\": {\"line\": {\"color\": \"#E5ECF6\", \"width\": 0.5}}, \"type\": \"bar\"}], \"barpolar\": [{\"marker\": {\"line\": {\"color\": \"#E5ECF6\", \"width\": 0.5}}, \"type\": \"barpolar\"}], \"carpet\": [{\"aaxis\": {\"endlinecolor\": \"#2a3f5f\", \"gridcolor\": \"white\", \"linecolor\": \"white\", \"minorgridcolor\": \"white\", \"startlinecolor\": \"#2a3f5f\"}, \"baxis\": {\"endlinecolor\": \"#2a3f5f\", \"gridcolor\": \"white\", \"linecolor\": \"white\", \"minorgridcolor\": \"white\", \"startlinecolor\": \"#2a3f5f\"}, \"type\": \"carpet\"}], \"choropleth\": [{\"colorbar\": {\"outlinewidth\": 0, \"ticks\": \"\"}, \"type\": \"choropleth\"}], \"contour\": [{\"colorbar\": {\"outlinewidth\": 0, \"ticks\": \"\"}, \"colorscale\": [[0.0, \"#0d0887\"], [0.1111111111111111, \"#46039f\"], [0.2222222222222222, \"#7201a8\"], [0.3333333333333333, \"#9c179e\"], [0.4444444444444444, \"#bd3786\"], [0.5555555555555556, \"#d8576b\"], [0.6666666666666666, \"#ed7953\"], [0.7777777777777778, \"#fb9f3a\"], [0.8888888888888888, \"#fdca26\"], [1.0, \"#f0f921\"]], \"type\": \"contour\"}], \"contourcarpet\": [{\"colorbar\": {\"outlinewidth\": 0, \"ticks\": \"\"}, \"type\": \"contourcarpet\"}], \"heatmap\": [{\"colorbar\": {\"outlinewidth\": 0, \"ticks\": \"\"}, \"colorscale\": [[0.0, \"#0d0887\"], [0.1111111111111111, \"#46039f\"], [0.2222222222222222, \"#7201a8\"], [0.3333333333333333, \"#9c179e\"], [0.4444444444444444, \"#bd3786\"], [0.5555555555555556, \"#d8576b\"], [0.6666666666666666, \"#ed7953\"], [0.7777777777777778, \"#fb9f3a\"], [0.8888888888888888, \"#fdca26\"], [1.0, \"#f0f921\"]], \"type\": \"heatmap\"}], \"heatmapgl\": [{\"colorbar\": {\"outlinewidth\": 0, \"ticks\": \"\"}, \"colorscale\": [[0.0, \"#0d0887\"], [0.1111111111111111, \"#46039f\"], [0.2222222222222222, \"#7201a8\"], [0.3333333333333333, \"#9c179e\"], [0.4444444444444444, \"#bd3786\"], [0.5555555555555556, \"#d8576b\"], [0.6666666666666666, \"#ed7953\"], [0.7777777777777778, \"#fb9f3a\"], [0.8888888888888888, \"#fdca26\"], [1.0, \"#f0f921\"]], \"type\": \"heatmapgl\"}], \"histogram\": [{\"marker\": {\"colorbar\": {\"outlinewidth\": 0, \"ticks\": \"\"}}, \"type\": \"histogram\"}], \"histogram2d\": [{\"colorbar\": {\"outlinewidth\": 0, \"ticks\": \"\"}, \"colorscale\": [[0.0, \"#0d0887\"], [0.1111111111111111, \"#46039f\"], [0.2222222222222222, \"#7201a8\"], [0.3333333333333333, \"#9c179e\"], [0.4444444444444444, \"#bd3786\"], [0.5555555555555556, \"#d8576b\"], [0.6666666666666666, \"#ed7953\"], [0.7777777777777778, \"#fb9f3a\"], [0.8888888888888888, \"#fdca26\"], [1.0, \"#f0f921\"]], \"type\": \"histogram2d\"}], \"histogram2dcontour\": [{\"colorbar\": {\"outlinewidth\": 0, \"ticks\": \"\"}, \"colorscale\": [[0.0, \"#0d0887\"], [0.1111111111111111, \"#46039f\"], [0.2222222222222222, \"#7201a8\"], [0.3333333333333333, \"#9c179e\"], [0.4444444444444444, \"#bd3786\"], [0.5555555555555556, \"#d8576b\"], [0.6666666666666666, \"#ed7953\"], [0.7777777777777778, \"#fb9f3a\"], [0.8888888888888888, \"#fdca26\"], [1.0, \"#f0f921\"]], \"type\": \"histogram2dcontour\"}], \"mesh3d\": [{\"colorbar\": {\"outlinewidth\": 0, \"ticks\": \"\"}, \"type\": \"mesh3d\"}], \"parcoords\": [{\"line\": {\"colorbar\": {\"outlinewidth\": 0, \"ticks\": \"\"}}, \"type\": \"parcoords\"}], \"pie\": [{\"automargin\": true, \"type\": \"pie\"}], \"scatter\": [{\"marker\": {\"colorbar\": {\"outlinewidth\": 0, \"ticks\": \"\"}}, \"type\": \"scatter\"}], \"scatter3d\": [{\"line\": {\"colorbar\": {\"outlinewidth\": 0, \"ticks\": \"\"}}, \"marker\": {\"colorbar\": {\"outlinewidth\": 0, \"ticks\": \"\"}}, \"type\": \"scatter3d\"}], \"scattercarpet\": [{\"marker\": {\"colorbar\": {\"outlinewidth\": 0, \"ticks\": \"\"}}, \"type\": \"scattercarpet\"}], \"scattergeo\": [{\"marker\": {\"colorbar\": {\"outlinewidth\": 0, \"ticks\": \"\"}}, \"type\": \"scattergeo\"}], \"scattergl\": [{\"marker\": {\"colorbar\": {\"outlinewidth\": 0, \"ticks\": \"\"}}, \"type\": \"scattergl\"}], \"scattermapbox\": [{\"marker\": {\"colorbar\": {\"outlinewidth\": 0, \"ticks\": \"\"}}, \"type\": \"scattermapbox\"}], \"scatterpolar\": [{\"marker\": {\"colorbar\": {\"outlinewidth\": 0, \"ticks\": \"\"}}, \"type\": \"scatterpolar\"}], \"scatterpolargl\": [{\"marker\": {\"colorbar\": {\"outlinewidth\": 0, \"ticks\": \"\"}}, \"type\": \"scatterpolargl\"}], \"scatterternary\": [{\"marker\": {\"colorbar\": {\"outlinewidth\": 0, \"ticks\": \"\"}}, \"type\": \"scatterternary\"}], \"surface\": [{\"colorbar\": {\"outlinewidth\": 0, \"ticks\": \"\"}, \"colorscale\": [[0.0, \"#0d0887\"], [0.1111111111111111, \"#46039f\"], [0.2222222222222222, \"#7201a8\"], [0.3333333333333333, \"#9c179e\"], [0.4444444444444444, \"#bd3786\"], [0.5555555555555556, \"#d8576b\"], [0.6666666666666666, \"#ed7953\"], [0.7777777777777778, \"#fb9f3a\"], [0.8888888888888888, \"#fdca26\"], [1.0, \"#f0f921\"]], \"type\": \"surface\"}], \"table\": [{\"cells\": {\"fill\": {\"color\": \"#EBF0F8\"}, \"line\": {\"color\": \"white\"}}, \"header\": {\"fill\": {\"color\": \"#C8D4E3\"}, \"line\": {\"color\": \"white\"}}, \"type\": \"table\"}]}, \"layout\": {\"annotationdefaults\": {\"arrowcolor\": \"#2a3f5f\", \"arrowhead\": 0, \"arrowwidth\": 1}, \"coloraxis\": {\"colorbar\": {\"outlinewidth\": 0, \"ticks\": \"\"}}, \"colorscale\": {\"diverging\": [[0, \"#8e0152\"], [0.1, \"#c51b7d\"], [0.2, \"#de77ae\"], [0.3, \"#f1b6da\"], [0.4, \"#fde0ef\"], [0.5, \"#f7f7f7\"], [0.6, \"#e6f5d0\"], [0.7, \"#b8e186\"], [0.8, \"#7fbc41\"], [0.9, \"#4d9221\"], [1, \"#276419\"]], \"sequential\": [[0.0, \"#0d0887\"], [0.1111111111111111, \"#46039f\"], [0.2222222222222222, \"#7201a8\"], [0.3333333333333333, \"#9c179e\"], [0.4444444444444444, \"#bd3786\"], [0.5555555555555556, \"#d8576b\"], [0.6666666666666666, \"#ed7953\"], [0.7777777777777778, \"#fb9f3a\"], [0.8888888888888888, \"#fdca26\"], [1.0, \"#f0f921\"]], \"sequentialminus\": [[0.0, \"#0d0887\"], [0.1111111111111111, \"#46039f\"], [0.2222222222222222, \"#7201a8\"], [0.3333333333333333, \"#9c179e\"], [0.4444444444444444, \"#bd3786\"], [0.5555555555555556, \"#d8576b\"], [0.6666666666666666, \"#ed7953\"], [0.7777777777777778, \"#fb9f3a\"], [0.8888888888888888, \"#fdca26\"], [1.0, \"#f0f921\"]]}, \"colorway\": [\"#636efa\", \"#EF553B\", \"#00cc96\", \"#ab63fa\", \"#FFA15A\", \"#19d3f3\", \"#FF6692\", \"#B6E880\", \"#FF97FF\", \"#FECB52\"], \"font\": {\"color\": \"#2a3f5f\"}, \"geo\": {\"bgcolor\": \"white\", \"lakecolor\": \"white\", \"landcolor\": \"#E5ECF6\", \"showlakes\": true, \"showland\": true, \"subunitcolor\": \"white\"}, \"hoverlabel\": {\"align\": \"left\"}, \"hovermode\": \"closest\", \"mapbox\": {\"style\": \"light\"}, \"paper_bgcolor\": \"white\", \"plot_bgcolor\": \"#E5ECF6\", \"polar\": {\"angularaxis\": {\"gridcolor\": \"white\", \"linecolor\": \"white\", \"ticks\": \"\"}, \"bgcolor\": \"#E5ECF6\", \"radialaxis\": {\"gridcolor\": \"white\", \"linecolor\": \"white\", \"ticks\": \"\"}}, \"scene\": {\"xaxis\": {\"backgroundcolor\": \"#E5ECF6\", \"gridcolor\": \"white\", \"gridwidth\": 2, \"linecolor\": \"white\", \"showbackground\": true, \"ticks\": \"\", \"zerolinecolor\": \"white\"}, \"yaxis\": {\"backgroundcolor\": \"#E5ECF6\", \"gridcolor\": \"white\", \"gridwidth\": 2, \"linecolor\": \"white\", \"showbackground\": true, \"ticks\": \"\", \"zerolinecolor\": \"white\"}, \"zaxis\": {\"backgroundcolor\": \"#E5ECF6\", \"gridcolor\": \"white\", \"gridwidth\": 2, \"linecolor\": \"white\", \"showbackground\": true, \"ticks\": \"\", \"zerolinecolor\": \"white\"}}, \"shapedefaults\": {\"line\": {\"color\": \"#2a3f5f\"}}, \"ternary\": {\"aaxis\": {\"gridcolor\": \"white\", \"linecolor\": \"white\", \"ticks\": \"\"}, \"baxis\": {\"gridcolor\": \"white\", \"linecolor\": \"white\", \"ticks\": \"\"}, \"bgcolor\": \"#E5ECF6\", \"caxis\": {\"gridcolor\": \"white\", \"linecolor\": \"white\", \"ticks\": \"\"}}, \"title\": {\"x\": 0.05}, \"xaxis\": {\"automargin\": true, \"gridcolor\": \"white\", \"linecolor\": \"white\", \"ticks\": \"\", \"title\": {\"standoff\": 15}, \"zerolinecolor\": \"white\", \"zerolinewidth\": 2}, \"yaxis\": {\"automargin\": true, \"gridcolor\": \"white\", \"linecolor\": \"white\", \"ticks\": \"\", \"title\": {\"standoff\": 15}, \"zerolinecolor\": \"white\", \"zerolinewidth\": 2}}}, \"title\": {\"text\": \"Gender ratio in 2020\"}},\n",
              "                        {\"responsive\": true}\n",
              "                    ).then(function(){\n",
              "                            \n",
              "var gd = document.getElementById('fe76c1c1-5f36-40d1-926e-b283a82ce0b6');\n",
              "var x = new MutationObserver(function (mutations, observer) {{\n",
              "        var display = window.getComputedStyle(gd).display;\n",
              "        if (!display || display === 'none') {{\n",
              "            console.log([gd, 'removed!']);\n",
              "            Plotly.purge(gd);\n",
              "            observer.disconnect();\n",
              "        }}\n",
              "}});\n",
              "\n",
              "// Listen for the removal of the full notebook cells\n",
              "var notebookContainer = gd.closest('#notebook-container');\n",
              "if (notebookContainer) {{\n",
              "    x.observe(notebookContainer, {childList: true});\n",
              "}}\n",
              "\n",
              "// Listen for the clearing of the current output cell\n",
              "var outputEl = gd.closest('.output');\n",
              "if (outputEl) {{\n",
              "    x.observe(outputEl, {childList: true});\n",
              "}}\n",
              "\n",
              "                        })\n",
              "                };\n",
              "                \n",
              "            </script>\n",
              "        </div>\n",
              "</body>\n",
              "</html>"
            ]
          },
          "metadata": {
            "tags": []
          }
        }
      ]
    },
    {
      "cell_type": "markdown",
      "metadata": {
        "id": "uo95NopBCo6w"
      },
      "source": [
        "## Bonus Section [Optional but carries bonus marks]\n",
        "This dataset is as raw and real as it can get while conducting yearly surveys. You might have observed that the data is not clean and structured and requires some thorough cleaning before deriving meaningful plots. When combined with the power of Plotly and Dash, there are endless possibilities for the insightful visualizations you can create. \n",
        "\n",
        "This section is to let you experiment, explore and create as many visualizations as you’d like. You never know, if we like the creativity and the extra work, you might receive some bonus marks!\n"
      ]
    },
    {
      "cell_type": "code",
      "metadata": {
        "id": "tCY1-a_SFlWq"
      },
      "source": [
        ""
      ],
      "execution_count": null,
      "outputs": []
    },
    {
      "cell_type": "markdown",
      "metadata": {
        "id": "eZhk-3nbFl2n"
      },
      "source": [
        "# Conclusion\n",
        "This brings us to the end of the assignment and to the bootcamp. We hope you had a great learning time. :)\n",
        "\n",
        "Now, you can submit your notebook for assessment. "
      ]
    }
  ]
}