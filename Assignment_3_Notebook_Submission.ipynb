{
 "cells": [
  {
   "cell_type": "markdown",
   "metadata": {
    "id": "kAkDHG6SaWBb"
   },
   "source": [
    "## Datathon-2: Notebook Submission\n",
    "This is a template for Assignment 3 of Machine Learning Bootcamp. Please make sure you perform all tasks within the sections created. This ensures that your assignment is evaluated correctly. \n"
   ]
  },
  {
   "cell_type": "markdown",
   "metadata": {
    "id": "3TS_iDuCaWBc"
   },
   "source": [
    "## Task 1"
   ]
  },
  {
   "cell_type": "markdown",
   "metadata": {
    "id": "ads6yBtqaWBc"
   },
   "source": [
    "### Import Libraries"
   ]
  },
  {
   "cell_type": "code",
   "execution_count": 1,
   "metadata": {
    "id": "0rGlRHBtaWBc"
   },
   "outputs": [],
   "source": [
    "import pandas as pd\n",
    "import numpy as np\n",
    "import matplotlib.pyplot as plt\n",
    "import seaborn as sns "
   ]
  },
  {
   "cell_type": "markdown",
   "metadata": {
    "id": "rEEA8eZRaWBd"
   },
   "source": [
    "### Load the data and display first 5 rows."
   ]
  },
  {
   "cell_type": "code",
   "execution_count": 2,
   "metadata": {
    "id": "mF3Qi2tyaWBd"
   },
   "outputs": [
    {
     "data": {
      "text/html": [
       "<div>\n",
       "<style scoped>\n",
       "    .dataframe tbody tr th:only-of-type {\n",
       "        vertical-align: middle;\n",
       "    }\n",
       "\n",
       "    .dataframe tbody tr th {\n",
       "        vertical-align: top;\n",
       "    }\n",
       "\n",
       "    .dataframe thead th {\n",
       "        text-align: right;\n",
       "    }\n",
       "</style>\n",
       "<table border=\"1\" class=\"dataframe\">\n",
       "  <thead>\n",
       "    <tr style=\"text-align: right;\">\n",
       "      <th></th>\n",
       "      <th>avgAnnCount</th>\n",
       "      <th>avgDeathsPerYear</th>\n",
       "      <th>incidenceRate</th>\n",
       "      <th>medIncome</th>\n",
       "      <th>popEst2015</th>\n",
       "      <th>povertyPercent</th>\n",
       "      <th>studyPerCap</th>\n",
       "      <th>binnedInc</th>\n",
       "      <th>MedianAge</th>\n",
       "      <th>MedianAgeMale</th>\n",
       "      <th>...</th>\n",
       "      <th>PctEmpPrivCoverage</th>\n",
       "      <th>PctPublicCoverage</th>\n",
       "      <th>PctPublicCoverageAlone</th>\n",
       "      <th>PctWhite</th>\n",
       "      <th>PctBlack</th>\n",
       "      <th>PctAsian</th>\n",
       "      <th>PctOtherRace</th>\n",
       "      <th>PctMarriedHouseholds</th>\n",
       "      <th>BirthRate</th>\n",
       "      <th>TARGET_deathRate</th>\n",
       "    </tr>\n",
       "  </thead>\n",
       "  <tbody>\n",
       "    <tr>\n",
       "      <th>0</th>\n",
       "      <td>19.0</td>\n",
       "      <td>8</td>\n",
       "      <td>481.5</td>\n",
       "      <td>50038</td>\n",
       "      <td>2704</td>\n",
       "      <td>11.1</td>\n",
       "      <td>0.0</td>\n",
       "      <td>(48021.6, 51046.4]</td>\n",
       "      <td>48.4</td>\n",
       "      <td>49.6</td>\n",
       "      <td>...</td>\n",
       "      <td>35.7</td>\n",
       "      <td>34.7</td>\n",
       "      <td>9.9</td>\n",
       "      <td>96.032049</td>\n",
       "      <td>0.724914</td>\n",
       "      <td>0.000000</td>\n",
       "      <td>0.000000</td>\n",
       "      <td>62.511457</td>\n",
       "      <td>15.157116</td>\n",
       "      <td>160.3</td>\n",
       "    </tr>\n",
       "    <tr>\n",
       "      <th>1</th>\n",
       "      <td>88.0</td>\n",
       "      <td>34</td>\n",
       "      <td>486.0</td>\n",
       "      <td>59399</td>\n",
       "      <td>14844</td>\n",
       "      <td>9.7</td>\n",
       "      <td>0.0</td>\n",
       "      <td>(54545.6, 61494.5]</td>\n",
       "      <td>41.9</td>\n",
       "      <td>41.3</td>\n",
       "      <td>...</td>\n",
       "      <td>50.8</td>\n",
       "      <td>32.1</td>\n",
       "      <td>12.8</td>\n",
       "      <td>97.537344</td>\n",
       "      <td>0.719957</td>\n",
       "      <td>0.080743</td>\n",
       "      <td>0.040371</td>\n",
       "      <td>61.641045</td>\n",
       "      <td>3.293510</td>\n",
       "      <td>194.9</td>\n",
       "    </tr>\n",
       "    <tr>\n",
       "      <th>2</th>\n",
       "      <td>195.0</td>\n",
       "      <td>83</td>\n",
       "      <td>475.7</td>\n",
       "      <td>39721</td>\n",
       "      <td>25164</td>\n",
       "      <td>18.5</td>\n",
       "      <td>0.0</td>\n",
       "      <td>(37413.8, 40362.7]</td>\n",
       "      <td>48.9</td>\n",
       "      <td>47.9</td>\n",
       "      <td>...</td>\n",
       "      <td>32.1</td>\n",
       "      <td>49.8</td>\n",
       "      <td>21.6</td>\n",
       "      <td>97.576566</td>\n",
       "      <td>0.360770</td>\n",
       "      <td>0.411749</td>\n",
       "      <td>0.082350</td>\n",
       "      <td>53.978102</td>\n",
       "      <td>6.390328</td>\n",
       "      <td>196.5</td>\n",
       "    </tr>\n",
       "    <tr>\n",
       "      <th>3</th>\n",
       "      <td>116.0</td>\n",
       "      <td>55</td>\n",
       "      <td>496.6</td>\n",
       "      <td>30299</td>\n",
       "      <td>17917</td>\n",
       "      <td>28.1</td>\n",
       "      <td>0.0</td>\n",
       "      <td>[22640, 34218.1]</td>\n",
       "      <td>44.2</td>\n",
       "      <td>42.7</td>\n",
       "      <td>...</td>\n",
       "      <td>24.2</td>\n",
       "      <td>53.2</td>\n",
       "      <td>33.0</td>\n",
       "      <td>97.908650</td>\n",
       "      <td>0.161731</td>\n",
       "      <td>0.306731</td>\n",
       "      <td>0.340193</td>\n",
       "      <td>51.013143</td>\n",
       "      <td>5.124836</td>\n",
       "      <td>230.9</td>\n",
       "    </tr>\n",
       "    <tr>\n",
       "      <th>4</th>\n",
       "      <td>80.0</td>\n",
       "      <td>35</td>\n",
       "      <td>372.0</td>\n",
       "      <td>39625</td>\n",
       "      <td>14058</td>\n",
       "      <td>17.4</td>\n",
       "      <td>0.0</td>\n",
       "      <td>(37413.8, 40362.7]</td>\n",
       "      <td>45.0</td>\n",
       "      <td>42.2</td>\n",
       "      <td>...</td>\n",
       "      <td>33.4</td>\n",
       "      <td>43.0</td>\n",
       "      <td>24.7</td>\n",
       "      <td>82.672551</td>\n",
       "      <td>1.834103</td>\n",
       "      <td>0.682617</td>\n",
       "      <td>8.253465</td>\n",
       "      <td>50.566426</td>\n",
       "      <td>3.897033</td>\n",
       "      <td>162.2</td>\n",
       "    </tr>\n",
       "  </tbody>\n",
       "</table>\n",
       "<p>5 rows × 34 columns</p>\n",
       "</div>"
      ],
      "text/plain": [
       "   avgAnnCount  avgDeathsPerYear  incidenceRate  medIncome  popEst2015  \\\n",
       "0         19.0                 8          481.5      50038        2704   \n",
       "1         88.0                34          486.0      59399       14844   \n",
       "2        195.0                83          475.7      39721       25164   \n",
       "3        116.0                55          496.6      30299       17917   \n",
       "4         80.0                35          372.0      39625       14058   \n",
       "\n",
       "   povertyPercent  studyPerCap           binnedInc  MedianAge  MedianAgeMale  \\\n",
       "0            11.1          0.0  (48021.6, 51046.4]       48.4           49.6   \n",
       "1             9.7          0.0  (54545.6, 61494.5]       41.9           41.3   \n",
       "2            18.5          0.0  (37413.8, 40362.7]       48.9           47.9   \n",
       "3            28.1          0.0    [22640, 34218.1]       44.2           42.7   \n",
       "4            17.4          0.0  (37413.8, 40362.7]       45.0           42.2   \n",
       "\n",
       "   ...  PctEmpPrivCoverage PctPublicCoverage  PctPublicCoverageAlone  \\\n",
       "0  ...                35.7              34.7                     9.9   \n",
       "1  ...                50.8              32.1                    12.8   \n",
       "2  ...                32.1              49.8                    21.6   \n",
       "3  ...                24.2              53.2                    33.0   \n",
       "4  ...                33.4              43.0                    24.7   \n",
       "\n",
       "    PctWhite  PctBlack  PctAsian  PctOtherRace  PctMarriedHouseholds  \\\n",
       "0  96.032049  0.724914  0.000000      0.000000             62.511457   \n",
       "1  97.537344  0.719957  0.080743      0.040371             61.641045   \n",
       "2  97.576566  0.360770  0.411749      0.082350             53.978102   \n",
       "3  97.908650  0.161731  0.306731      0.340193             51.013143   \n",
       "4  82.672551  1.834103  0.682617      8.253465             50.566426   \n",
       "\n",
       "   BirthRate  TARGET_deathRate  \n",
       "0  15.157116             160.3  \n",
       "1   3.293510             194.9  \n",
       "2   6.390328             196.5  \n",
       "3   5.124836             230.9  \n",
       "4   3.897033             162.2  \n",
       "\n",
       "[5 rows x 34 columns]"
      ]
     },
     "execution_count": 2,
     "metadata": {},
     "output_type": "execute_result"
    }
   ],
   "source": [
    "cancer_data  = pd.read_csv(\"https://raw.githubusercontent.com/dphi-official/Datasets/master/cancer_death_rate/Training_set_label.csv\" )\n",
    "cancer_data.head()"
   ]
  },
  {
   "cell_type": "markdown",
   "metadata": {
    "id": "RHVlzyz6aWBd"
   },
   "source": [
    "### Perform Exploratory Data Analysis"
   ]
  },
  {
   "cell_type": "code",
   "execution_count": 3,
   "metadata": {
    "id": "pNC0AQc6aWBd"
   },
   "outputs": [
    {
     "name": "stdout",
     "output_type": "stream",
     "text": [
      "<class 'pandas.core.frame.DataFrame'>\n",
      "RangeIndex: 3051 entries, 0 to 3050\n",
      "Data columns (total 34 columns):\n",
      " #   Column                   Non-Null Count  Dtype  \n",
      "---  ------                   --------------  -----  \n",
      " 0   avgAnnCount              3051 non-null   float64\n",
      " 1   avgDeathsPerYear         3051 non-null   int64  \n",
      " 2   incidenceRate            3051 non-null   float64\n",
      " 3   medIncome                3051 non-null   int64  \n",
      " 4   popEst2015               3051 non-null   int64  \n",
      " 5   povertyPercent           3051 non-null   float64\n",
      " 6   studyPerCap              3051 non-null   float64\n",
      " 7   binnedInc                3051 non-null   object \n",
      " 8   MedianAge                3051 non-null   float64\n",
      " 9   MedianAgeMale            3051 non-null   float64\n",
      " 10  MedianAgeFemale          3051 non-null   float64\n",
      " 11  Geography                3051 non-null   object \n",
      " 12  AvgHouseholdSize         3051 non-null   float64\n",
      " 13  PercentMarried           3051 non-null   float64\n",
      " 14  PctNoHS18_24             3051 non-null   float64\n",
      " 15  PctHS18_24               3051 non-null   float64\n",
      " 16  PctSomeCol18_24          785 non-null    float64\n",
      " 17  PctBachDeg18_24          3051 non-null   float64\n",
      " 18  PctHS25_Over             3051 non-null   float64\n",
      " 19  PctBachDeg25_Over        3051 non-null   float64\n",
      " 20  PctEmployed16_Over       2899 non-null   float64\n",
      " 21  PctUnemployed16_Over     3051 non-null   float64\n",
      " 22  PctPrivateCoverage       3051 non-null   float64\n",
      " 23  PctPrivateCoverageAlone  2447 non-null   float64\n",
      " 24  PctEmpPrivCoverage       3051 non-null   float64\n",
      " 25  PctPublicCoverage        3051 non-null   float64\n",
      " 26  PctPublicCoverageAlone   3051 non-null   float64\n",
      " 27  PctWhite                 3051 non-null   float64\n",
      " 28  PctBlack                 3051 non-null   float64\n",
      " 29  PctAsian                 3051 non-null   float64\n",
      " 30  PctOtherRace             3051 non-null   float64\n",
      " 31  PctMarriedHouseholds     3051 non-null   float64\n",
      " 32  BirthRate                3051 non-null   float64\n",
      " 33  TARGET_deathRate         3051 non-null   float64\n",
      "dtypes: float64(29), int64(3), object(2)\n",
      "memory usage: 810.5+ KB\n",
      "None\n",
      "        avgAnnCount  avgDeathsPerYear  incidenceRate      medIncome  \\\n",
      "count   3051.000000       3051.000000    3051.000000    3051.000000   \n",
      "mean     570.668154        176.000983     449.007042   46902.917076   \n",
      "std     1250.546532        445.042777      52.886386   11902.460659   \n",
      "min        6.000000          3.000000     211.100000   22640.000000   \n",
      "25%       80.000000         29.000000     421.800000   38752.000000   \n",
      "50%      171.000000         62.000000     453.549422   45098.000000   \n",
      "75%      508.000000        148.000000     481.300000   52410.500000   \n",
      "max    24965.000000       9445.000000    1206.900000  125635.000000   \n",
      "\n",
      "         popEst2015  povertyPercent  studyPerCap    MedianAge  MedianAgeMale  \\\n",
      "count  3.051000e+03     3051.000000  3051.000000  3051.000000    3051.000000   \n",
      "mean   9.495799e+04       16.880367   158.695936    44.303540      39.600885   \n",
      "std    2.761007e+05        6.340462   544.035590    38.704107       5.177629   \n",
      "min    8.270000e+02        3.200000     0.000000    22.300000      22.400000   \n",
      "25%    1.236850e+04       12.200000     0.000000    37.900000      36.400000   \n",
      "50%    2.677700e+04       15.900000     0.000000    41.000000      39.500000   \n",
      "75%    6.853600e+04       20.400000    86.581336    43.900000      42.500000   \n",
      "max    5.238216e+06       47.000000  9762.308998   525.600000      64.700000   \n",
      "\n",
      "       MedianAgeFemale  ...  PctEmpPrivCoverage  PctPublicCoverage  \\\n",
      "count      3051.000000  ...         3051.000000        3051.000000   \n",
      "mean         42.234579  ...           41.342347          36.287545   \n",
      "std           5.253474  ...            9.327793           7.748442   \n",
      "min          22.300000  ...           14.300000          11.800000   \n",
      "25%          39.200000  ...           34.700000          31.000000   \n",
      "50%          42.400000  ...           41.300000          36.300000   \n",
      "75%          45.300000  ...           47.700000          41.400000   \n",
      "max          65.700000  ...           70.700000          65.100000   \n",
      "\n",
      "       PctPublicCoverageAlone     PctWhite     PctBlack     PctAsian  \\\n",
      "count             3051.000000  3051.000000  3051.000000  3051.000000   \n",
      "mean                19.198820    84.005243     9.166570     1.198561   \n",
      "std                  6.023164    16.126982    14.676772     2.369931   \n",
      "min                  2.600000    11.008762     0.000000     0.000000   \n",
      "25%                 14.900000    78.012571     0.616576     0.261748   \n",
      "50%                 18.800000    90.318790     2.276756     0.557031   \n",
      "75%                 23.000000    95.577396    10.326954     1.189955   \n",
      "max                 46.600000   100.000000    84.866024    35.640183   \n",
      "\n",
      "       PctOtherRace  PctMarriedHouseholds    BirthRate  TARGET_deathRate  \n",
      "count   3051.000000           3051.000000  3051.000000       3051.000000  \n",
      "mean       1.864829             51.355837     5.608851        178.909767  \n",
      "std        3.235204              6.524964     1.955201         27.570075  \n",
      "min        0.000000             23.915652     0.000000         66.300000  \n",
      "25%        0.282825             47.736828     4.499936        161.400000  \n",
      "50%        0.791571             51.757925     5.384471        178.300000  \n",
      "75%        2.080241             55.465803     6.473896        195.500000  \n",
      "max       38.743747             71.703057    21.326165        362.800000  \n",
      "\n",
      "[8 rows x 32 columns]\n",
      "avgAnnCount                   0\n",
      "avgDeathsPerYear              0\n",
      "incidenceRate                 0\n",
      "medIncome                     0\n",
      "popEst2015                    0\n",
      "povertyPercent                0\n",
      "studyPerCap                   0\n",
      "binnedInc                     0\n",
      "MedianAge                     0\n",
      "MedianAgeMale                 0\n",
      "MedianAgeFemale               0\n",
      "Geography                     0\n",
      "AvgHouseholdSize              0\n",
      "PercentMarried                0\n",
      "PctNoHS18_24                  0\n",
      "PctHS18_24                    0\n",
      "PctSomeCol18_24            2266\n",
      "PctBachDeg18_24               0\n",
      "PctHS25_Over                  0\n",
      "PctBachDeg25_Over             0\n",
      "PctEmployed16_Over          152\n",
      "PctUnemployed16_Over          0\n",
      "PctPrivateCoverage            0\n",
      "PctPrivateCoverageAlone     604\n",
      "PctEmpPrivCoverage            0\n",
      "PctPublicCoverage             0\n",
      "PctPublicCoverageAlone        0\n",
      "PctWhite                      0\n",
      "PctBlack                      0\n",
      "PctAsian                      0\n",
      "PctOtherRace                  0\n",
      "PctMarriedHouseholds          0\n",
      "BirthRate                     0\n",
      "TARGET_deathRate              0\n",
      "dtype: int64\n"
     ]
    }
   ],
   "source": [
    "\n",
    "print(cancer_data.info())\n",
    "print(cancer_data.describe())\n",
    "print(cancer_data.isnull().sum())\n"
   ]
  },
  {
   "cell_type": "code",
   "execution_count": 8,
   "metadata": {},
   "outputs": [
    {
     "data": {
      "text/plain": [
       "array([[<AxesSubplot:title={'center':'avgAnnCount'}>,\n",
       "        <AxesSubplot:title={'center':'avgDeathsPerYear'}>,\n",
       "        <AxesSubplot:title={'center':'incidenceRate'}>,\n",
       "        <AxesSubplot:title={'center':'medIncome'}>,\n",
       "        <AxesSubplot:title={'center':'popEst2015'}>,\n",
       "        <AxesSubplot:title={'center':'povertyPercent'}>],\n",
       "       [<AxesSubplot:title={'center':'studyPerCap'}>,\n",
       "        <AxesSubplot:title={'center':'MedianAge'}>,\n",
       "        <AxesSubplot:title={'center':'MedianAgeMale'}>,\n",
       "        <AxesSubplot:title={'center':'MedianAgeFemale'}>,\n",
       "        <AxesSubplot:title={'center':'AvgHouseholdSize'}>,\n",
       "        <AxesSubplot:title={'center':'PercentMarried'}>],\n",
       "       [<AxesSubplot:title={'center':'PctNoHS18_24'}>,\n",
       "        <AxesSubplot:title={'center':'PctHS18_24'}>,\n",
       "        <AxesSubplot:title={'center':'PctSomeCol18_24'}>,\n",
       "        <AxesSubplot:title={'center':'PctBachDeg18_24'}>,\n",
       "        <AxesSubplot:title={'center':'PctHS25_Over'}>,\n",
       "        <AxesSubplot:title={'center':'PctBachDeg25_Over'}>],\n",
       "       [<AxesSubplot:title={'center':'PctEmployed16_Over'}>,\n",
       "        <AxesSubplot:title={'center':'PctUnemployed16_Over'}>,\n",
       "        <AxesSubplot:title={'center':'PctPrivateCoverage'}>,\n",
       "        <AxesSubplot:title={'center':'PctPrivateCoverageAlone'}>,\n",
       "        <AxesSubplot:title={'center':'PctEmpPrivCoverage'}>,\n",
       "        <AxesSubplot:title={'center':'PctPublicCoverage'}>],\n",
       "       [<AxesSubplot:title={'center':'PctPublicCoverageAlone'}>,\n",
       "        <AxesSubplot:title={'center':'PctWhite'}>,\n",
       "        <AxesSubplot:title={'center':'PctBlack'}>,\n",
       "        <AxesSubplot:title={'center':'PctAsian'}>,\n",
       "        <AxesSubplot:title={'center':'PctOtherRace'}>,\n",
       "        <AxesSubplot:title={'center':'PctMarriedHouseholds'}>],\n",
       "       [<AxesSubplot:title={'center':'BirthRate'}>,\n",
       "        <AxesSubplot:title={'center':'TARGET_deathRate'}>,\n",
       "        <AxesSubplot:>, <AxesSubplot:>, <AxesSubplot:>, <AxesSubplot:>]],\n",
       "      dtype=object)"
      ]
     },
     "execution_count": 8,
     "metadata": {},
     "output_type": "execute_result"
    },
    {
     "data": {
      "image/png": "[encoded data removed]",
      "text/plain": [
       "<Figure size 1440x1080 with 36 Axes>"
      ]
     },
     "metadata": {
      "needs_background": "light"
     },
     "output_type": "display_data"
    }
   ],
   "source": [
    "a=cancer_data.drop(['binnedInc','Geography'],axis=1)\n",
    "a.hist(bins=50,figsize=(20,15))"
   ]
  },
  {
   "cell_type": "markdown",
   "metadata": {
    "id": "-6Xcy9FeaWBd"
   },
   "source": [
    "### Separate the Input and Target Features of the data"
   ]
  },
  {
   "cell_type": "code",
   "execution_count": 9,
   "metadata": {
    "id": "yxHNqG1PaWBd"
   },
   "outputs": [],
   "source": [
    "X=cancer_data.drop(['TARGET_deathRate'], axis = 1) \n",
    "y=cancer_data['TARGET_deathRate']\n"
   ]
  },
  {
   "cell_type": "markdown",
   "metadata": {
    "id": "Bsyki2hjaWBd"
   },
   "source": [
    "### Split the data into Train and Test Sets"
   ]
  },
  {
   "cell_type": "code",
   "execution_count": 10,
   "metadata": {
    "id": "nMPnzPZ2aWBd"
   },
   "outputs": [],
   "source": [
    "from sklearn.model_selection import train_test_split\n",
    "X_train,X_valid,y_train,y_valid = train_test_split(X, y, train_size=0.8, test_size=0.2,\n",
    "                                                                random_state=1)\n"
   ]
  },
  {
   "cell_type": "markdown",
   "metadata": {
    "id": "o5UZz7b9I9eJ"
   },
   "source": [
    "## Task 2"
   ]
  },
  {
   "cell_type": "markdown",
   "metadata": {
    "id": "kNuCKaCkaWBd"
   },
   "source": [
    "### Perform Data Preparation Steps"
   ]
  },
  {
   "cell_type": "code",
   "execution_count": 12,
   "metadata": {
    "id": "5zj3nJaHaWBd"
   },
   "outputs": [],
   "source": [
    "#imputing missing values in three columns with missing values ,all of which have less than 80% missing values\n",
    "# I will use pipeline \n",
    "from sklearn.preprocessing import StandardScaler\n",
    "numerical_cols = [cname for cname in X_train if \n",
    "                X_train[cname].dtype in ['int64', 'float64']]\n",
    "# taking categorical columns with low cardinality\n",
    "categorical_cols = [cname for cname in X_train if\n",
    "                    X_train[cname].nunique() < 10 and \n",
    "                    X_train[cname].dtype == \"object\"]\n",
    "my_cols = categorical_cols + numerical_cols\n",
    "X_train = X_train[my_cols].copy()\n",
    "X_valid = X_valid[my_cols].copy()\n",
    "from sklearn.compose import ColumnTransformer\n",
    "from sklearn.pipeline import Pipeline\n",
    "from sklearn.preprocessing import OneHotEncoder\n",
    "from sklearn.impute import SimpleImputer\n",
    "numerical_transformer = Pipeline(steps=[('imputer',SimpleImputer(strategy='mean',fill_value='missing')),\n",
    "                                        ('std_scaler',StandardScaler())])\n",
    "\n",
    "categorical_transformer = Pipeline(steps=[\n",
    "    ('imputer', SimpleImputer(strategy='most_frequent',fill_value='missing')),\n",
    "    ('onehot', OneHotEncoder(handle_unknown='ignore')),\n",
    "    \n",
    "])\n",
    "preprocessor = ColumnTransformer(\n",
    "    transformers=[\n",
    "        ('num', numerical_transformer, numerical_cols),\n",
    "        ('cat', categorical_transformer, categorical_cols)\n",
    "    ])\n"
   ]
  },
  {
   "cell_type": "markdown",
   "metadata": {
    "id": "3homAQVbaWBd"
   },
   "source": [
    "## Task 3"
   ]
  },
  {
   "cell_type": "markdown",
   "metadata": {
    "id": "M3GISQkNaWBd"
   },
   "source": [
    "### Build any Machine Learning Model of your choice"
   ]
  },
  {
   "cell_type": "code",
   "execution_count": 13,
   "metadata": {
    "id": "JlNJAYvdaWBd"
   },
   "outputs": [
    {
     "data": {
      "text/plain": [
       "Pipeline(steps=[('preprocessor',\n",
       "                 ColumnTransformer(transformers=[('num',\n",
       "                                                  Pipeline(steps=[('imputer',\n",
       "                                                                   SimpleImputer(fill_value='missing')),\n",
       "                                                                  ('std_scaler',\n",
       "                                                                   StandardScaler())]),\n",
       "                                                  ['avgAnnCount',\n",
       "                                                   'avgDeathsPerYear',\n",
       "                                                   'incidenceRate', 'medIncome',\n",
       "                                                   'popEst2015',\n",
       "                                                   'povertyPercent',\n",
       "                                                   'studyPerCap', 'MedianAge',\n",
       "                                                   'MedianAgeMale',\n",
       "                                                   'MedianAgeFemale',\n",
       "                                                   'AvgHouseholdSize',\n",
       "                                                   'PercentMa...\n",
       "                                                   'PctPublicCoverage',\n",
       "                                                   'PctPublicCoverageAlone',\n",
       "                                                   'PctWhite', 'PctBlack',\n",
       "                                                   'PctAsian', 'PctOtherRace',\n",
       "                                                   'PctMarriedHouseholds', ...]),\n",
       "                                                 ('cat',\n",
       "                                                  Pipeline(steps=[('imputer',\n",
       "                                                                   SimpleImputer(fill_value='missing',\n",
       "                                                                                 strategy='most_frequent')),\n",
       "                                                                  ('onehot',\n",
       "                                                                   OneHotEncoder(handle_unknown='ignore'))]),\n",
       "                                                  [])])),\n",
       "                ('model',\n",
       "                 RandomForestRegressor(n_estimators=500, n_jobs=-1,\n",
       "                                       random_state=1))])"
      ]
     },
     "execution_count": 13,
     "metadata": {},
     "output_type": "execute_result"
    }
   ],
   "source": [
    "# Random Forest Regression\n",
    "from sklearn.ensemble import RandomForestRegressor\n",
    "model = RandomForestRegressor(n_estimators = 500, random_state = 1, n_jobs = -1)\n",
    "clf = Pipeline(steps=[('preprocessor', preprocessor),\n",
    "                      ('model', model)\n",
    "                     ])\n",
    "clf.fit(X_train, y_train)\n"
   ]
  },
  {
   "cell_type": "markdown",
   "metadata": {
    "id": "GlytbSbgaWBd"
   },
   "source": [
    "### Evaluate your model with various Evaluation Metrics"
   ]
  },
  {
   "cell_type": "code",
   "execution_count": 14,
   "metadata": {
    "id": "Jju88gE3aWBe"
   },
   "outputs": [
    {
     "name": "stdout",
     "output_type": "stream",
     "text": [
      "MAE: 9.947253027823285\n",
      "MSE: 199.49868431319229\n",
      "R2: 0.749597014261661\n"
     ]
    }
   ],
   "source": [
    "from sklearn.metrics import mean_absolute_error\n",
    "from sklearn.metrics import mean_squared_error\n",
    "from sklearn.metrics import r2_score\n",
    "\n",
    "preds = clf.predict(X_valid)\n",
    "print('MAE:', mean_absolute_error(y_valid, preds))\n",
    "print('MSE:', mean_squared_error(y_valid, preds))\n",
    "print('R2:', r2_score(y_valid, preds))\n"
   ]
  },
  {
   "cell_type": "markdown",
   "metadata": {
    "id": "ZM1_hZ8PaWBe"
   },
   "source": [
    "### Try out other Machine Learning Models and Evaluate them"
   ]
  },
  {
   "cell_type": "code",
   "execution_count": 40,
   "metadata": {
    "id": "WX8K9gDraWBe"
   },
   "outputs": [
    {
     "name": "stdout",
     "output_type": "stream",
     "text": [
      "MAE: 13.762122946497675\n",
      "MSE: 345.15304013401425\n",
      "R2: 0.5667773344783573\n",
      "MAE: 13.762112469101334\n",
      "MSE: 345.1532128687325\n",
      "R2: 0.5667771176684603\n"
     ]
    }
   ],
   "source": [
    "# Simple and ridge linear regression .Left out decision tree given that it is kind of incorporated in random forest\n",
    "from sklearn.linear_model import LinearRegression\n",
    "model = LinearRegression()\n",
    "reg = Pipeline(steps=[('preprocessor', preprocessor),\n",
    "                      ('model', model)\n",
    "                     ])\n",
    "reg.fit(X_train, y_train)\n",
    "preds = reg.predict(X_valid)\n",
    "print('MAE:', mean_absolute_error(y_valid, preds))\n",
    "print('MSE:', mean_squared_error(y_valid, preds))\n",
    "print('R2:', r2_score(y_valid, preds))\n",
    "\n",
    "from sklearn.linear_model import Ridge\n",
    "ridge = Ridge(alpha=.3)\n",
    "model=ridge\n",
    "rreg=Pipeline(steps=[('preprocessor', preprocessor),\n",
    "                      ('model', model)\n",
    "                     ])\n",
    "rreg.fit(X_train, y_train)\n",
    "preds = rreg.predict(X_valid)\n",
    "print('MAE:', mean_absolute_error(y_valid, preds))\n",
    "print('MSE:', mean_squared_error(y_valid, preds))\n",
    "print('R2:', r2_score(y_valid, preds))"
   ]
  },
  {
   "cell_type": "code",
   "execution_count": 44,
   "metadata": {},
   "outputs": [
    {
     "name": "stdout",
     "output_type": "stream",
     "text": [
      "<class 'pandas.core.frame.DataFrame'>\n",
      "Int64Index: 2440 entries, 1810 to 1061\n",
      "Data columns (total 31 columns):\n",
      " #   Column                   Non-Null Count  Dtype  \n",
      "---  ------                   --------------  -----  \n",
      " 0   avgAnnCount              2440 non-null   float64\n",
      " 1   avgDeathsPerYear         2440 non-null   int64  \n",
      " 2   incidenceRate            2440 non-null   float64\n",
      " 3   medIncome                2440 non-null   int64  \n",
      " 4   popEst2015               2440 non-null   int64  \n",
      " 5   povertyPercent           2440 non-null   float64\n",
      " 6   studyPerCap              2440 non-null   float64\n",
      " 7   MedianAge                2440 non-null   float64\n",
      " 8   MedianAgeMale            2440 non-null   float64\n",
      " 9   MedianAgeFemale          2440 non-null   float64\n",
      " 10  AvgHouseholdSize         2440 non-null   float64\n",
      " 11  PercentMarried           2440 non-null   float64\n",
      " 12  PctNoHS18_24             2440 non-null   float64\n",
      " 13  PctHS18_24               2440 non-null   float64\n",
      " 14  PctSomeCol18_24          644 non-null    float64\n",
      " 15  PctBachDeg18_24          2440 non-null   float64\n",
      " 16  PctHS25_Over             2440 non-null   float64\n",
      " 17  PctBachDeg25_Over        2440 non-null   float64\n",
      " 18  PctEmployed16_Over       2325 non-null   float64\n",
      " 19  PctUnemployed16_Over     2440 non-null   float64\n",
      " 20  PctPrivateCoverage       2440 non-null   float64\n",
      " 21  PctPrivateCoverageAlone  1953 non-null   float64\n",
      " 22  PctEmpPrivCoverage       2440 non-null   float64\n",
      " 23  PctPublicCoverage        2440 non-null   float64\n",
      " 24  PctPublicCoverageAlone   2440 non-null   float64\n",
      " 25  PctWhite                 2440 non-null   float64\n",
      " 26  PctBlack                 2440 non-null   float64\n",
      " 27  PctAsian                 2440 non-null   float64\n",
      " 28  PctOtherRace             2440 non-null   float64\n",
      " 29  PctMarriedHouseholds     2440 non-null   float64\n",
      " 30  BirthRate                2440 non-null   float64\n",
      "dtypes: float64(28), int64(3)\n",
      "memory usage: 610.0 KB\n"
     ]
    }
   ],
   "source": [
    "#Checking my X_train since I had issues with fitting of model\n",
    "X_train[my_cols].copy().info()"
   ]
  },
  {
   "cell_type": "markdown",
   "metadata": {
    "id": "eVHZUyJqaWBe"
   },
   "source": [
    "## Task 4"
   ]
  },
  {
   "cell_type": "code",
   "execution_count": 46,
   "metadata": {},
   "outputs": [],
   "source": [
    "#Function for getting the best hyperparameters\n",
    "def print_results(results):\n",
    "    print('BEST PARAMS: {}\\n'.format(results.best_params_))\n",
    "\n",
    "    means = results.cv_results_['mean_test_score']\n",
    "    stds = results.cv_results_['std_test_score']\n",
    "    for mean, std, params in zip(means, stds, results.cv_results_['params']):\n",
    "        print('{} (+/-{}) for {}'.format(round(mean, 3), round(std * 2, 3), params))"
   ]
  },
  {
   "cell_type": "markdown",
   "metadata": {
    "id": "HODz7FJtaWBe"
   },
   "source": [
    "### Perform Hyperparameter Tuning"
   ]
  },
  {
   "cell_type": "code",
   "execution_count": 48,
   "metadata": {
    "id": "CJOuMecmaWBe"
   },
   "outputs": [
    {
     "data": {
      "text/plain": [
       "Pipeline(steps=[('preprocessor',\n",
       "                 ColumnTransformer(transformers=[('num',\n",
       "                                                  SimpleImputer(fill_value='missing'),\n",
       "                                                  ['avgAnnCount',\n",
       "                                                   'avgDeathsPerYear',\n",
       "                                                   'incidenceRate', 'medIncome',\n",
       "                                                   'popEst2015',\n",
       "                                                   'povertyPercent',\n",
       "                                                   'studyPerCap', 'MedianAge',\n",
       "                                                   'MedianAgeMale',\n",
       "                                                   'MedianAgeFemale',\n",
       "                                                   'AvgHouseholdSize',\n",
       "                                                   'PercentMarried',\n",
       "                                                   'PctNoHS18_24', 'PctHS18_24',\n",
       "                                                   'PctSomeCol18_24',\n",
       "                                                   'PctBachD...\n",
       "                                                                   OneHotEncoder(handle_unknown='ignore'))]),\n",
       "                                                  [])])),\n",
       "                ('model',\n",
       "                 RandomizedSearchCV(cv=10,\n",
       "                                    estimator=RandomForestRegressor(n_estimators=500,\n",
       "                                                                    n_jobs=-1,\n",
       "                                                                    random_state=1),\n",
       "                                    n_iter=50, n_jobs=-1,\n",
       "                                    param_distributions={'max_depth': [1, 2, 3,\n",
       "                                                                       4, 5, 6,\n",
       "                                                                       7, 8, 9,\n",
       "                                                                       10, 11,\n",
       "                                                                       12, 13,\n",
       "                                                                       14, 15,\n",
       "                                                                       16, 17,\n",
       "                                                                       18, 19],\n",
       "                                                         'max_features': ['auto',\n",
       "                                                                          'sqrt',\n",
       "                                                                          'log2'],\n",
       "                                                         'min_samples_split': array([0.1, 0.2, 0.3, 0.4, 0.5, 0.6, 0.7, 0.8, 0.9, 1. ])}))])"
      ]
     },
     "execution_count": 48,
     "metadata": {},
     "output_type": "execute_result"
    }
   ],
   "source": [
    "from sklearn.ensemble import RandomForestRegressor\n",
    "RFReg = RandomForestRegressor(n_estimators = 500, random_state = 1, n_jobs = -1) \n",
    "\n",
    "param_grid = { \n",
    "    'max_features' : [\"auto\", \"sqrt\", \"log2\"],\n",
    "    'min_samples_split' : np.linspace(0.1, 1.0, 10),\n",
    "     'max_depth' : [x for x in range(1,20)]}\n",
    "\n",
    "\n",
    "from sklearn.model_selection import RandomizedSearchCV\n",
    "CV_rfr = RandomizedSearchCV(estimator=RFReg, param_distributions =param_grid, n_jobs = -1, cv= 10, n_iter = 50)\n",
    "\n",
    "clf1 = Pipeline(steps=[('preprocessor', preprocessor),\n",
    "                      ('model', CV_rfr)\n",
    "                     ])\n",
    "clf1.fit(X_train, y_train)"
   ]
  },
  {
   "cell_type": "code",
   "execution_count": 50,
   "metadata": {},
   "outputs": [
    {
     "data": {
      "text/plain": [
       "{'min_samples_split': 0.1, 'max_features': 'auto', 'max_depth': 11}"
      ]
     },
     "execution_count": 50,
     "metadata": {},
     "output_type": "execute_result"
    }
   ],
   "source": [
    "CV_rfr.best_params_"
   ]
  },
  {
   "cell_type": "code",
   "execution_count": 51,
   "metadata": {},
   "outputs": [
    {
     "name": "stdout",
     "output_type": "stream",
     "text": [
      "BEST PARAMS: {'min_samples_split': 0.1, 'max_features': 'auto', 'max_depth': 11}\n",
      "\n",
      "0.291 (+/-0.067) for {'min_samples_split': 0.30000000000000004, 'max_features': 'sqrt', 'max_depth': 12}\n",
      "0.193 (+/-0.093) for {'min_samples_split': 0.5, 'max_features': 'auto', 'max_depth': 13}\n",
      "0.224 (+/-0.055) for {'min_samples_split': 0.4, 'max_features': 'sqrt', 'max_depth': 2}\n",
      "0.435 (+/-0.081) for {'min_samples_split': 0.1, 'max_features': 'log2', 'max_depth': 18}\n",
      "-0.002 (+/-0.006) for {'min_samples_split': 0.9, 'max_features': 'sqrt', 'max_depth': 1}\n",
      "-0.002 (+/-0.006) for {'min_samples_split': 0.7000000000000001, 'max_features': 'sqrt', 'max_depth': 4}\n",
      "0.295 (+/-0.065) for {'min_samples_split': 0.1, 'max_features': 'log2', 'max_depth': 2}\n",
      "0.221 (+/-0.056) for {'min_samples_split': 0.4, 'max_features': 'log2', 'max_depth': 12}\n",
      "0.285 (+/-0.086) for {'min_samples_split': 0.30000000000000004, 'max_features': 'auto', 'max_depth': 18}\n",
      "-0.002 (+/-0.006) for {'min_samples_split': 0.9, 'max_features': 'auto', 'max_depth': 15}\n",
      "0.21 (+/-0.053) for {'min_samples_split': 0.5, 'max_features': 'sqrt', 'max_depth': 15}\n",
      "-0.002 (+/-0.006) for {'min_samples_split': 0.8, 'max_features': 'auto', 'max_depth': 2}\n",
      "-0.002 (+/-0.006) for {'min_samples_split': 1.0, 'max_features': 'sqrt', 'max_depth': 5}\n",
      "0.29 (+/-0.067) for {'min_samples_split': 0.30000000000000004, 'max_features': 'sqrt', 'max_depth': 4}\n",
      "0.48 (+/-0.088) for {'min_samples_split': 0.1, 'max_features': 'auto', 'max_depth': 11}\n",
      "0.283 (+/-0.066) for {'min_samples_split': 0.30000000000000004, 'max_features': 'log2', 'max_depth': 9}\n",
      "-0.002 (+/-0.006) for {'min_samples_split': 0.8, 'max_features': 'log2', 'max_depth': 8}\n",
      "0.291 (+/-0.067) for {'min_samples_split': 0.30000000000000004, 'max_features': 'sqrt', 'max_depth': 13}\n",
      "0.194 (+/-0.047) for {'min_samples_split': 0.5, 'max_features': 'log2', 'max_depth': 1}\n",
      "0.435 (+/-0.081) for {'min_samples_split': 0.1, 'max_features': 'log2', 'max_depth': 13}\n",
      "0.359 (+/-0.079) for {'min_samples_split': 0.2, 'max_features': 'log2', 'max_depth': 8}\n",
      "-0.002 (+/-0.006) for {'min_samples_split': 0.8, 'max_features': 'log2', 'max_depth': 15}\n",
      "0.201 (+/-0.05) for {'min_samples_split': 0.6, 'max_features': 'sqrt', 'max_depth': 9}\n",
      "0.283 (+/-0.066) for {'min_samples_split': 0.30000000000000004, 'max_features': 'log2', 'max_depth': 14}\n",
      "-0.002 (+/-0.006) for {'min_samples_split': 0.7000000000000001, 'max_features': 'auto', 'max_depth': 11}\n",
      "0.193 (+/-0.093) for {'min_samples_split': 0.5, 'max_features': 'auto', 'max_depth': 3}\n",
      "0.227 (+/-0.083) for {'min_samples_split': 0.4, 'max_features': 'auto', 'max_depth': 19}\n",
      "0.193 (+/-0.093) for {'min_samples_split': 0.6, 'max_features': 'auto', 'max_depth': 3}\n",
      "-0.002 (+/-0.006) for {'min_samples_split': 0.8, 'max_features': 'auto', 'max_depth': 4}\n",
      "0.283 (+/-0.066) for {'min_samples_split': 0.30000000000000004, 'max_features': 'log2', 'max_depth': 15}\n",
      "-0.002 (+/-0.006) for {'min_samples_split': 0.9, 'max_features': 'sqrt', 'max_depth': 13}\n",
      "0.395 (+/-0.084) for {'min_samples_split': 0.2, 'max_features': 'auto', 'max_depth': 18}\n",
      "-0.002 (+/-0.006) for {'min_samples_split': 0.7000000000000001, 'max_features': 'auto', 'max_depth': 3}\n",
      "0.445 (+/-0.079) for {'min_samples_split': 0.1, 'max_features': 'sqrt', 'max_depth': 15}\n",
      "0.362 (+/-0.075) for {'min_samples_split': 0.2, 'max_features': 'sqrt', 'max_depth': 4}\n",
      "-0.002 (+/-0.006) for {'min_samples_split': 0.9, 'max_features': 'log2', 'max_depth': 9}\n",
      "-0.002 (+/-0.006) for {'min_samples_split': 0.8, 'max_features': 'sqrt', 'max_depth': 15}\n",
      "0.283 (+/-0.066) for {'min_samples_split': 0.30000000000000004, 'max_features': 'log2', 'max_depth': 12}\n",
      "0.201 (+/-0.05) for {'min_samples_split': 0.6, 'max_features': 'sqrt', 'max_depth': 17}\n",
      "-0.002 (+/-0.006) for {'min_samples_split': 0.9, 'max_features': 'sqrt', 'max_depth': 7}\n",
      "0.204 (+/-0.052) for {'min_samples_split': 0.5, 'max_features': 'log2', 'max_depth': 15}\n",
      "0.291 (+/-0.067) for {'min_samples_split': 0.30000000000000004, 'max_features': 'sqrt', 'max_depth': 10}\n",
      "-0.002 (+/-0.006) for {'min_samples_split': 1.0, 'max_features': 'log2', 'max_depth': 15}\n",
      "-0.002 (+/-0.006) for {'min_samples_split': 0.7000000000000001, 'max_features': 'sqrt', 'max_depth': 19}\n",
      "0.194 (+/-0.047) for {'min_samples_split': 0.6, 'max_features': 'log2', 'max_depth': 14}\n",
      "-0.002 (+/-0.006) for {'min_samples_split': 0.7000000000000001, 'max_features': 'log2', 'max_depth': 17}\n",
      "0.435 (+/-0.081) for {'min_samples_split': 0.1, 'max_features': 'log2', 'max_depth': 14}\n",
      "-0.002 (+/-0.006) for {'min_samples_split': 0.8, 'max_features': 'log2', 'max_depth': 16}\n",
      "-0.002 (+/-0.006) for {'min_samples_split': 1.0, 'max_features': 'auto', 'max_depth': 10}\n",
      "-0.002 (+/-0.006) for {'min_samples_split': 1.0, 'max_features': 'sqrt', 'max_depth': 19}\n"
     ]
    }
   ],
   "source": [
    "print_results(CV_rfr)"
   ]
  },
  {
   "cell_type": "markdown",
   "metadata": {
    "id": "d28iH4_MaWBe"
   },
   "source": [
    "### Evaluate your model "
   ]
  },
  {
   "cell_type": "code",
   "execution_count": 52,
   "metadata": {
    "id": "wKq_Rxl3aWBe"
   },
   "outputs": [
    {
     "name": "stdout",
     "output_type": "stream",
     "text": [
      "MAE: 14.969275583178423\n",
      "MSE: 391.51196694625776\n",
      "R2: 0.5085894134433148\n"
     ]
    }
   ],
   "source": [
    "#Incorporating best hyperparameters and evelauating the model\n",
    "from sklearn.ensemble import RandomForestRegressor\n",
    "model = RandomForestRegressor(n_estimators = 500, random_state = 1, n_jobs = -1,max_features='auto',min_samples_split=0.1,max_depth=11)\n",
    "clf2 = Pipeline(steps=[('preprocessor', preprocessor),\n",
    "                      ('model', model)\n",
    "                     ])\n",
    "clf2.fit(X_train, y_train)\n",
    "\n",
    "preds=clf2.predict(X_valid)\n",
    "print('MAE:', mean_absolute_error(y_valid, preds))\n",
    "print('MSE:', mean_squared_error(y_valid, preds))\n",
    "print('R2:', r2_score(y_valid, preds))\n"
   ]
  },
  {
   "cell_type": "markdown",
   "metadata": {
    "id": "psVszfmDaWBe"
   },
   "source": [
    "## Task 5"
   ]
  },
  {
   "cell_type": "markdown",
   "metadata": {
    "id": "ZB-XnSkSaWBe"
   },
   "source": [
    "### Use any Feature Selection Technique and observe if the model created by selected features performs better than the previous model"
   ]
  },
  {
   "cell_type": "code",
   "execution_count": 67,
   "metadata": {
    "id": "Tq9SRrQQKZUe"
   },
   "outputs": [
    {
     "data": {
      "text/plain": [
       "array([False,  True,  True,  True, False,  True, False, False, False,\n",
       "        True, False, False, False,  True, False, False,  True,  True,\n",
       "        True,  True,  True, False, False, False,  True, False,  True,\n",
       "       False,  True,  True, False])"
      ]
     },
     "execution_count": 67,
     "metadata": {},
     "output_type": "execute_result"
    }
   ],
   "source": [
    "#Randomized feature selection\n",
    "from sklearn.feature_selection import RFE #importing RFE class from sklearn library\n",
    "rfe = RFE(estimator=RandomForestRegressor(n_estimators = 500, random_state = 1, n_jobs = -1), step=1)\n",
    "model = RandomForestRegressor(n_estimators = 500, random_state = 1, n_jobs = -1)\n",
    "pipe = Pipeline([('preprocessor', preprocessor),('FeatureSelection',rfe), ('Model', model)])\n",
    "pipe.fit(X_train, y_train)\n",
    "rfe.support_"
   ]
  },
  {
   "cell_type": "code",
   "execution_count": 68,
   "metadata": {
    "id": "5JZJC9aPaWBe"
   },
   "outputs": [
    {
     "data": {
      "text/html": [
       "<div>\n",
       "<style scoped>\n",
       "    .dataframe tbody tr th:only-of-type {\n",
       "        vertical-align: middle;\n",
       "    }\n",
       "\n",
       "    .dataframe tbody tr th {\n",
       "        vertical-align: top;\n",
       "    }\n",
       "\n",
       "    .dataframe thead th {\n",
       "        text-align: right;\n",
       "    }\n",
       "</style>\n",
       "<table border=\"1\" class=\"dataframe\">\n",
       "  <thead>\n",
       "    <tr style=\"text-align: right;\">\n",
       "      <th></th>\n",
       "      <th>Rank</th>\n",
       "    </tr>\n",
       "  </thead>\n",
       "  <tbody>\n",
       "    <tr>\n",
       "      <th>avgAnnCount</th>\n",
       "      <td>False</td>\n",
       "    </tr>\n",
       "    <tr>\n",
       "      <th>avgDeathsPerYear</th>\n",
       "      <td>True</td>\n",
       "    </tr>\n",
       "    <tr>\n",
       "      <th>incidenceRate</th>\n",
       "      <td>True</td>\n",
       "    </tr>\n",
       "    <tr>\n",
       "      <th>medIncome</th>\n",
       "      <td>True</td>\n",
       "    </tr>\n",
       "    <tr>\n",
       "      <th>popEst2015</th>\n",
       "      <td>False</td>\n",
       "    </tr>\n",
       "    <tr>\n",
       "      <th>povertyPercent</th>\n",
       "      <td>True</td>\n",
       "    </tr>\n",
       "    <tr>\n",
       "      <th>studyPerCap</th>\n",
       "      <td>False</td>\n",
       "    </tr>\n",
       "    <tr>\n",
       "      <th>MedianAge</th>\n",
       "      <td>False</td>\n",
       "    </tr>\n",
       "    <tr>\n",
       "      <th>MedianAgeMale</th>\n",
       "      <td>False</td>\n",
       "    </tr>\n",
       "    <tr>\n",
       "      <th>MedianAgeFemale</th>\n",
       "      <td>True</td>\n",
       "    </tr>\n",
       "    <tr>\n",
       "      <th>AvgHouseholdSize</th>\n",
       "      <td>False</td>\n",
       "    </tr>\n",
       "    <tr>\n",
       "      <th>PercentMarried</th>\n",
       "      <td>False</td>\n",
       "    </tr>\n",
       "    <tr>\n",
       "      <th>PctNoHS18_24</th>\n",
       "      <td>False</td>\n",
       "    </tr>\n",
       "    <tr>\n",
       "      <th>PctHS18_24</th>\n",
       "      <td>True</td>\n",
       "    </tr>\n",
       "    <tr>\n",
       "      <th>PctSomeCol18_24</th>\n",
       "      <td>False</td>\n",
       "    </tr>\n",
       "    <tr>\n",
       "      <th>PctBachDeg18_24</th>\n",
       "      <td>False</td>\n",
       "    </tr>\n",
       "    <tr>\n",
       "      <th>PctHS25_Over</th>\n",
       "      <td>True</td>\n",
       "    </tr>\n",
       "    <tr>\n",
       "      <th>PctBachDeg25_Over</th>\n",
       "      <td>True</td>\n",
       "    </tr>\n",
       "    <tr>\n",
       "      <th>PctEmployed16_Over</th>\n",
       "      <td>True</td>\n",
       "    </tr>\n",
       "    <tr>\n",
       "      <th>PctUnemployed16_Over</th>\n",
       "      <td>True</td>\n",
       "    </tr>\n",
       "    <tr>\n",
       "      <th>PctPrivateCoverage</th>\n",
       "      <td>True</td>\n",
       "    </tr>\n",
       "    <tr>\n",
       "      <th>PctPrivateCoverageAlone</th>\n",
       "      <td>False</td>\n",
       "    </tr>\n",
       "    <tr>\n",
       "      <th>PctEmpPrivCoverage</th>\n",
       "      <td>False</td>\n",
       "    </tr>\n",
       "    <tr>\n",
       "      <th>PctPublicCoverage</th>\n",
       "      <td>False</td>\n",
       "    </tr>\n",
       "    <tr>\n",
       "      <th>PctPublicCoverageAlone</th>\n",
       "      <td>True</td>\n",
       "    </tr>\n",
       "    <tr>\n",
       "      <th>PctWhite</th>\n",
       "      <td>False</td>\n",
       "    </tr>\n",
       "    <tr>\n",
       "      <th>PctBlack</th>\n",
       "      <td>True</td>\n",
       "    </tr>\n",
       "    <tr>\n",
       "      <th>PctAsian</th>\n",
       "      <td>False</td>\n",
       "    </tr>\n",
       "    <tr>\n",
       "      <th>PctOtherRace</th>\n",
       "      <td>True</td>\n",
       "    </tr>\n",
       "    <tr>\n",
       "      <th>PctMarriedHouseholds</th>\n",
       "      <td>True</td>\n",
       "    </tr>\n",
       "    <tr>\n",
       "      <th>BirthRate</th>\n",
       "      <td>False</td>\n",
       "    </tr>\n",
       "  </tbody>\n",
       "</table>\n",
       "</div>"
      ],
      "text/plain": [
       "                          Rank\n",
       "avgAnnCount              False\n",
       "avgDeathsPerYear          True\n",
       "incidenceRate             True\n",
       "medIncome                 True\n",
       "popEst2015               False\n",
       "povertyPercent            True\n",
       "studyPerCap              False\n",
       "MedianAge                False\n",
       "MedianAgeMale            False\n",
       "MedianAgeFemale           True\n",
       "AvgHouseholdSize         False\n",
       "PercentMarried           False\n",
       "PctNoHS18_24             False\n",
       "PctHS18_24                True\n",
       "PctSomeCol18_24          False\n",
       "PctBachDeg18_24          False\n",
       "PctHS25_Over              True\n",
       "PctBachDeg25_Over         True\n",
       "PctEmployed16_Over        True\n",
       "PctUnemployed16_Over      True\n",
       "PctPrivateCoverage        True\n",
       "PctPrivateCoverageAlone  False\n",
       "PctEmpPrivCoverage       False\n",
       "PctPublicCoverage        False\n",
       "PctPublicCoverageAlone    True\n",
       "PctWhite                 False\n",
       "PctBlack                  True\n",
       "PctAsian                 False\n",
       "PctOtherRace              True\n",
       "PctMarriedHouseholds      True\n",
       "BirthRate                False"
      ]
     },
     "execution_count": 68,
     "metadata": {},
     "output_type": "execute_result"
    }
   ],
   "source": [
    "pd.DataFrame(rfe.support_,index=X_train.columns,columns=['Rank'])"
   ]
  },
  {
   "cell_type": "code",
   "execution_count": 89,
   "metadata": {},
   "outputs": [
    {
     "name": "stdout",
     "output_type": "stream",
     "text": [
      "MAE: 9.948387234042611\n",
      "MSE: 200.15516928438768\n",
      "R2: 0.7487730198706926\n"
     ]
    }
   ],
   "source": [
    "#Using model with reduced features to make predictions\n",
    "predsi=pipe.predict(X_valid)\n",
    "print('MAE:', mean_absolute_error(y_valid, predsi))\n",
    "print('MSE:', mean_squared_error(y_valid, predsi))\n",
    "print('R2:', r2_score(y_valid, predsi))"
   ]
  },
  {
   "cell_type": "code",
   "execution_count": 90,
   "metadata": {},
   "outputs": [
    {
     "name": "stdout",
     "output_type": "stream",
     "text": [
      "<class 'pandas.core.frame.DataFrame'>\n",
      "RangeIndex: 762 entries, 0 to 761\n",
      "Data columns (total 33 columns):\n",
      " #   Column                   Non-Null Count  Dtype  \n",
      "---  ------                   --------------  -----  \n",
      " 0   avgAnnCount              762 non-null    float64\n",
      " 1   avgDeathsPerYear         762 non-null    int64  \n",
      " 2   incidenceRate            762 non-null    float64\n",
      " 3   medIncome                762 non-null    int64  \n",
      " 4   popEst2015               762 non-null    int64  \n",
      " 5   povertyPercent           762 non-null    float64\n",
      " 6   studyPerCap              762 non-null    float64\n",
      " 7   binnedInc                762 non-null    object \n",
      " 8   MedianAge                762 non-null    float64\n",
      " 9   MedianAgeMale            762 non-null    float64\n",
      " 10  MedianAgeFemale          762 non-null    float64\n",
      " 11  Geography                762 non-null    object \n",
      " 12  AvgHouseholdSize         762 non-null    float64\n",
      " 13  PercentMarried           762 non-null    float64\n",
      " 14  PctNoHS18_24             762 non-null    float64\n",
      " 15  PctHS18_24               762 non-null    float64\n",
      " 16  PctSomeCol18_24          182 non-null    float64\n",
      " 17  PctBachDeg18_24          762 non-null    float64\n",
      " 18  PctHS25_Over             762 non-null    float64\n",
      " 19  PctBachDeg25_Over        762 non-null    float64\n",
      " 20  PctEmployed16_Over       729 non-null    float64\n",
      " 21  PctUnemployed16_Over     762 non-null    float64\n",
      " 22  PctPrivateCoverage       762 non-null    float64\n",
      " 23  PctPrivateCoverageAlone  614 non-null    float64\n",
      " 24  PctEmpPrivCoverage       762 non-null    float64\n",
      " 25  PctPublicCoverage        762 non-null    float64\n",
      " 26  PctPublicCoverageAlone   762 non-null    float64\n",
      " 27  PctWhite                 762 non-null    float64\n",
      " 28  PctBlack                 762 non-null    float64\n",
      " 29  PctAsian                 762 non-null    float64\n",
      " 30  PctOtherRace             762 non-null    float64\n",
      " 31  PctMarriedHouseholds     762 non-null    float64\n",
      " 32  BirthRate                762 non-null    float64\n",
      "dtypes: float64(28), int64(3), object(2)\n",
      "memory usage: 196.6+ KB\n"
     ]
    }
   ],
   "source": [
    "test_data = pd.read_csv('https://raw.githubusercontent.com/dphi-official/Datasets/master/cancer_death_rate/Testing_set_label.csv')\n",
    "test_data.info()"
   ]
  },
  {
   "cell_type": "code",
   "execution_count": 91,
   "metadata": {},
   "outputs": [
    {
     "name": "stderr",
     "output_type": "stream",
     "text": [
      "C:\\Users\\ENKOYAOUNDE\\anaconda3\\lib\\site-packages\\sklearn\\compose\\_column_transformer.py:440: FutureWarning: Given feature/column names or counts do not match the ones for the data given during fit. This will fail from v0.24.\n",
      "  FutureWarning)\n"
     ]
    }
   ],
   "source": [
    "predso=pipe.predict(test_data)\n",
    "res = pd.DataFrame(predso) #target is nothing but the final predictions of your model on input features of your new unseen test data\n",
    "# its important for comparison. Here \"test_new\" is your new test dataset\n",
    "res.columns = ['prediction']\n",
    "res.to_csv(\"submission3.csv\",index =False)   "
   ]
  },
  {
   "cell_type": "markdown",
   "metadata": {
    "id": "Px3-FQRzaWBe"
   },
   "source": [
    "That is the end of this assignment. We hope you learnt a lot along the way. \n",
    "Make sure you complete the other 2 parts (leaderboard submission and quiz) as well.\n",
    "\n",
    "Now, download this notebook and submit it on the platform: https://dphi.tech/practice/challenge/52#notebooks \n"
   ]
  },
  {
   "cell_type": "code",
   "execution_count": 92,
   "metadata": {},
   "outputs": [
    {
     "data": {
      "text/plain": [
       "array([139.5328, 196.6894, 164.4568, 158.5848, 147.9402, 177.6006,\n",
       "       186.4842, 163.5668, 151.2622, 179.1046, 146.087 , 194.1144,\n",
       "       163.9932, 165.7658, 205.73  , 167.796 , 189.2326, 165.6052,\n",
       "       163.3146, 177.5166, 176.2916, 233.4264, 168.9044, 179.6212,\n",
       "       135.855 , 160.8456, 177.6818, 237.6268, 160.4426, 173.7546,\n",
       "       161.0766, 169.8364, 168.0418, 168.5438, 153.485 , 164.1828,\n",
       "       152.2412, 183.1474, 158.9348, 173.8406, 202.5818, 174.9096,\n",
       "       176.2322, 177.4418, 162.2544, 147.7098, 164.5818, 189.8384,\n",
       "       191.2462, 177.0508, 150.3802, 160.3874, 182.0298, 171.5948,\n",
       "       164.8514, 189.1702, 182.9396, 196.4242, 176.7896, 161.7632,\n",
       "       167.6074, 188.7968, 179.2618, 184.5342, 175.2914, 171.0088,\n",
       "       184.4456, 170.2042, 185.9462, 159.9262, 197.8108, 177.7682,\n",
       "       176.119 , 143.3222, 185.5938, 169.664 , 174.2806, 176.5376,\n",
       "       159.275 , 189.4358, 172.2306, 159.0326, 197.2556, 177.0408,\n",
       "       187.9528, 165.048 , 159.1974, 201.243 , 192.122 , 197.9432,\n",
       "       201.486 , 170.6954, 143.745 , 170.3574, 181.554 , 166.6794,\n",
       "       190.2772, 144.4184, 171.0268, 193.7706, 137.9658, 166.2128,\n",
       "       175.119 , 179.5122, 195.2776, 173.015 , 169.9424, 153.3476,\n",
       "       197.0148, 199.655 , 179.1586, 164.4884, 159.9434, 145.006 ,\n",
       "       198.1914, 171.019 , 181.7954, 185.3252, 230.5512, 157.4708,\n",
       "       196.985 , 172.8348, 159.1524, 188.0974, 194.7932, 189.4876,\n",
       "       167.4498, 231.3522, 171.8522, 190.8818, 183.1304, 188.7624,\n",
       "       187.8108, 227.7354, 157.7518, 164.025 , 169.4306, 158.1136,\n",
       "       182.3786, 182.8488, 197.6414, 165.92  , 198.6642, 175.0266,\n",
       "       180.5136, 147.3018, 198.569 , 131.3602, 210.949 , 171.5144,\n",
       "       169.6754, 206.1048, 179.979 , 178.5844, 155.1268, 127.5464,\n",
       "       185.7624, 165.9424, 200.4554, 114.7274, 156.4762, 157.5386,\n",
       "       162.8474, 183.486 , 152.3458, 167.263 , 209.5528, 176.6474,\n",
       "       216.981 , 203.4004, 179.5432, 194.8102, 162.8078, 187.777 ,\n",
       "       157.8648, 212.934 , 184.767 , 167.1574, 152.062 , 165.7948,\n",
       "       177.7058, 183.736 , 156.5788, 215.3336, 182.262 , 173.0152,\n",
       "       157.4298, 202.25  , 203.8036, 175.191 , 193.2432, 183.1676,\n",
       "       198.5814, 162.4548, 150.7106, 156.1896, 189.6704, 179.3356,\n",
       "       158.8676, 195.7294, 162.6888, 186.8794, 170.4096, 175.7874,\n",
       "       172.355 , 176.7734, 178.7958, 172.7384, 173.612 , 154.0592,\n",
       "       191.4342, 178.294 , 173.7522, 183.4476, 169.081 , 157.2616,\n",
       "       216.9246, 191.8872, 196.3906, 131.362 , 175.7466, 163.3174,\n",
       "       206.651 , 173.979 , 190.871 , 189.6172, 190.8136, 187.5056,\n",
       "       158.3154, 165.1042, 187.2674, 170.015 , 159.1364, 172.537 ,\n",
       "       196.146 , 158.657 , 153.4476, 193.8034, 173.007 , 181.539 ,\n",
       "       198.8518, 195.967 , 153.024 , 192.3954, 208.0426, 160.9594,\n",
       "       164.379 , 185.2052, 197.9232, 250.0834, 192.061 , 187.484 ,\n",
       "       122.4548, 119.2668, 162.0034, 190.1574, 168.8814, 169.288 ,\n",
       "       169.4638, 170.6142, 165.738 , 170.891 , 185.4652, 158.4818,\n",
       "       167.9614, 196.0998, 174.1428, 191.5978, 190.4078, 181.487 ,\n",
       "       193.7154, 182.5094, 156.755 , 201.7976, 172.7538, 200.2354,\n",
       "       184.1466, 125.4868, 158.2952, 178.6212, 214.0184, 163.2256,\n",
       "       225.0192, 157.4412, 198.4544, 172.4046, 192.0408, 182.214 ,\n",
       "       192.2996, 175.499 , 165.2848, 176.6092, 157.824 , 205.0094,\n",
       "       165.6684, 158.343 , 180.5494, 187.946 , 164.854 , 174.4312,\n",
       "       140.7532, 149.0068, 192.235 , 194.3686, 163.8878, 169.8526,\n",
       "       150.6692, 213.9274, 154.4178, 172.866 , 183.9494, 191.097 ,\n",
       "       174.6114, 181.622 , 162.9286, 159.653 , 190.064 , 180.2642,\n",
       "       188.5872, 155.2656, 184.3304, 162.5674, 158.4748, 180.136 ,\n",
       "       164.5272, 172.5076, 215.9462, 170.7366, 171.0216, 185.7526,\n",
       "       174.6746, 191.6184, 212.6072, 178.2564, 179.1486, 160.6928,\n",
       "       163.401 , 170.6192, 142.9796, 188.3418, 174.12  , 166.2138,\n",
       "       216.0052, 188.7702, 202.15  , 168.4152, 160.9458, 191.3588,\n",
       "       180.2384, 205.723 , 171.9614, 176.9928, 187.9132, 163.7142,\n",
       "       160.7386, 220.3662, 168.2664, 178.6338, 169.8594, 171.4526,\n",
       "       190.4138, 167.1316, 174.5172, 137.8228, 172.4828, 160.4266,\n",
       "       175.0858, 222.495 , 158.8074, 169.8632, 177.3516, 184.2922,\n",
       "       196.5008, 162.6884, 189.4926, 180.3774, 166.654 , 187.9174,\n",
       "       179.6638, 210.3124, 198.8866, 187.4288, 195.3862, 172.7186,\n",
       "       169.4422, 174.7088, 169.0344, 177.3718, 213.5274, 191.2988,\n",
       "       175.3158, 150.6838, 157.4802, 162.4484, 185.8558, 176.4832,\n",
       "       188.3342, 155.7952, 171.5964, 184.2886, 183.349 , 199.2812,\n",
       "       125.9982, 185.6104, 189.1386, 158.497 , 194.0948, 156.139 ,\n",
       "       183.2536, 158.5428, 172.2388, 160.432 , 207.8204, 212.3566,\n",
       "       150.0252, 187.4448, 168.8696, 178.821 , 181.8116, 161.4524,\n",
       "       190.217 , 159.2004, 200.1116, 204.7426, 192.9732, 173.9332,\n",
       "       200.1242, 188.0562, 179.5104, 187.7676, 167.3836, 164.3262,\n",
       "       191.4038, 192.5916, 168.4622, 157.998 , 172.0142, 169.3984,\n",
       "       192.1378, 143.593 , 193.2552, 171.3644, 158.843 , 188.1678,\n",
       "       226.0372, 208.695 , 226.6724, 168.4542, 184.3994, 154.4738,\n",
       "       157.285 , 198.109 , 185.6214, 185.6548, 177.6688, 153.9806,\n",
       "       183.4494, 192.852 , 209.2794, 166.5198, 183.7338, 197.5196,\n",
       "       152.8948, 180.1188, 202.2524, 150.859 , 195.6632, 162.9778,\n",
       "       170.3706, 180.4498, 159.9114, 174.5992, 201.6696, 144.7866,\n",
       "       170.5668, 134.6   , 213.2672, 177.1384, 151.9306, 186.7282,\n",
       "       206.8016, 174.5044, 163.4434, 169.7182, 171.4248, 152.2094,\n",
       "       178.9732, 206.125 , 216.746 , 197.9082, 167.334 , 146.6082,\n",
       "       210.2662, 165.1086, 160.6372, 245.8844, 185.7862, 218.8954,\n",
       "       159.8228, 179.8426, 196.7196, 190.6354, 196.85  , 174.2852,\n",
       "       181.9274, 202.7646, 158.6776, 166.3208, 158.673 , 138.5914,\n",
       "       199.9998, 182.812 , 176.0356, 200.6748, 190.0248, 166.793 ,\n",
       "       190.4526, 171.4064, 182.278 , 180.2732, 157.8112, 172.0142,\n",
       "       180.1814, 158.4844, 181.8182, 195.386 , 167.213 , 171.0464,\n",
       "       164.7524, 235.607 , 174.3688, 172.9748, 182.686 , 156.4142,\n",
       "       175.9958, 183.0368, 189.8574, 188.9258, 233.1736, 155.1264,\n",
       "       191.5022, 161.6516, 178.6192, 157.2092, 175.367 , 170.4658,\n",
       "       166.0408, 200.955 , 173.2048, 181.712 , 171.387 , 164.5906,\n",
       "       195.1806, 143.6432, 194.5266, 161.9308, 177.5394, 158.4882,\n",
       "       208.751 , 176.2494, 183.9774, 172.895 , 161.3812, 174.1972,\n",
       "       168.7038, 180.9088, 166.5288, 219.6536, 207.4856, 176.827 ,\n",
       "       172.3658, 183.9674, 182.9882, 199.074 , 183.686 , 146.997 ,\n",
       "       202.2116, 183.8338, 176.6882, 145.2824, 206.742 , 188.6354,\n",
       "       196.5596, 147.6828, 160.0842, 189.738 , 230.5562, 199.638 ,\n",
       "       161.4994, 194.7334, 178.3798, 164.9458, 195.8762, 175.5774,\n",
       "       195.167 , 164.2996, 188.5066, 164.6756, 200.3418, 176.5726,\n",
       "       184.2088, 187.0692, 134.6704, 208.5066, 164.4246, 177.87  ,\n",
       "       180.1518, 186.5524, 180.4152, 195.1444, 158.0228, 175.301 ,\n",
       "       206.1386, 184.176 , 171.9858, 192.0788, 182.6176, 162.0936,\n",
       "       167.8648, 194.586 , 174.2588, 160.9814, 189.0724, 175.6208,\n",
       "       190.8888, 193.434 , 190.3716, 173.2556, 175.212 , 173.8206,\n",
       "       169.07  , 152.3662, 221.7154, 165.5658, 190.89  , 237.8392,\n",
       "       204.3148, 201.7178, 173.3892, 163.2022, 190.4396, 211.1386,\n",
       "       225.0598, 195.8848, 187.9456, 173.7966, 199.2916, 172.2404,\n",
       "       236.0152, 199.661 , 187.0622, 174.0286, 171.7658, 152.3088,\n",
       "       177.5718, 180.4772, 185.086 , 178.0912, 175.7334, 225.9774,\n",
       "       196.0194, 164.6058, 178.8686, 149.6322, 183.3534, 187.7802,\n",
       "       193.5736, 193.2754, 192.6262, 192.3678, 176.4318, 182.4928,\n",
       "       183.2854, 164.9588, 200.0698, 142.4538, 188.4032, 151.8322,\n",
       "       201.3002, 178.263 , 173.912 , 203.7024, 156.0022, 179.733 ,\n",
       "       182.7986, 179.1306, 172.994 , 190.4878, 184.5744, 153.1284,\n",
       "       181.0004, 142.6508, 149.3742, 189.214 , 207.8132, 138.3076,\n",
       "       157.2142, 167.3892, 153.623 , 173.9022, 203.0464, 163.4196,\n",
       "       201.8118, 175.9656, 189.9424, 183.8338, 152.2178, 175.6904,\n",
       "       174.1652, 230.88  , 192.8344, 189.2112, 167.6554, 170.0162,\n",
       "       195.652 , 168.2082, 168.8536, 206.096 , 183.2602, 171.9592,\n",
       "       159.8818, 155.9604, 225.6384, 178.0834, 173.149 , 158.2446,\n",
       "       174.322 , 255.4752, 175.249 , 179.4816, 201.815 , 156.2102,\n",
       "       203.9276, 170.881 , 173.5474, 158.61  , 187.5476, 158.5968,\n",
       "       141.1844, 191.9618, 198.4184, 185.3926, 151.3084, 208.1252,\n",
       "       127.3396, 171.2284, 154.2536, 188.7732, 155.7222, 189.5862,\n",
       "       165.496 , 197.6102, 166.2396, 201.2022, 222.823 , 171.7866,\n",
       "       184.992 , 213.8348, 190.384 , 181.9356, 201.5848, 150.849 ])"
      ]
     },
     "execution_count": 92,
     "metadata": {},
     "output_type": "execute_result"
    }
   ],
   "source": [
    "predso"
   ]
  },
  {
   "cell_type": "code",
   "execution_count": 93,
   "metadata": {},
   "outputs": [
    {
     "data": {
      "text/plain": [
       "'C:\\\\Users\\\\ENKOYAOUNDE\\\\anaconda3\\\\Data_Science_Bootcamp-master'"
      ]
     },
     "execution_count": 93,
     "metadata": {},
     "output_type": "execute_result"
    }
   ],
   "source": [
    "pwd"
   ]
  },
  {
   "cell_type": "code",
   "execution_count": null,
   "metadata": {},
   "outputs": [],
   "source": []
  }
 ],
 "metadata": {
  "colab": {
   "collapsed_sections": [],
   "name": "Assignment 3: Notebook Submission.ipynb",
   "provenance": []
  },
  "kernelspec": {
   "display_name": "Python 3",
   "language": "python",
   "name": "python3"
  },
  "language_info": {
   "codemirror_mode": {
    "name": "ipython",
    "version": 3
   },
   "file_extension": ".py",
   "mimetype": "text/x-python",
   "name": "python",
   "nbconvert_exporter": "python",
   "pygments_lexer": "ipython3",
   "version": "3.7.6"
  }
 },
 "nbformat": 4,
 "nbformat_minor": 1
}
